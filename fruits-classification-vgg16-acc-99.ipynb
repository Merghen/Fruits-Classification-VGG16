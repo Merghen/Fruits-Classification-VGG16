{
 "cells": [
  {
   "cell_type": "code",
   "execution_count": 1,
   "id": "62fc83c1",
   "metadata": {
    "execution": {
     "iopub.execute_input": "2024-07-31T15:44:12.580212Z",
     "iopub.status.busy": "2024-07-31T15:44:12.579798Z",
     "iopub.status.idle": "2024-07-31T15:44:26.418572Z",
     "shell.execute_reply": "2024-07-31T15:44:26.417668Z"
    },
    "papermill": {
     "duration": 13.853411,
     "end_time": "2024-07-31T15:44:26.421055",
     "exception": false,
     "start_time": "2024-07-31T15:44:12.567644",
     "status": "completed"
    },
    "tags": []
   },
   "outputs": [
    {
     "name": "stderr",
     "output_type": "stream",
     "text": [
      "2024-07-31 15:44:14.464967: E external/local_xla/xla/stream_executor/cuda/cuda_dnn.cc:9261] Unable to register cuDNN factory: Attempting to register factory for plugin cuDNN when one has already been registered\n",
      "2024-07-31 15:44:14.465082: E external/local_xla/xla/stream_executor/cuda/cuda_fft.cc:607] Unable to register cuFFT factory: Attempting to register factory for plugin cuFFT when one has already been registered\n",
      "2024-07-31 15:44:14.589428: E external/local_xla/xla/stream_executor/cuda/cuda_blas.cc:1515] Unable to register cuBLAS factory: Attempting to register factory for plugin cuBLAS when one has already been registered\n"
     ]
    }
   ],
   "source": [
    "\n",
    "import numpy as np\n",
    "import matplotlib.pyplot as plt\n",
    "import cv2\n",
    "import tensorflow as tf\n",
    "import keras\n",
    "from keras.models import Model\n",
    "from keras.layers import  Dense, Input, GlobalAveragePooling2D, Dropout, Flatten\n",
    "from keras.src.legacy.preprocessing.image import ImageDataGenerator\n",
    "from keras.applications.vgg16 import preprocess_input\n",
    "from tensorflow.keras.callbacks import EarlyStopping\n",
    "from sklearn.metrics import accuracy_score"
   ]
  },
  {
   "cell_type": "code",
   "execution_count": 2,
   "id": "df9fba84",
   "metadata": {
    "execution": {
     "iopub.execute_input": "2024-07-31T15:44:26.449215Z",
     "iopub.status.busy": "2024-07-31T15:44:26.447945Z",
     "iopub.status.idle": "2024-07-31T15:44:26.453313Z",
     "shell.execute_reply": "2024-07-31T15:44:26.452275Z"
    },
    "papermill": {
     "duration": 0.021453,
     "end_time": "2024-07-31T15:44:26.455624",
     "exception": false,
     "start_time": "2024-07-31T15:44:26.434171",
     "status": "completed"
    },
    "tags": []
   },
   "outputs": [],
   "source": [
    "gen=ImageDataGenerator(preprocessing_function=preprocess_input)"
   ]
  },
  {
   "cell_type": "code",
   "execution_count": 3,
   "id": "e3468b55",
   "metadata": {
    "execution": {
     "iopub.execute_input": "2024-07-31T15:44:26.478741Z",
     "iopub.status.busy": "2024-07-31T15:44:26.478364Z",
     "iopub.status.idle": "2024-07-31T15:44:26.959457Z",
     "shell.execute_reply": "2024-07-31T15:44:26.958134Z"
    },
    "papermill": {
     "duration": 0.496004,
     "end_time": "2024-07-31T15:44:26.962035",
     "exception": false,
     "start_time": "2024-07-31T15:44:26.466031",
     "status": "completed"
    },
    "tags": []
   },
   "outputs": [
    {
     "name": "stdout",
     "output_type": "stream",
     "text": [
      "Found 6231 images belonging to 24 classes.\n"
     ]
    }
   ],
   "source": [
    "train_data=gen.flow_from_directory(directory='/kaggle/input/fruits/fruits-360-original-size/fruits-360-original-size/Training',\n",
    "                                              class_mode='categorical',\n",
    "                                              target_size=(128,128),\n",
    "                                              batch_size=32,\n",
    "                                              shuffle=True)"
   ]
  },
  {
   "cell_type": "code",
   "execution_count": 4,
   "id": "f635de93",
   "metadata": {
    "execution": {
     "iopub.execute_input": "2024-07-31T15:44:26.985399Z",
     "iopub.status.busy": "2024-07-31T15:44:26.985024Z",
     "iopub.status.idle": "2024-07-31T15:44:26.993395Z",
     "shell.execute_reply": "2024-07-31T15:44:26.992302Z"
    },
    "papermill": {
     "duration": 0.022719,
     "end_time": "2024-07-31T15:44:26.995806",
     "exception": false,
     "start_time": "2024-07-31T15:44:26.973087",
     "status": "completed"
    },
    "tags": []
   },
   "outputs": [
    {
     "data": {
      "text/plain": [
       "array([ 0,  0,  0, ..., 23, 23, 23], dtype=int32)"
      ]
     },
     "execution_count": 4,
     "metadata": {},
     "output_type": "execute_result"
    }
   ],
   "source": [
    "train_data.classes"
   ]
  },
  {
   "cell_type": "code",
   "execution_count": 5,
   "id": "bf784991",
   "metadata": {
    "execution": {
     "iopub.execute_input": "2024-07-31T15:44:27.020892Z",
     "iopub.status.busy": "2024-07-31T15:44:27.020214Z",
     "iopub.status.idle": "2024-07-31T15:44:27.031564Z",
     "shell.execute_reply": "2024-07-31T15:44:27.030078Z"
    },
    "papermill": {
     "duration": 0.02845,
     "end_time": "2024-07-31T15:44:27.035171",
     "exception": false,
     "start_time": "2024-07-31T15:44:27.006721",
     "status": "completed"
    },
    "tags": []
   },
   "outputs": [
    {
     "data": {
      "text/plain": [
       "{'apple_6': 0,\n",
       " 'apple_braeburn_1': 1,\n",
       " 'apple_crimson_snow_1': 2,\n",
       " 'apple_golden_1': 3,\n",
       " 'apple_golden_2': 4,\n",
       " 'apple_golden_3': 5,\n",
       " 'apple_granny_smith_1': 6,\n",
       " 'apple_hit_1': 7,\n",
       " 'apple_pink_lady_1': 8,\n",
       " 'apple_red_1': 9,\n",
       " 'apple_red_2': 10,\n",
       " 'apple_red_3': 11,\n",
       " 'apple_red_delicios_1': 12,\n",
       " 'apple_red_yellow_1': 13,\n",
       " 'apple_rotten_1': 14,\n",
       " 'cabbage_white_1': 15,\n",
       " 'carrot_1': 16,\n",
       " 'cucumber_1': 17,\n",
       " 'cucumber_3': 18,\n",
       " 'eggplant_violet_1': 19,\n",
       " 'pear_1': 20,\n",
       " 'pear_3': 21,\n",
       " 'zucchini_1': 22,\n",
       " 'zucchini_dark_1': 23}"
      ]
     },
     "execution_count": 5,
     "metadata": {},
     "output_type": "execute_result"
    }
   ],
   "source": [
    "train_data.class_indices"
   ]
  },
  {
   "cell_type": "code",
   "execution_count": 6,
   "id": "312c4f78",
   "metadata": {
    "execution": {
     "iopub.execute_input": "2024-07-31T15:44:27.071624Z",
     "iopub.status.busy": "2024-07-31T15:44:27.070326Z",
     "iopub.status.idle": "2024-07-31T15:44:27.078859Z",
     "shell.execute_reply": "2024-07-31T15:44:27.077565Z"
    },
    "papermill": {
     "duration": 0.028154,
     "end_time": "2024-07-31T15:44:27.082047",
     "exception": false,
     "start_time": "2024-07-31T15:44:27.053893",
     "status": "completed"
    },
    "tags": []
   },
   "outputs": [
    {
     "data": {
      "text/plain": [
       "(128, 128, 3)"
      ]
     },
     "execution_count": 6,
     "metadata": {},
     "output_type": "execute_result"
    }
   ],
   "source": [
    "train_data.image_shape"
   ]
  },
  {
   "cell_type": "code",
   "execution_count": 7,
   "id": "90906141",
   "metadata": {
    "execution": {
     "iopub.execute_input": "2024-07-31T15:44:27.107154Z",
     "iopub.status.busy": "2024-07-31T15:44:27.106462Z",
     "iopub.status.idle": "2024-07-31T15:44:27.365828Z",
     "shell.execute_reply": "2024-07-31T15:44:27.364932Z"
    },
    "papermill": {
     "duration": 0.273561,
     "end_time": "2024-07-31T15:44:27.368173",
     "exception": false,
     "start_time": "2024-07-31T15:44:27.094612",
     "status": "completed"
    },
    "tags": []
   },
   "outputs": [
    {
     "name": "stdout",
     "output_type": "stream",
     "text": [
      "Found 3114 images belonging to 24 classes.\n"
     ]
    }
   ],
   "source": [
    "val_data=gen.flow_from_directory(directory='/kaggle/input/fruits/fruits-360-original-size/fruits-360-original-size/Validation',\n",
    "                                              class_mode='categorical',\n",
    "                                              target_size=(128,128),\n",
    "                                              batch_size=32,\n",
    "                                              shuffle=True\n",
    "                                              )"
   ]
  },
  {
   "cell_type": "code",
   "execution_count": 8,
   "id": "80832e51",
   "metadata": {
    "execution": {
     "iopub.execute_input": "2024-07-31T15:44:27.392831Z",
     "iopub.status.busy": "2024-07-31T15:44:27.391709Z",
     "iopub.status.idle": "2024-07-31T15:44:27.701653Z",
     "shell.execute_reply": "2024-07-31T15:44:27.700762Z"
    },
    "papermill": {
     "duration": 0.324458,
     "end_time": "2024-07-31T15:44:27.704064",
     "exception": false,
     "start_time": "2024-07-31T15:44:27.379606",
     "status": "completed"
    },
    "tags": []
   },
   "outputs": [
    {
     "name": "stdout",
     "output_type": "stream",
     "text": [
      "Found 3110 images belonging to 24 classes.\n"
     ]
    }
   ],
   "source": [
    "test_data=gen.flow_from_directory(directory='/kaggle/input/fruits/fruits-360-original-size/fruits-360-original-size/Test',\n",
    "                                              class_mode='categorical',\n",
    "                                              target_size=(128,128),\n",
    "                                              batch_size=32,\n",
    "                                              shuffle=False\n",
    "                                              )"
   ]
  },
  {
   "cell_type": "code",
   "execution_count": 9,
   "id": "436f3ab0",
   "metadata": {
    "execution": {
     "iopub.execute_input": "2024-07-31T15:44:27.728212Z",
     "iopub.status.busy": "2024-07-31T15:44:27.727812Z",
     "iopub.status.idle": "2024-07-31T15:44:27.735170Z",
     "shell.execute_reply": "2024-07-31T15:44:27.734172Z"
    },
    "papermill": {
     "duration": 0.022466,
     "end_time": "2024-07-31T15:44:27.737527",
     "exception": false,
     "start_time": "2024-07-31T15:44:27.715061",
     "status": "completed"
    },
    "tags": []
   },
   "outputs": [],
   "source": [
    "input_layer=Input(shape=(128,128,3))"
   ]
  },
  {
   "cell_type": "code",
   "execution_count": 10,
   "id": "368cff71",
   "metadata": {
    "execution": {
     "iopub.execute_input": "2024-07-31T15:44:27.761404Z",
     "iopub.status.busy": "2024-07-31T15:44:27.761054Z",
     "iopub.status.idle": "2024-07-31T15:44:29.430701Z",
     "shell.execute_reply": "2024-07-31T15:44:29.429802Z"
    },
    "papermill": {
     "duration": 1.684629,
     "end_time": "2024-07-31T15:44:29.433369",
     "exception": false,
     "start_time": "2024-07-31T15:44:27.748740",
     "status": "completed"
    },
    "tags": []
   },
   "outputs": [
    {
     "name": "stdout",
     "output_type": "stream",
     "text": [
      "Downloading data from https://storage.googleapis.com/tensorflow/keras-applications/vgg16/vgg16_weights_tf_dim_ordering_tf_kernels_notop.h5\n",
      "\u001b[1m58889256/58889256\u001b[0m \u001b[32m━━━━━━━━━━━━━━━━━━━━\u001b[0m\u001b[37m\u001b[0m \u001b[1m0s\u001b[0m 0us/step\n"
     ]
    }
   ],
   "source": [
    "vgg16=tf.keras.applications.VGG16(include_top=False,weights='imagenet', input_tensor=input_layer)"
   ]
  },
  {
   "cell_type": "code",
   "execution_count": 11,
   "id": "d17d4c8b",
   "metadata": {
    "execution": {
     "iopub.execute_input": "2024-07-31T15:44:29.460097Z",
     "iopub.status.busy": "2024-07-31T15:44:29.459170Z",
     "iopub.status.idle": "2024-07-31T15:44:29.496480Z",
     "shell.execute_reply": "2024-07-31T15:44:29.495445Z"
    },
    "papermill": {
     "duration": 0.052986,
     "end_time": "2024-07-31T15:44:29.498854",
     "exception": false,
     "start_time": "2024-07-31T15:44:29.445868",
     "status": "completed"
    },
    "tags": []
   },
   "outputs": [
    {
     "data": {
      "text/html": [
       "<pre style=\"white-space:pre;overflow-x:auto;line-height:normal;font-family:Menlo,'DejaVu Sans Mono',consolas,'Courier New',monospace\"><span style=\"font-weight: bold\">Model: \"vgg16\"</span>\n",
       "</pre>\n"
      ],
      "text/plain": [
       "\u001b[1mModel: \"vgg16\"\u001b[0m\n"
      ]
     },
     "metadata": {},
     "output_type": "display_data"
    },
    {
     "data": {
      "text/html": [
       "<pre style=\"white-space:pre;overflow-x:auto;line-height:normal;font-family:Menlo,'DejaVu Sans Mono',consolas,'Courier New',monospace\">┏━━━━━━━━━━━━━━━━━━━━━━━━━━━━━━━━━┳━━━━━━━━━━━━━━━━━━━━━━━━┳━━━━━━━━━━━━━━━┓\n",
       "┃<span style=\"font-weight: bold\"> Layer (type)                    </span>┃<span style=\"font-weight: bold\"> Output Shape           </span>┃<span style=\"font-weight: bold\">       Param # </span>┃\n",
       "┡━━━━━━━━━━━━━━━━━━━━━━━━━━━━━━━━━╇━━━━━━━━━━━━━━━━━━━━━━━━╇━━━━━━━━━━━━━━━┩\n",
       "│ input_layer (<span style=\"color: #0087ff; text-decoration-color: #0087ff\">InputLayer</span>)        │ (<span style=\"color: #00d7ff; text-decoration-color: #00d7ff\">None</span>, <span style=\"color: #00af00; text-decoration-color: #00af00\">128</span>, <span style=\"color: #00af00; text-decoration-color: #00af00\">128</span>, <span style=\"color: #00af00; text-decoration-color: #00af00\">3</span>)    │             <span style=\"color: #00af00; text-decoration-color: #00af00\">0</span> │\n",
       "├─────────────────────────────────┼────────────────────────┼───────────────┤\n",
       "│ block1_conv1 (<span style=\"color: #0087ff; text-decoration-color: #0087ff\">Conv2D</span>)           │ (<span style=\"color: #00d7ff; text-decoration-color: #00d7ff\">None</span>, <span style=\"color: #00af00; text-decoration-color: #00af00\">128</span>, <span style=\"color: #00af00; text-decoration-color: #00af00\">128</span>, <span style=\"color: #00af00; text-decoration-color: #00af00\">64</span>)   │         <span style=\"color: #00af00; text-decoration-color: #00af00\">1,792</span> │\n",
       "├─────────────────────────────────┼────────────────────────┼───────────────┤\n",
       "│ block1_conv2 (<span style=\"color: #0087ff; text-decoration-color: #0087ff\">Conv2D</span>)           │ (<span style=\"color: #00d7ff; text-decoration-color: #00d7ff\">None</span>, <span style=\"color: #00af00; text-decoration-color: #00af00\">128</span>, <span style=\"color: #00af00; text-decoration-color: #00af00\">128</span>, <span style=\"color: #00af00; text-decoration-color: #00af00\">64</span>)   │        <span style=\"color: #00af00; text-decoration-color: #00af00\">36,928</span> │\n",
       "├─────────────────────────────────┼────────────────────────┼───────────────┤\n",
       "│ block1_pool (<span style=\"color: #0087ff; text-decoration-color: #0087ff\">MaxPooling2D</span>)      │ (<span style=\"color: #00d7ff; text-decoration-color: #00d7ff\">None</span>, <span style=\"color: #00af00; text-decoration-color: #00af00\">64</span>, <span style=\"color: #00af00; text-decoration-color: #00af00\">64</span>, <span style=\"color: #00af00; text-decoration-color: #00af00\">64</span>)     │             <span style=\"color: #00af00; text-decoration-color: #00af00\">0</span> │\n",
       "├─────────────────────────────────┼────────────────────────┼───────────────┤\n",
       "│ block2_conv1 (<span style=\"color: #0087ff; text-decoration-color: #0087ff\">Conv2D</span>)           │ (<span style=\"color: #00d7ff; text-decoration-color: #00d7ff\">None</span>, <span style=\"color: #00af00; text-decoration-color: #00af00\">64</span>, <span style=\"color: #00af00; text-decoration-color: #00af00\">64</span>, <span style=\"color: #00af00; text-decoration-color: #00af00\">128</span>)    │        <span style=\"color: #00af00; text-decoration-color: #00af00\">73,856</span> │\n",
       "├─────────────────────────────────┼────────────────────────┼───────────────┤\n",
       "│ block2_conv2 (<span style=\"color: #0087ff; text-decoration-color: #0087ff\">Conv2D</span>)           │ (<span style=\"color: #00d7ff; text-decoration-color: #00d7ff\">None</span>, <span style=\"color: #00af00; text-decoration-color: #00af00\">64</span>, <span style=\"color: #00af00; text-decoration-color: #00af00\">64</span>, <span style=\"color: #00af00; text-decoration-color: #00af00\">128</span>)    │       <span style=\"color: #00af00; text-decoration-color: #00af00\">147,584</span> │\n",
       "├─────────────────────────────────┼────────────────────────┼───────────────┤\n",
       "│ block2_pool (<span style=\"color: #0087ff; text-decoration-color: #0087ff\">MaxPooling2D</span>)      │ (<span style=\"color: #00d7ff; text-decoration-color: #00d7ff\">None</span>, <span style=\"color: #00af00; text-decoration-color: #00af00\">32</span>, <span style=\"color: #00af00; text-decoration-color: #00af00\">32</span>, <span style=\"color: #00af00; text-decoration-color: #00af00\">128</span>)    │             <span style=\"color: #00af00; text-decoration-color: #00af00\">0</span> │\n",
       "├─────────────────────────────────┼────────────────────────┼───────────────┤\n",
       "│ block3_conv1 (<span style=\"color: #0087ff; text-decoration-color: #0087ff\">Conv2D</span>)           │ (<span style=\"color: #00d7ff; text-decoration-color: #00d7ff\">None</span>, <span style=\"color: #00af00; text-decoration-color: #00af00\">32</span>, <span style=\"color: #00af00; text-decoration-color: #00af00\">32</span>, <span style=\"color: #00af00; text-decoration-color: #00af00\">256</span>)    │       <span style=\"color: #00af00; text-decoration-color: #00af00\">295,168</span> │\n",
       "├─────────────────────────────────┼────────────────────────┼───────────────┤\n",
       "│ block3_conv2 (<span style=\"color: #0087ff; text-decoration-color: #0087ff\">Conv2D</span>)           │ (<span style=\"color: #00d7ff; text-decoration-color: #00d7ff\">None</span>, <span style=\"color: #00af00; text-decoration-color: #00af00\">32</span>, <span style=\"color: #00af00; text-decoration-color: #00af00\">32</span>, <span style=\"color: #00af00; text-decoration-color: #00af00\">256</span>)    │       <span style=\"color: #00af00; text-decoration-color: #00af00\">590,080</span> │\n",
       "├─────────────────────────────────┼────────────────────────┼───────────────┤\n",
       "│ block3_conv3 (<span style=\"color: #0087ff; text-decoration-color: #0087ff\">Conv2D</span>)           │ (<span style=\"color: #00d7ff; text-decoration-color: #00d7ff\">None</span>, <span style=\"color: #00af00; text-decoration-color: #00af00\">32</span>, <span style=\"color: #00af00; text-decoration-color: #00af00\">32</span>, <span style=\"color: #00af00; text-decoration-color: #00af00\">256</span>)    │       <span style=\"color: #00af00; text-decoration-color: #00af00\">590,080</span> │\n",
       "├─────────────────────────────────┼────────────────────────┼───────────────┤\n",
       "│ block3_pool (<span style=\"color: #0087ff; text-decoration-color: #0087ff\">MaxPooling2D</span>)      │ (<span style=\"color: #00d7ff; text-decoration-color: #00d7ff\">None</span>, <span style=\"color: #00af00; text-decoration-color: #00af00\">16</span>, <span style=\"color: #00af00; text-decoration-color: #00af00\">16</span>, <span style=\"color: #00af00; text-decoration-color: #00af00\">256</span>)    │             <span style=\"color: #00af00; text-decoration-color: #00af00\">0</span> │\n",
       "├─────────────────────────────────┼────────────────────────┼───────────────┤\n",
       "│ block4_conv1 (<span style=\"color: #0087ff; text-decoration-color: #0087ff\">Conv2D</span>)           │ (<span style=\"color: #00d7ff; text-decoration-color: #00d7ff\">None</span>, <span style=\"color: #00af00; text-decoration-color: #00af00\">16</span>, <span style=\"color: #00af00; text-decoration-color: #00af00\">16</span>, <span style=\"color: #00af00; text-decoration-color: #00af00\">512</span>)    │     <span style=\"color: #00af00; text-decoration-color: #00af00\">1,180,160</span> │\n",
       "├─────────────────────────────────┼────────────────────────┼───────────────┤\n",
       "│ block4_conv2 (<span style=\"color: #0087ff; text-decoration-color: #0087ff\">Conv2D</span>)           │ (<span style=\"color: #00d7ff; text-decoration-color: #00d7ff\">None</span>, <span style=\"color: #00af00; text-decoration-color: #00af00\">16</span>, <span style=\"color: #00af00; text-decoration-color: #00af00\">16</span>, <span style=\"color: #00af00; text-decoration-color: #00af00\">512</span>)    │     <span style=\"color: #00af00; text-decoration-color: #00af00\">2,359,808</span> │\n",
       "├─────────────────────────────────┼────────────────────────┼───────────────┤\n",
       "│ block4_conv3 (<span style=\"color: #0087ff; text-decoration-color: #0087ff\">Conv2D</span>)           │ (<span style=\"color: #00d7ff; text-decoration-color: #00d7ff\">None</span>, <span style=\"color: #00af00; text-decoration-color: #00af00\">16</span>, <span style=\"color: #00af00; text-decoration-color: #00af00\">16</span>, <span style=\"color: #00af00; text-decoration-color: #00af00\">512</span>)    │     <span style=\"color: #00af00; text-decoration-color: #00af00\">2,359,808</span> │\n",
       "├─────────────────────────────────┼────────────────────────┼───────────────┤\n",
       "│ block4_pool (<span style=\"color: #0087ff; text-decoration-color: #0087ff\">MaxPooling2D</span>)      │ (<span style=\"color: #00d7ff; text-decoration-color: #00d7ff\">None</span>, <span style=\"color: #00af00; text-decoration-color: #00af00\">8</span>, <span style=\"color: #00af00; text-decoration-color: #00af00\">8</span>, <span style=\"color: #00af00; text-decoration-color: #00af00\">512</span>)      │             <span style=\"color: #00af00; text-decoration-color: #00af00\">0</span> │\n",
       "├─────────────────────────────────┼────────────────────────┼───────────────┤\n",
       "│ block5_conv1 (<span style=\"color: #0087ff; text-decoration-color: #0087ff\">Conv2D</span>)           │ (<span style=\"color: #00d7ff; text-decoration-color: #00d7ff\">None</span>, <span style=\"color: #00af00; text-decoration-color: #00af00\">8</span>, <span style=\"color: #00af00; text-decoration-color: #00af00\">8</span>, <span style=\"color: #00af00; text-decoration-color: #00af00\">512</span>)      │     <span style=\"color: #00af00; text-decoration-color: #00af00\">2,359,808</span> │\n",
       "├─────────────────────────────────┼────────────────────────┼───────────────┤\n",
       "│ block5_conv2 (<span style=\"color: #0087ff; text-decoration-color: #0087ff\">Conv2D</span>)           │ (<span style=\"color: #00d7ff; text-decoration-color: #00d7ff\">None</span>, <span style=\"color: #00af00; text-decoration-color: #00af00\">8</span>, <span style=\"color: #00af00; text-decoration-color: #00af00\">8</span>, <span style=\"color: #00af00; text-decoration-color: #00af00\">512</span>)      │     <span style=\"color: #00af00; text-decoration-color: #00af00\">2,359,808</span> │\n",
       "├─────────────────────────────────┼────────────────────────┼───────────────┤\n",
       "│ block5_conv3 (<span style=\"color: #0087ff; text-decoration-color: #0087ff\">Conv2D</span>)           │ (<span style=\"color: #00d7ff; text-decoration-color: #00d7ff\">None</span>, <span style=\"color: #00af00; text-decoration-color: #00af00\">8</span>, <span style=\"color: #00af00; text-decoration-color: #00af00\">8</span>, <span style=\"color: #00af00; text-decoration-color: #00af00\">512</span>)      │     <span style=\"color: #00af00; text-decoration-color: #00af00\">2,359,808</span> │\n",
       "├─────────────────────────────────┼────────────────────────┼───────────────┤\n",
       "│ block5_pool (<span style=\"color: #0087ff; text-decoration-color: #0087ff\">MaxPooling2D</span>)      │ (<span style=\"color: #00d7ff; text-decoration-color: #00d7ff\">None</span>, <span style=\"color: #00af00; text-decoration-color: #00af00\">4</span>, <span style=\"color: #00af00; text-decoration-color: #00af00\">4</span>, <span style=\"color: #00af00; text-decoration-color: #00af00\">512</span>)      │             <span style=\"color: #00af00; text-decoration-color: #00af00\">0</span> │\n",
       "└─────────────────────────────────┴────────────────────────┴───────────────┘\n",
       "</pre>\n"
      ],
      "text/plain": [
       "┏━━━━━━━━━━━━━━━━━━━━━━━━━━━━━━━━━┳━━━━━━━━━━━━━━━━━━━━━━━━┳━━━━━━━━━━━━━━━┓\n",
       "┃\u001b[1m \u001b[0m\u001b[1mLayer (type)                   \u001b[0m\u001b[1m \u001b[0m┃\u001b[1m \u001b[0m\u001b[1mOutput Shape          \u001b[0m\u001b[1m \u001b[0m┃\u001b[1m \u001b[0m\u001b[1m      Param #\u001b[0m\u001b[1m \u001b[0m┃\n",
       "┡━━━━━━━━━━━━━━━━━━━━━━━━━━━━━━━━━╇━━━━━━━━━━━━━━━━━━━━━━━━╇━━━━━━━━━━━━━━━┩\n",
       "│ input_layer (\u001b[38;5;33mInputLayer\u001b[0m)        │ (\u001b[38;5;45mNone\u001b[0m, \u001b[38;5;34m128\u001b[0m, \u001b[38;5;34m128\u001b[0m, \u001b[38;5;34m3\u001b[0m)    │             \u001b[38;5;34m0\u001b[0m │\n",
       "├─────────────────────────────────┼────────────────────────┼───────────────┤\n",
       "│ block1_conv1 (\u001b[38;5;33mConv2D\u001b[0m)           │ (\u001b[38;5;45mNone\u001b[0m, \u001b[38;5;34m128\u001b[0m, \u001b[38;5;34m128\u001b[0m, \u001b[38;5;34m64\u001b[0m)   │         \u001b[38;5;34m1,792\u001b[0m │\n",
       "├─────────────────────────────────┼────────────────────────┼───────────────┤\n",
       "│ block1_conv2 (\u001b[38;5;33mConv2D\u001b[0m)           │ (\u001b[38;5;45mNone\u001b[0m, \u001b[38;5;34m128\u001b[0m, \u001b[38;5;34m128\u001b[0m, \u001b[38;5;34m64\u001b[0m)   │        \u001b[38;5;34m36,928\u001b[0m │\n",
       "├─────────────────────────────────┼────────────────────────┼───────────────┤\n",
       "│ block1_pool (\u001b[38;5;33mMaxPooling2D\u001b[0m)      │ (\u001b[38;5;45mNone\u001b[0m, \u001b[38;5;34m64\u001b[0m, \u001b[38;5;34m64\u001b[0m, \u001b[38;5;34m64\u001b[0m)     │             \u001b[38;5;34m0\u001b[0m │\n",
       "├─────────────────────────────────┼────────────────────────┼───────────────┤\n",
       "│ block2_conv1 (\u001b[38;5;33mConv2D\u001b[0m)           │ (\u001b[38;5;45mNone\u001b[0m, \u001b[38;5;34m64\u001b[0m, \u001b[38;5;34m64\u001b[0m, \u001b[38;5;34m128\u001b[0m)    │        \u001b[38;5;34m73,856\u001b[0m │\n",
       "├─────────────────────────────────┼────────────────────────┼───────────────┤\n",
       "│ block2_conv2 (\u001b[38;5;33mConv2D\u001b[0m)           │ (\u001b[38;5;45mNone\u001b[0m, \u001b[38;5;34m64\u001b[0m, \u001b[38;5;34m64\u001b[0m, \u001b[38;5;34m128\u001b[0m)    │       \u001b[38;5;34m147,584\u001b[0m │\n",
       "├─────────────────────────────────┼────────────────────────┼───────────────┤\n",
       "│ block2_pool (\u001b[38;5;33mMaxPooling2D\u001b[0m)      │ (\u001b[38;5;45mNone\u001b[0m, \u001b[38;5;34m32\u001b[0m, \u001b[38;5;34m32\u001b[0m, \u001b[38;5;34m128\u001b[0m)    │             \u001b[38;5;34m0\u001b[0m │\n",
       "├─────────────────────────────────┼────────────────────────┼───────────────┤\n",
       "│ block3_conv1 (\u001b[38;5;33mConv2D\u001b[0m)           │ (\u001b[38;5;45mNone\u001b[0m, \u001b[38;5;34m32\u001b[0m, \u001b[38;5;34m32\u001b[0m, \u001b[38;5;34m256\u001b[0m)    │       \u001b[38;5;34m295,168\u001b[0m │\n",
       "├─────────────────────────────────┼────────────────────────┼───────────────┤\n",
       "│ block3_conv2 (\u001b[38;5;33mConv2D\u001b[0m)           │ (\u001b[38;5;45mNone\u001b[0m, \u001b[38;5;34m32\u001b[0m, \u001b[38;5;34m32\u001b[0m, \u001b[38;5;34m256\u001b[0m)    │       \u001b[38;5;34m590,080\u001b[0m │\n",
       "├─────────────────────────────────┼────────────────────────┼───────────────┤\n",
       "│ block3_conv3 (\u001b[38;5;33mConv2D\u001b[0m)           │ (\u001b[38;5;45mNone\u001b[0m, \u001b[38;5;34m32\u001b[0m, \u001b[38;5;34m32\u001b[0m, \u001b[38;5;34m256\u001b[0m)    │       \u001b[38;5;34m590,080\u001b[0m │\n",
       "├─────────────────────────────────┼────────────────────────┼───────────────┤\n",
       "│ block3_pool (\u001b[38;5;33mMaxPooling2D\u001b[0m)      │ (\u001b[38;5;45mNone\u001b[0m, \u001b[38;5;34m16\u001b[0m, \u001b[38;5;34m16\u001b[0m, \u001b[38;5;34m256\u001b[0m)    │             \u001b[38;5;34m0\u001b[0m │\n",
       "├─────────────────────────────────┼────────────────────────┼───────────────┤\n",
       "│ block4_conv1 (\u001b[38;5;33mConv2D\u001b[0m)           │ (\u001b[38;5;45mNone\u001b[0m, \u001b[38;5;34m16\u001b[0m, \u001b[38;5;34m16\u001b[0m, \u001b[38;5;34m512\u001b[0m)    │     \u001b[38;5;34m1,180,160\u001b[0m │\n",
       "├─────────────────────────────────┼────────────────────────┼───────────────┤\n",
       "│ block4_conv2 (\u001b[38;5;33mConv2D\u001b[0m)           │ (\u001b[38;5;45mNone\u001b[0m, \u001b[38;5;34m16\u001b[0m, \u001b[38;5;34m16\u001b[0m, \u001b[38;5;34m512\u001b[0m)    │     \u001b[38;5;34m2,359,808\u001b[0m │\n",
       "├─────────────────────────────────┼────────────────────────┼───────────────┤\n",
       "│ block4_conv3 (\u001b[38;5;33mConv2D\u001b[0m)           │ (\u001b[38;5;45mNone\u001b[0m, \u001b[38;5;34m16\u001b[0m, \u001b[38;5;34m16\u001b[0m, \u001b[38;5;34m512\u001b[0m)    │     \u001b[38;5;34m2,359,808\u001b[0m │\n",
       "├─────────────────────────────────┼────────────────────────┼───────────────┤\n",
       "│ block4_pool (\u001b[38;5;33mMaxPooling2D\u001b[0m)      │ (\u001b[38;5;45mNone\u001b[0m, \u001b[38;5;34m8\u001b[0m, \u001b[38;5;34m8\u001b[0m, \u001b[38;5;34m512\u001b[0m)      │             \u001b[38;5;34m0\u001b[0m │\n",
       "├─────────────────────────────────┼────────────────────────┼───────────────┤\n",
       "│ block5_conv1 (\u001b[38;5;33mConv2D\u001b[0m)           │ (\u001b[38;5;45mNone\u001b[0m, \u001b[38;5;34m8\u001b[0m, \u001b[38;5;34m8\u001b[0m, \u001b[38;5;34m512\u001b[0m)      │     \u001b[38;5;34m2,359,808\u001b[0m │\n",
       "├─────────────────────────────────┼────────────────────────┼───────────────┤\n",
       "│ block5_conv2 (\u001b[38;5;33mConv2D\u001b[0m)           │ (\u001b[38;5;45mNone\u001b[0m, \u001b[38;5;34m8\u001b[0m, \u001b[38;5;34m8\u001b[0m, \u001b[38;5;34m512\u001b[0m)      │     \u001b[38;5;34m2,359,808\u001b[0m │\n",
       "├─────────────────────────────────┼────────────────────────┼───────────────┤\n",
       "│ block5_conv3 (\u001b[38;5;33mConv2D\u001b[0m)           │ (\u001b[38;5;45mNone\u001b[0m, \u001b[38;5;34m8\u001b[0m, \u001b[38;5;34m8\u001b[0m, \u001b[38;5;34m512\u001b[0m)      │     \u001b[38;5;34m2,359,808\u001b[0m │\n",
       "├─────────────────────────────────┼────────────────────────┼───────────────┤\n",
       "│ block5_pool (\u001b[38;5;33mMaxPooling2D\u001b[0m)      │ (\u001b[38;5;45mNone\u001b[0m, \u001b[38;5;34m4\u001b[0m, \u001b[38;5;34m4\u001b[0m, \u001b[38;5;34m512\u001b[0m)      │             \u001b[38;5;34m0\u001b[0m │\n",
       "└─────────────────────────────────┴────────────────────────┴───────────────┘\n"
      ]
     },
     "metadata": {},
     "output_type": "display_data"
    },
    {
     "data": {
      "text/html": [
       "<pre style=\"white-space:pre;overflow-x:auto;line-height:normal;font-family:Menlo,'DejaVu Sans Mono',consolas,'Courier New',monospace\"><span style=\"font-weight: bold\"> Total params: </span><span style=\"color: #00af00; text-decoration-color: #00af00\">14,714,688</span> (56.13 MB)\n",
       "</pre>\n"
      ],
      "text/plain": [
       "\u001b[1m Total params: \u001b[0m\u001b[38;5;34m14,714,688\u001b[0m (56.13 MB)\n"
      ]
     },
     "metadata": {},
     "output_type": "display_data"
    },
    {
     "data": {
      "text/html": [
       "<pre style=\"white-space:pre;overflow-x:auto;line-height:normal;font-family:Menlo,'DejaVu Sans Mono',consolas,'Courier New',monospace\"><span style=\"font-weight: bold\"> Trainable params: </span><span style=\"color: #00af00; text-decoration-color: #00af00\">14,714,688</span> (56.13 MB)\n",
       "</pre>\n"
      ],
      "text/plain": [
       "\u001b[1m Trainable params: \u001b[0m\u001b[38;5;34m14,714,688\u001b[0m (56.13 MB)\n"
      ]
     },
     "metadata": {},
     "output_type": "display_data"
    },
    {
     "data": {
      "text/html": [
       "<pre style=\"white-space:pre;overflow-x:auto;line-height:normal;font-family:Menlo,'DejaVu Sans Mono',consolas,'Courier New',monospace\"><span style=\"font-weight: bold\"> Non-trainable params: </span><span style=\"color: #00af00; text-decoration-color: #00af00\">0</span> (0.00 B)\n",
       "</pre>\n"
      ],
      "text/plain": [
       "\u001b[1m Non-trainable params: \u001b[0m\u001b[38;5;34m0\u001b[0m (0.00 B)\n"
      ]
     },
     "metadata": {},
     "output_type": "display_data"
    }
   ],
   "source": [
    "vgg16.summary()"
   ]
  },
  {
   "cell_type": "code",
   "execution_count": 12,
   "id": "1d284080",
   "metadata": {
    "execution": {
     "iopub.execute_input": "2024-07-31T15:44:29.527238Z",
     "iopub.status.busy": "2024-07-31T15:44:29.526370Z",
     "iopub.status.idle": "2024-07-31T15:44:29.532607Z",
     "shell.execute_reply": "2024-07-31T15:44:29.531561Z"
    },
    "papermill": {
     "duration": 0.023398,
     "end_time": "2024-07-31T15:44:29.535533",
     "exception": false,
     "start_time": "2024-07-31T15:44:29.512135",
     "status": "completed"
    },
    "tags": []
   },
   "outputs": [
    {
     "name": "stdout",
     "output_type": "stream",
     "text": [
      "<InputLayer name=input_layer, built=True> False\n",
      "<Conv2D name=block1_conv1, built=True> False\n",
      "<Conv2D name=block1_conv2, built=True> False\n",
      "<MaxPooling2D name=block1_pool, built=True> False\n",
      "<Conv2D name=block2_conv1, built=True> False\n",
      "<Conv2D name=block2_conv2, built=True> False\n",
      "<MaxPooling2D name=block2_pool, built=True> False\n",
      "<Conv2D name=block3_conv1, built=True> False\n",
      "<Conv2D name=block3_conv2, built=True> False\n",
      "<Conv2D name=block3_conv3, built=True> False\n",
      "<MaxPooling2D name=block3_pool, built=True> False\n",
      "<Conv2D name=block4_conv1, built=True> False\n",
      "<Conv2D name=block4_conv2, built=True> False\n",
      "<Conv2D name=block4_conv3, built=True> False\n",
      "<MaxPooling2D name=block4_pool, built=True> False\n",
      "<Conv2D name=block5_conv1, built=True> False\n",
      "<Conv2D name=block5_conv2, built=True> False\n",
      "<Conv2D name=block5_conv3, built=True> False\n",
      "<MaxPooling2D name=block5_pool, built=True> False\n"
     ]
    }
   ],
   "source": [
    "for layer in vgg16.layers:\n",
    "    layer.training=False\n",
    "    print(layer, layer.training)"
   ]
  },
  {
   "cell_type": "code",
   "execution_count": 13,
   "id": "38da3af2",
   "metadata": {
    "execution": {
     "iopub.execute_input": "2024-07-31T15:44:29.563637Z",
     "iopub.status.busy": "2024-07-31T15:44:29.563272Z",
     "iopub.status.idle": "2024-07-31T15:44:29.570302Z",
     "shell.execute_reply": "2024-07-31T15:44:29.569029Z"
    },
    "papermill": {
     "duration": 0.026991,
     "end_time": "2024-07-31T15:44:29.575600",
     "exception": false,
     "start_time": "2024-07-31T15:44:29.548609",
     "status": "completed"
    },
    "tags": []
   },
   "outputs": [
    {
     "data": {
      "text/plain": [
       "<KerasTensor shape=(None, 4, 4, 512), dtype=float32, sparse=False, name=keras_tensor_18>"
      ]
     },
     "execution_count": 13,
     "metadata": {},
     "output_type": "execute_result"
    }
   ],
   "source": [
    "vgg16.output"
   ]
  },
  {
   "cell_type": "code",
   "execution_count": 14,
   "id": "da6eac1c",
   "metadata": {
    "execution": {
     "iopub.execute_input": "2024-07-31T15:44:29.604389Z",
     "iopub.status.busy": "2024-07-31T15:44:29.603999Z",
     "iopub.status.idle": "2024-07-31T15:44:29.612472Z",
     "shell.execute_reply": "2024-07-31T15:44:29.611477Z"
    },
    "papermill": {
     "duration": 0.025483,
     "end_time": "2024-07-31T15:44:29.614778",
     "exception": false,
     "start_time": "2024-07-31T15:44:29.589295",
     "status": "completed"
    },
    "tags": []
   },
   "outputs": [
    {
     "data": {
      "text/plain": [
       "<KerasTensor shape=(None, 8192), dtype=float32, sparse=False, name=keras_tensor_19>"
      ]
     },
     "execution_count": 14,
     "metadata": {},
     "output_type": "execute_result"
    }
   ],
   "source": [
    "output=vgg16.output\n",
    "output=Flatten()(output)\n",
    "output"
   ]
  },
  {
   "cell_type": "code",
   "execution_count": 15,
   "id": "95426a54",
   "metadata": {
    "execution": {
     "iopub.execute_input": "2024-07-31T15:44:29.644887Z",
     "iopub.status.busy": "2024-07-31T15:44:29.643961Z",
     "iopub.status.idle": "2024-07-31T15:44:29.672759Z",
     "shell.execute_reply": "2024-07-31T15:44:29.671932Z"
    },
    "papermill": {
     "duration": 0.046038,
     "end_time": "2024-07-31T15:44:29.675231",
     "exception": false,
     "start_time": "2024-07-31T15:44:29.629193",
     "status": "completed"
    },
    "tags": []
   },
   "outputs": [],
   "source": [
    "output=Dense(units=4100,activation='relu')(output)\n",
    "output=Dropout(0.2)(output)\n",
    "output=Dense(units=24,activation='softmax')(output)\n"
   ]
  },
  {
   "cell_type": "code",
   "execution_count": 16,
   "id": "897b9b83",
   "metadata": {
    "execution": {
     "iopub.execute_input": "2024-07-31T15:44:29.704051Z",
     "iopub.status.busy": "2024-07-31T15:44:29.703713Z",
     "iopub.status.idle": "2024-07-31T15:44:29.709618Z",
     "shell.execute_reply": "2024-07-31T15:44:29.708673Z"
    },
    "papermill": {
     "duration": 0.022892,
     "end_time": "2024-07-31T15:44:29.712043",
     "exception": false,
     "start_time": "2024-07-31T15:44:29.689151",
     "status": "completed"
    },
    "tags": []
   },
   "outputs": [
    {
     "data": {
      "text/plain": [
       "<KerasTensor shape=(None, 24), dtype=float32, sparse=False, name=keras_tensor_22>"
      ]
     },
     "execution_count": 16,
     "metadata": {},
     "output_type": "execute_result"
    }
   ],
   "source": [
    "output"
   ]
  },
  {
   "cell_type": "code",
   "execution_count": 17,
   "id": "cebb81c4",
   "metadata": {
    "execution": {
     "iopub.execute_input": "2024-07-31T15:44:29.741180Z",
     "iopub.status.busy": "2024-07-31T15:44:29.740428Z",
     "iopub.status.idle": "2024-07-31T15:44:29.746293Z",
     "shell.execute_reply": "2024-07-31T15:44:29.745405Z"
    },
    "papermill": {
     "duration": 0.022671,
     "end_time": "2024-07-31T15:44:29.748523",
     "exception": false,
     "start_time": "2024-07-31T15:44:29.725852",
     "status": "completed"
    },
    "tags": []
   },
   "outputs": [
    {
     "data": {
      "text/plain": [
       "<KerasTensor shape=(None, 128, 128, 3), dtype=float32, sparse=None, name=keras_tensor>"
      ]
     },
     "execution_count": 17,
     "metadata": {},
     "output_type": "execute_result"
    }
   ],
   "source": [
    "input_layer"
   ]
  },
  {
   "cell_type": "code",
   "execution_count": 18,
   "id": "f20dde40",
   "metadata": {
    "execution": {
     "iopub.execute_input": "2024-07-31T15:44:29.777907Z",
     "iopub.status.busy": "2024-07-31T15:44:29.777064Z",
     "iopub.status.idle": "2024-07-31T15:44:29.787607Z",
     "shell.execute_reply": "2024-07-31T15:44:29.786572Z"
    },
    "papermill": {
     "duration": 0.027495,
     "end_time": "2024-07-31T15:44:29.789873",
     "exception": false,
     "start_time": "2024-07-31T15:44:29.762378",
     "status": "completed"
    },
    "tags": []
   },
   "outputs": [],
   "source": [
    "model=Model(inputs=[input_layer], outputs=[output])"
   ]
  },
  {
   "cell_type": "code",
   "execution_count": 19,
   "id": "7c23a8c1",
   "metadata": {
    "execution": {
     "iopub.execute_input": "2024-07-31T15:44:29.819818Z",
     "iopub.status.busy": "2024-07-31T15:44:29.819444Z",
     "iopub.status.idle": "2024-07-31T15:44:29.858255Z",
     "shell.execute_reply": "2024-07-31T15:44:29.857339Z"
    },
    "papermill": {
     "duration": 0.056262,
     "end_time": "2024-07-31T15:44:29.860757",
     "exception": false,
     "start_time": "2024-07-31T15:44:29.804495",
     "status": "completed"
    },
    "tags": []
   },
   "outputs": [
    {
     "data": {
      "text/html": [
       "<pre style=\"white-space:pre;overflow-x:auto;line-height:normal;font-family:Menlo,'DejaVu Sans Mono',consolas,'Courier New',monospace\"><span style=\"font-weight: bold\">Model: \"functional\"</span>\n",
       "</pre>\n"
      ],
      "text/plain": [
       "\u001b[1mModel: \"functional\"\u001b[0m\n"
      ]
     },
     "metadata": {},
     "output_type": "display_data"
    },
    {
     "data": {
      "text/html": [
       "<pre style=\"white-space:pre;overflow-x:auto;line-height:normal;font-family:Menlo,'DejaVu Sans Mono',consolas,'Courier New',monospace\">┏━━━━━━━━━━━━━━━━━━━━━━━━━━━━━━━━━┳━━━━━━━━━━━━━━━━━━━━━━━━┳━━━━━━━━━━━━━━━┓\n",
       "┃<span style=\"font-weight: bold\"> Layer (type)                    </span>┃<span style=\"font-weight: bold\"> Output Shape           </span>┃<span style=\"font-weight: bold\">       Param # </span>┃\n",
       "┡━━━━━━━━━━━━━━━━━━━━━━━━━━━━━━━━━╇━━━━━━━━━━━━━━━━━━━━━━━━╇━━━━━━━━━━━━━━━┩\n",
       "│ input_layer (<span style=\"color: #0087ff; text-decoration-color: #0087ff\">InputLayer</span>)        │ (<span style=\"color: #00d7ff; text-decoration-color: #00d7ff\">None</span>, <span style=\"color: #00af00; text-decoration-color: #00af00\">128</span>, <span style=\"color: #00af00; text-decoration-color: #00af00\">128</span>, <span style=\"color: #00af00; text-decoration-color: #00af00\">3</span>)    │             <span style=\"color: #00af00; text-decoration-color: #00af00\">0</span> │\n",
       "├─────────────────────────────────┼────────────────────────┼───────────────┤\n",
       "│ block1_conv1 (<span style=\"color: #0087ff; text-decoration-color: #0087ff\">Conv2D</span>)           │ (<span style=\"color: #00d7ff; text-decoration-color: #00d7ff\">None</span>, <span style=\"color: #00af00; text-decoration-color: #00af00\">128</span>, <span style=\"color: #00af00; text-decoration-color: #00af00\">128</span>, <span style=\"color: #00af00; text-decoration-color: #00af00\">64</span>)   │         <span style=\"color: #00af00; text-decoration-color: #00af00\">1,792</span> │\n",
       "├─────────────────────────────────┼────────────────────────┼───────────────┤\n",
       "│ block1_conv2 (<span style=\"color: #0087ff; text-decoration-color: #0087ff\">Conv2D</span>)           │ (<span style=\"color: #00d7ff; text-decoration-color: #00d7ff\">None</span>, <span style=\"color: #00af00; text-decoration-color: #00af00\">128</span>, <span style=\"color: #00af00; text-decoration-color: #00af00\">128</span>, <span style=\"color: #00af00; text-decoration-color: #00af00\">64</span>)   │        <span style=\"color: #00af00; text-decoration-color: #00af00\">36,928</span> │\n",
       "├─────────────────────────────────┼────────────────────────┼───────────────┤\n",
       "│ block1_pool (<span style=\"color: #0087ff; text-decoration-color: #0087ff\">MaxPooling2D</span>)      │ (<span style=\"color: #00d7ff; text-decoration-color: #00d7ff\">None</span>, <span style=\"color: #00af00; text-decoration-color: #00af00\">64</span>, <span style=\"color: #00af00; text-decoration-color: #00af00\">64</span>, <span style=\"color: #00af00; text-decoration-color: #00af00\">64</span>)     │             <span style=\"color: #00af00; text-decoration-color: #00af00\">0</span> │\n",
       "├─────────────────────────────────┼────────────────────────┼───────────────┤\n",
       "│ block2_conv1 (<span style=\"color: #0087ff; text-decoration-color: #0087ff\">Conv2D</span>)           │ (<span style=\"color: #00d7ff; text-decoration-color: #00d7ff\">None</span>, <span style=\"color: #00af00; text-decoration-color: #00af00\">64</span>, <span style=\"color: #00af00; text-decoration-color: #00af00\">64</span>, <span style=\"color: #00af00; text-decoration-color: #00af00\">128</span>)    │        <span style=\"color: #00af00; text-decoration-color: #00af00\">73,856</span> │\n",
       "├─────────────────────────────────┼────────────────────────┼───────────────┤\n",
       "│ block2_conv2 (<span style=\"color: #0087ff; text-decoration-color: #0087ff\">Conv2D</span>)           │ (<span style=\"color: #00d7ff; text-decoration-color: #00d7ff\">None</span>, <span style=\"color: #00af00; text-decoration-color: #00af00\">64</span>, <span style=\"color: #00af00; text-decoration-color: #00af00\">64</span>, <span style=\"color: #00af00; text-decoration-color: #00af00\">128</span>)    │       <span style=\"color: #00af00; text-decoration-color: #00af00\">147,584</span> │\n",
       "├─────────────────────────────────┼────────────────────────┼───────────────┤\n",
       "│ block2_pool (<span style=\"color: #0087ff; text-decoration-color: #0087ff\">MaxPooling2D</span>)      │ (<span style=\"color: #00d7ff; text-decoration-color: #00d7ff\">None</span>, <span style=\"color: #00af00; text-decoration-color: #00af00\">32</span>, <span style=\"color: #00af00; text-decoration-color: #00af00\">32</span>, <span style=\"color: #00af00; text-decoration-color: #00af00\">128</span>)    │             <span style=\"color: #00af00; text-decoration-color: #00af00\">0</span> │\n",
       "├─────────────────────────────────┼────────────────────────┼───────────────┤\n",
       "│ block3_conv1 (<span style=\"color: #0087ff; text-decoration-color: #0087ff\">Conv2D</span>)           │ (<span style=\"color: #00d7ff; text-decoration-color: #00d7ff\">None</span>, <span style=\"color: #00af00; text-decoration-color: #00af00\">32</span>, <span style=\"color: #00af00; text-decoration-color: #00af00\">32</span>, <span style=\"color: #00af00; text-decoration-color: #00af00\">256</span>)    │       <span style=\"color: #00af00; text-decoration-color: #00af00\">295,168</span> │\n",
       "├─────────────────────────────────┼────────────────────────┼───────────────┤\n",
       "│ block3_conv2 (<span style=\"color: #0087ff; text-decoration-color: #0087ff\">Conv2D</span>)           │ (<span style=\"color: #00d7ff; text-decoration-color: #00d7ff\">None</span>, <span style=\"color: #00af00; text-decoration-color: #00af00\">32</span>, <span style=\"color: #00af00; text-decoration-color: #00af00\">32</span>, <span style=\"color: #00af00; text-decoration-color: #00af00\">256</span>)    │       <span style=\"color: #00af00; text-decoration-color: #00af00\">590,080</span> │\n",
       "├─────────────────────────────────┼────────────────────────┼───────────────┤\n",
       "│ block3_conv3 (<span style=\"color: #0087ff; text-decoration-color: #0087ff\">Conv2D</span>)           │ (<span style=\"color: #00d7ff; text-decoration-color: #00d7ff\">None</span>, <span style=\"color: #00af00; text-decoration-color: #00af00\">32</span>, <span style=\"color: #00af00; text-decoration-color: #00af00\">32</span>, <span style=\"color: #00af00; text-decoration-color: #00af00\">256</span>)    │       <span style=\"color: #00af00; text-decoration-color: #00af00\">590,080</span> │\n",
       "├─────────────────────────────────┼────────────────────────┼───────────────┤\n",
       "│ block3_pool (<span style=\"color: #0087ff; text-decoration-color: #0087ff\">MaxPooling2D</span>)      │ (<span style=\"color: #00d7ff; text-decoration-color: #00d7ff\">None</span>, <span style=\"color: #00af00; text-decoration-color: #00af00\">16</span>, <span style=\"color: #00af00; text-decoration-color: #00af00\">16</span>, <span style=\"color: #00af00; text-decoration-color: #00af00\">256</span>)    │             <span style=\"color: #00af00; text-decoration-color: #00af00\">0</span> │\n",
       "├─────────────────────────────────┼────────────────────────┼───────────────┤\n",
       "│ block4_conv1 (<span style=\"color: #0087ff; text-decoration-color: #0087ff\">Conv2D</span>)           │ (<span style=\"color: #00d7ff; text-decoration-color: #00d7ff\">None</span>, <span style=\"color: #00af00; text-decoration-color: #00af00\">16</span>, <span style=\"color: #00af00; text-decoration-color: #00af00\">16</span>, <span style=\"color: #00af00; text-decoration-color: #00af00\">512</span>)    │     <span style=\"color: #00af00; text-decoration-color: #00af00\">1,180,160</span> │\n",
       "├─────────────────────────────────┼────────────────────────┼───────────────┤\n",
       "│ block4_conv2 (<span style=\"color: #0087ff; text-decoration-color: #0087ff\">Conv2D</span>)           │ (<span style=\"color: #00d7ff; text-decoration-color: #00d7ff\">None</span>, <span style=\"color: #00af00; text-decoration-color: #00af00\">16</span>, <span style=\"color: #00af00; text-decoration-color: #00af00\">16</span>, <span style=\"color: #00af00; text-decoration-color: #00af00\">512</span>)    │     <span style=\"color: #00af00; text-decoration-color: #00af00\">2,359,808</span> │\n",
       "├─────────────────────────────────┼────────────────────────┼───────────────┤\n",
       "│ block4_conv3 (<span style=\"color: #0087ff; text-decoration-color: #0087ff\">Conv2D</span>)           │ (<span style=\"color: #00d7ff; text-decoration-color: #00d7ff\">None</span>, <span style=\"color: #00af00; text-decoration-color: #00af00\">16</span>, <span style=\"color: #00af00; text-decoration-color: #00af00\">16</span>, <span style=\"color: #00af00; text-decoration-color: #00af00\">512</span>)    │     <span style=\"color: #00af00; text-decoration-color: #00af00\">2,359,808</span> │\n",
       "├─────────────────────────────────┼────────────────────────┼───────────────┤\n",
       "│ block4_pool (<span style=\"color: #0087ff; text-decoration-color: #0087ff\">MaxPooling2D</span>)      │ (<span style=\"color: #00d7ff; text-decoration-color: #00d7ff\">None</span>, <span style=\"color: #00af00; text-decoration-color: #00af00\">8</span>, <span style=\"color: #00af00; text-decoration-color: #00af00\">8</span>, <span style=\"color: #00af00; text-decoration-color: #00af00\">512</span>)      │             <span style=\"color: #00af00; text-decoration-color: #00af00\">0</span> │\n",
       "├─────────────────────────────────┼────────────────────────┼───────────────┤\n",
       "│ block5_conv1 (<span style=\"color: #0087ff; text-decoration-color: #0087ff\">Conv2D</span>)           │ (<span style=\"color: #00d7ff; text-decoration-color: #00d7ff\">None</span>, <span style=\"color: #00af00; text-decoration-color: #00af00\">8</span>, <span style=\"color: #00af00; text-decoration-color: #00af00\">8</span>, <span style=\"color: #00af00; text-decoration-color: #00af00\">512</span>)      │     <span style=\"color: #00af00; text-decoration-color: #00af00\">2,359,808</span> │\n",
       "├─────────────────────────────────┼────────────────────────┼───────────────┤\n",
       "│ block5_conv2 (<span style=\"color: #0087ff; text-decoration-color: #0087ff\">Conv2D</span>)           │ (<span style=\"color: #00d7ff; text-decoration-color: #00d7ff\">None</span>, <span style=\"color: #00af00; text-decoration-color: #00af00\">8</span>, <span style=\"color: #00af00; text-decoration-color: #00af00\">8</span>, <span style=\"color: #00af00; text-decoration-color: #00af00\">512</span>)      │     <span style=\"color: #00af00; text-decoration-color: #00af00\">2,359,808</span> │\n",
       "├─────────────────────────────────┼────────────────────────┼───────────────┤\n",
       "│ block5_conv3 (<span style=\"color: #0087ff; text-decoration-color: #0087ff\">Conv2D</span>)           │ (<span style=\"color: #00d7ff; text-decoration-color: #00d7ff\">None</span>, <span style=\"color: #00af00; text-decoration-color: #00af00\">8</span>, <span style=\"color: #00af00; text-decoration-color: #00af00\">8</span>, <span style=\"color: #00af00; text-decoration-color: #00af00\">512</span>)      │     <span style=\"color: #00af00; text-decoration-color: #00af00\">2,359,808</span> │\n",
       "├─────────────────────────────────┼────────────────────────┼───────────────┤\n",
       "│ block5_pool (<span style=\"color: #0087ff; text-decoration-color: #0087ff\">MaxPooling2D</span>)      │ (<span style=\"color: #00d7ff; text-decoration-color: #00d7ff\">None</span>, <span style=\"color: #00af00; text-decoration-color: #00af00\">4</span>, <span style=\"color: #00af00; text-decoration-color: #00af00\">4</span>, <span style=\"color: #00af00; text-decoration-color: #00af00\">512</span>)      │             <span style=\"color: #00af00; text-decoration-color: #00af00\">0</span> │\n",
       "├─────────────────────────────────┼────────────────────────┼───────────────┤\n",
       "│ flatten (<span style=\"color: #0087ff; text-decoration-color: #0087ff\">Flatten</span>)               │ (<span style=\"color: #00d7ff; text-decoration-color: #00d7ff\">None</span>, <span style=\"color: #00af00; text-decoration-color: #00af00\">8192</span>)           │             <span style=\"color: #00af00; text-decoration-color: #00af00\">0</span> │\n",
       "├─────────────────────────────────┼────────────────────────┼───────────────┤\n",
       "│ dense (<span style=\"color: #0087ff; text-decoration-color: #0087ff\">Dense</span>)                   │ (<span style=\"color: #00d7ff; text-decoration-color: #00d7ff\">None</span>, <span style=\"color: #00af00; text-decoration-color: #00af00\">4100</span>)           │    <span style=\"color: #00af00; text-decoration-color: #00af00\">33,591,300</span> │\n",
       "├─────────────────────────────────┼────────────────────────┼───────────────┤\n",
       "│ dropout (<span style=\"color: #0087ff; text-decoration-color: #0087ff\">Dropout</span>)               │ (<span style=\"color: #00d7ff; text-decoration-color: #00d7ff\">None</span>, <span style=\"color: #00af00; text-decoration-color: #00af00\">4100</span>)           │             <span style=\"color: #00af00; text-decoration-color: #00af00\">0</span> │\n",
       "├─────────────────────────────────┼────────────────────────┼───────────────┤\n",
       "│ dense_1 (<span style=\"color: #0087ff; text-decoration-color: #0087ff\">Dense</span>)                 │ (<span style=\"color: #00d7ff; text-decoration-color: #00d7ff\">None</span>, <span style=\"color: #00af00; text-decoration-color: #00af00\">24</span>)             │        <span style=\"color: #00af00; text-decoration-color: #00af00\">98,424</span> │\n",
       "└─────────────────────────────────┴────────────────────────┴───────────────┘\n",
       "</pre>\n"
      ],
      "text/plain": [
       "┏━━━━━━━━━━━━━━━━━━━━━━━━━━━━━━━━━┳━━━━━━━━━━━━━━━━━━━━━━━━┳━━━━━━━━━━━━━━━┓\n",
       "┃\u001b[1m \u001b[0m\u001b[1mLayer (type)                   \u001b[0m\u001b[1m \u001b[0m┃\u001b[1m \u001b[0m\u001b[1mOutput Shape          \u001b[0m\u001b[1m \u001b[0m┃\u001b[1m \u001b[0m\u001b[1m      Param #\u001b[0m\u001b[1m \u001b[0m┃\n",
       "┡━━━━━━━━━━━━━━━━━━━━━━━━━━━━━━━━━╇━━━━━━━━━━━━━━━━━━━━━━━━╇━━━━━━━━━━━━━━━┩\n",
       "│ input_layer (\u001b[38;5;33mInputLayer\u001b[0m)        │ (\u001b[38;5;45mNone\u001b[0m, \u001b[38;5;34m128\u001b[0m, \u001b[38;5;34m128\u001b[0m, \u001b[38;5;34m3\u001b[0m)    │             \u001b[38;5;34m0\u001b[0m │\n",
       "├─────────────────────────────────┼────────────────────────┼───────────────┤\n",
       "│ block1_conv1 (\u001b[38;5;33mConv2D\u001b[0m)           │ (\u001b[38;5;45mNone\u001b[0m, \u001b[38;5;34m128\u001b[0m, \u001b[38;5;34m128\u001b[0m, \u001b[38;5;34m64\u001b[0m)   │         \u001b[38;5;34m1,792\u001b[0m │\n",
       "├─────────────────────────────────┼────────────────────────┼───────────────┤\n",
       "│ block1_conv2 (\u001b[38;5;33mConv2D\u001b[0m)           │ (\u001b[38;5;45mNone\u001b[0m, \u001b[38;5;34m128\u001b[0m, \u001b[38;5;34m128\u001b[0m, \u001b[38;5;34m64\u001b[0m)   │        \u001b[38;5;34m36,928\u001b[0m │\n",
       "├─────────────────────────────────┼────────────────────────┼───────────────┤\n",
       "│ block1_pool (\u001b[38;5;33mMaxPooling2D\u001b[0m)      │ (\u001b[38;5;45mNone\u001b[0m, \u001b[38;5;34m64\u001b[0m, \u001b[38;5;34m64\u001b[0m, \u001b[38;5;34m64\u001b[0m)     │             \u001b[38;5;34m0\u001b[0m │\n",
       "├─────────────────────────────────┼────────────────────────┼───────────────┤\n",
       "│ block2_conv1 (\u001b[38;5;33mConv2D\u001b[0m)           │ (\u001b[38;5;45mNone\u001b[0m, \u001b[38;5;34m64\u001b[0m, \u001b[38;5;34m64\u001b[0m, \u001b[38;5;34m128\u001b[0m)    │        \u001b[38;5;34m73,856\u001b[0m │\n",
       "├─────────────────────────────────┼────────────────────────┼───────────────┤\n",
       "│ block2_conv2 (\u001b[38;5;33mConv2D\u001b[0m)           │ (\u001b[38;5;45mNone\u001b[0m, \u001b[38;5;34m64\u001b[0m, \u001b[38;5;34m64\u001b[0m, \u001b[38;5;34m128\u001b[0m)    │       \u001b[38;5;34m147,584\u001b[0m │\n",
       "├─────────────────────────────────┼────────────────────────┼───────────────┤\n",
       "│ block2_pool (\u001b[38;5;33mMaxPooling2D\u001b[0m)      │ (\u001b[38;5;45mNone\u001b[0m, \u001b[38;5;34m32\u001b[0m, \u001b[38;5;34m32\u001b[0m, \u001b[38;5;34m128\u001b[0m)    │             \u001b[38;5;34m0\u001b[0m │\n",
       "├─────────────────────────────────┼────────────────────────┼───────────────┤\n",
       "│ block3_conv1 (\u001b[38;5;33mConv2D\u001b[0m)           │ (\u001b[38;5;45mNone\u001b[0m, \u001b[38;5;34m32\u001b[0m, \u001b[38;5;34m32\u001b[0m, \u001b[38;5;34m256\u001b[0m)    │       \u001b[38;5;34m295,168\u001b[0m │\n",
       "├─────────────────────────────────┼────────────────────────┼───────────────┤\n",
       "│ block3_conv2 (\u001b[38;5;33mConv2D\u001b[0m)           │ (\u001b[38;5;45mNone\u001b[0m, \u001b[38;5;34m32\u001b[0m, \u001b[38;5;34m32\u001b[0m, \u001b[38;5;34m256\u001b[0m)    │       \u001b[38;5;34m590,080\u001b[0m │\n",
       "├─────────────────────────────────┼────────────────────────┼───────────────┤\n",
       "│ block3_conv3 (\u001b[38;5;33mConv2D\u001b[0m)           │ (\u001b[38;5;45mNone\u001b[0m, \u001b[38;5;34m32\u001b[0m, \u001b[38;5;34m32\u001b[0m, \u001b[38;5;34m256\u001b[0m)    │       \u001b[38;5;34m590,080\u001b[0m │\n",
       "├─────────────────────────────────┼────────────────────────┼───────────────┤\n",
       "│ block3_pool (\u001b[38;5;33mMaxPooling2D\u001b[0m)      │ (\u001b[38;5;45mNone\u001b[0m, \u001b[38;5;34m16\u001b[0m, \u001b[38;5;34m16\u001b[0m, \u001b[38;5;34m256\u001b[0m)    │             \u001b[38;5;34m0\u001b[0m │\n",
       "├─────────────────────────────────┼────────────────────────┼───────────────┤\n",
       "│ block4_conv1 (\u001b[38;5;33mConv2D\u001b[0m)           │ (\u001b[38;5;45mNone\u001b[0m, \u001b[38;5;34m16\u001b[0m, \u001b[38;5;34m16\u001b[0m, \u001b[38;5;34m512\u001b[0m)    │     \u001b[38;5;34m1,180,160\u001b[0m │\n",
       "├─────────────────────────────────┼────────────────────────┼───────────────┤\n",
       "│ block4_conv2 (\u001b[38;5;33mConv2D\u001b[0m)           │ (\u001b[38;5;45mNone\u001b[0m, \u001b[38;5;34m16\u001b[0m, \u001b[38;5;34m16\u001b[0m, \u001b[38;5;34m512\u001b[0m)    │     \u001b[38;5;34m2,359,808\u001b[0m │\n",
       "├─────────────────────────────────┼────────────────────────┼───────────────┤\n",
       "│ block4_conv3 (\u001b[38;5;33mConv2D\u001b[0m)           │ (\u001b[38;5;45mNone\u001b[0m, \u001b[38;5;34m16\u001b[0m, \u001b[38;5;34m16\u001b[0m, \u001b[38;5;34m512\u001b[0m)    │     \u001b[38;5;34m2,359,808\u001b[0m │\n",
       "├─────────────────────────────────┼────────────────────────┼───────────────┤\n",
       "│ block4_pool (\u001b[38;5;33mMaxPooling2D\u001b[0m)      │ (\u001b[38;5;45mNone\u001b[0m, \u001b[38;5;34m8\u001b[0m, \u001b[38;5;34m8\u001b[0m, \u001b[38;5;34m512\u001b[0m)      │             \u001b[38;5;34m0\u001b[0m │\n",
       "├─────────────────────────────────┼────────────────────────┼───────────────┤\n",
       "│ block5_conv1 (\u001b[38;5;33mConv2D\u001b[0m)           │ (\u001b[38;5;45mNone\u001b[0m, \u001b[38;5;34m8\u001b[0m, \u001b[38;5;34m8\u001b[0m, \u001b[38;5;34m512\u001b[0m)      │     \u001b[38;5;34m2,359,808\u001b[0m │\n",
       "├─────────────────────────────────┼────────────────────────┼───────────────┤\n",
       "│ block5_conv2 (\u001b[38;5;33mConv2D\u001b[0m)           │ (\u001b[38;5;45mNone\u001b[0m, \u001b[38;5;34m8\u001b[0m, \u001b[38;5;34m8\u001b[0m, \u001b[38;5;34m512\u001b[0m)      │     \u001b[38;5;34m2,359,808\u001b[0m │\n",
       "├─────────────────────────────────┼────────────────────────┼───────────────┤\n",
       "│ block5_conv3 (\u001b[38;5;33mConv2D\u001b[0m)           │ (\u001b[38;5;45mNone\u001b[0m, \u001b[38;5;34m8\u001b[0m, \u001b[38;5;34m8\u001b[0m, \u001b[38;5;34m512\u001b[0m)      │     \u001b[38;5;34m2,359,808\u001b[0m │\n",
       "├─────────────────────────────────┼────────────────────────┼───────────────┤\n",
       "│ block5_pool (\u001b[38;5;33mMaxPooling2D\u001b[0m)      │ (\u001b[38;5;45mNone\u001b[0m, \u001b[38;5;34m4\u001b[0m, \u001b[38;5;34m4\u001b[0m, \u001b[38;5;34m512\u001b[0m)      │             \u001b[38;5;34m0\u001b[0m │\n",
       "├─────────────────────────────────┼────────────────────────┼───────────────┤\n",
       "│ flatten (\u001b[38;5;33mFlatten\u001b[0m)               │ (\u001b[38;5;45mNone\u001b[0m, \u001b[38;5;34m8192\u001b[0m)           │             \u001b[38;5;34m0\u001b[0m │\n",
       "├─────────────────────────────────┼────────────────────────┼───────────────┤\n",
       "│ dense (\u001b[38;5;33mDense\u001b[0m)                   │ (\u001b[38;5;45mNone\u001b[0m, \u001b[38;5;34m4100\u001b[0m)           │    \u001b[38;5;34m33,591,300\u001b[0m │\n",
       "├─────────────────────────────────┼────────────────────────┼───────────────┤\n",
       "│ dropout (\u001b[38;5;33mDropout\u001b[0m)               │ (\u001b[38;5;45mNone\u001b[0m, \u001b[38;5;34m4100\u001b[0m)           │             \u001b[38;5;34m0\u001b[0m │\n",
       "├─────────────────────────────────┼────────────────────────┼───────────────┤\n",
       "│ dense_1 (\u001b[38;5;33mDense\u001b[0m)                 │ (\u001b[38;5;45mNone\u001b[0m, \u001b[38;5;34m24\u001b[0m)             │        \u001b[38;5;34m98,424\u001b[0m │\n",
       "└─────────────────────────────────┴────────────────────────┴───────────────┘\n"
      ]
     },
     "metadata": {},
     "output_type": "display_data"
    },
    {
     "data": {
      "text/html": [
       "<pre style=\"white-space:pre;overflow-x:auto;line-height:normal;font-family:Menlo,'DejaVu Sans Mono',consolas,'Courier New',monospace\"><span style=\"font-weight: bold\"> Total params: </span><span style=\"color: #00af00; text-decoration-color: #00af00\">48,404,412</span> (184.65 MB)\n",
       "</pre>\n"
      ],
      "text/plain": [
       "\u001b[1m Total params: \u001b[0m\u001b[38;5;34m48,404,412\u001b[0m (184.65 MB)\n"
      ]
     },
     "metadata": {},
     "output_type": "display_data"
    },
    {
     "data": {
      "text/html": [
       "<pre style=\"white-space:pre;overflow-x:auto;line-height:normal;font-family:Menlo,'DejaVu Sans Mono',consolas,'Courier New',monospace\"><span style=\"font-weight: bold\"> Trainable params: </span><span style=\"color: #00af00; text-decoration-color: #00af00\">48,404,412</span> (184.65 MB)\n",
       "</pre>\n"
      ],
      "text/plain": [
       "\u001b[1m Trainable params: \u001b[0m\u001b[38;5;34m48,404,412\u001b[0m (184.65 MB)\n"
      ]
     },
     "metadata": {},
     "output_type": "display_data"
    },
    {
     "data": {
      "text/html": [
       "<pre style=\"white-space:pre;overflow-x:auto;line-height:normal;font-family:Menlo,'DejaVu Sans Mono',consolas,'Courier New',monospace\"><span style=\"font-weight: bold\"> Non-trainable params: </span><span style=\"color: #00af00; text-decoration-color: #00af00\">0</span> (0.00 B)\n",
       "</pre>\n"
      ],
      "text/plain": [
       "\u001b[1m Non-trainable params: \u001b[0m\u001b[38;5;34m0\u001b[0m (0.00 B)\n"
      ]
     },
     "metadata": {},
     "output_type": "display_data"
    }
   ],
   "source": [
    "model.summary()"
   ]
  },
  {
   "cell_type": "code",
   "execution_count": 20,
   "id": "1af0a98e",
   "metadata": {
    "execution": {
     "iopub.execute_input": "2024-07-31T15:44:29.892880Z",
     "iopub.status.busy": "2024-07-31T15:44:29.892024Z",
     "iopub.status.idle": "2024-07-31T15:44:29.908173Z",
     "shell.execute_reply": "2024-07-31T15:44:29.907333Z"
    },
    "papermill": {
     "duration": 0.034484,
     "end_time": "2024-07-31T15:44:29.910501",
     "exception": false,
     "start_time": "2024-07-31T15:44:29.876017",
     "status": "completed"
    },
    "tags": []
   },
   "outputs": [],
   "source": [
    "model.compile(optimizer='adam',loss='categorical_crossentropy',metrics=['accuracy'])"
   ]
  },
  {
   "cell_type": "code",
   "execution_count": 21,
   "id": "a937cbac",
   "metadata": {
    "execution": {
     "iopub.execute_input": "2024-07-31T15:44:29.942052Z",
     "iopub.status.busy": "2024-07-31T15:44:29.941415Z",
     "iopub.status.idle": "2024-07-31T15:44:29.947514Z",
     "shell.execute_reply": "2024-07-31T15:44:29.946637Z"
    },
    "papermill": {
     "duration": 0.024065,
     "end_time": "2024-07-31T15:44:29.949657",
     "exception": false,
     "start_time": "2024-07-31T15:44:29.925592",
     "status": "completed"
    },
    "tags": []
   },
   "outputs": [
    {
     "data": {
      "text/plain": [
       "6231"
      ]
     },
     "execution_count": 21,
     "metadata": {},
     "output_type": "execute_result"
    }
   ],
   "source": [
    "train_data.samples"
   ]
  },
  {
   "cell_type": "markdown",
   "id": "98bc9ccd",
   "metadata": {
    "papermill": {
     "duration": 0.014617,
     "end_time": "2024-07-31T15:44:29.978999",
     "exception": false,
     "start_time": "2024-07-31T15:44:29.964382",
     "status": "completed"
    },
    "tags": []
   },
   "source": []
  },
  {
   "cell_type": "code",
   "execution_count": 22,
   "id": "b03e48e3",
   "metadata": {
    "execution": {
     "iopub.execute_input": "2024-07-31T15:44:30.010442Z",
     "iopub.status.busy": "2024-07-31T15:44:30.009661Z",
     "iopub.status.idle": "2024-07-31T15:44:30.014405Z",
     "shell.execute_reply": "2024-07-31T15:44:30.013462Z"
    },
    "papermill": {
     "duration": 0.022952,
     "end_time": "2024-07-31T15:44:30.016634",
     "exception": false,
     "start_time": "2024-07-31T15:44:29.993682",
     "status": "completed"
    },
    "tags": []
   },
   "outputs": [],
   "source": [
    "batch_size=64\n",
    "steps_per_epoch=train_data.samples//batch_size \n",
    "\n",
    "validation_steps=val_data.samples//batch_size "
   ]
  },
  {
   "cell_type": "code",
   "execution_count": 23,
   "id": "f5562cd9",
   "metadata": {
    "execution": {
     "iopub.execute_input": "2024-07-31T15:44:30.047999Z",
     "iopub.status.busy": "2024-07-31T15:44:30.047645Z",
     "iopub.status.idle": "2024-07-31T15:44:30.052409Z",
     "shell.execute_reply": "2024-07-31T15:44:30.051435Z"
    },
    "papermill": {
     "duration": 0.023005,
     "end_time": "2024-07-31T15:44:30.054511",
     "exception": false,
     "start_time": "2024-07-31T15:44:30.031506",
     "status": "completed"
    },
    "tags": []
   },
   "outputs": [],
   "source": [
    "early_stopping = EarlyStopping(\n",
    "    monitor='val_loss',       \n",
    "    patience=10,                \n",
    "    restore_best_weights=True  \n",
    ")"
   ]
  },
  {
   "cell_type": "code",
   "execution_count": 24,
   "id": "fe1f1559",
   "metadata": {
    "execution": {
     "iopub.execute_input": "2024-07-31T15:44:30.086889Z",
     "iopub.status.busy": "2024-07-31T15:44:30.086013Z",
     "iopub.status.idle": "2024-07-31T15:55:12.439729Z",
     "shell.execute_reply": "2024-07-31T15:55:12.438534Z"
    },
    "papermill": {
     "duration": 642.372654,
     "end_time": "2024-07-31T15:55:12.442512",
     "exception": false,
     "start_time": "2024-07-31T15:44:30.069858",
     "status": "completed"
    },
    "tags": []
   },
   "outputs": [
    {
     "name": "stdout",
     "output_type": "stream",
     "text": [
      "Epoch 1/50\n"
     ]
    },
    {
     "name": "stderr",
     "output_type": "stream",
     "text": [
      "/opt/conda/lib/python3.10/site-packages/keras/src/trainers/data_adapters/py_dataset_adapter.py:121: UserWarning: Your `PyDataset` class should call `super().__init__(**kwargs)` in its constructor. `**kwargs` can include `workers`, `use_multiprocessing`, `max_queue_size`. Do not pass these arguments to `fit()`, as they will be ignored.\n",
      "  self._warn_if_super_not_called()\n",
      "WARNING: All log messages before absl::InitializeLog() is called are written to STDERR\n",
      "I0000 00:00:1722440713.270319      94 device_compiler.h:186] Compiled cluster using XLA!  This line is logged at most once for the lifetime of the process.\n",
      "W0000 00:00:1722440713.300083      94 graph_launch.cc:671] Fallback to op-by-op mode because memset node breaks graph update\n"
     ]
    },
    {
     "name": "stdout",
     "output_type": "stream",
     "text": [
      "\u001b[1m 7/97\u001b[0m \u001b[32m━\u001b[0m\u001b[37m━━━━━━━━━━━━━━━━━━━\u001b[0m \u001b[1m7:46\u001b[0m 5s/step - accuracy: 0.0476 - loss: 24.9968  "
     ]
    },
    {
     "name": "stderr",
     "output_type": "stream",
     "text": [
      "W0000 00:00:1722440744.392468      93 graph_launch.cc:671] Fallback to op-by-op mode because memset node breaks graph update\n"
     ]
    },
    {
     "name": "stdout",
     "output_type": "stream",
     "text": [
      "\u001b[1m97/97\u001b[0m \u001b[32m━━━━━━━━━━━━━━━━━━━━\u001b[0m\u001b[37m\u001b[0m \u001b[1m0s\u001b[0m 539ms/step - accuracy: 0.0928 - loss: 7.5699"
     ]
    },
    {
     "name": "stderr",
     "output_type": "stream",
     "text": [
      "W0000 00:00:1722440766.923643      92 graph_launch.cc:671] Fallback to op-by-op mode because memset node breaks graph update\n"
     ]
    },
    {
     "name": "stdout",
     "output_type": "stream",
     "text": [
      "\u001b[1m97/97\u001b[0m \u001b[32m━━━━━━━━━━━━━━━━━━━━\u001b[0m\u001b[37m\u001b[0m \u001b[1m107s\u001b[0m 672ms/step - accuracy: 0.0934 - loss: 7.5339 - val_accuracy: 0.3919 - val_loss: 1.8824\n",
      "Epoch 2/50\n",
      "\u001b[1m97/97\u001b[0m \u001b[32m━━━━━━━━━━━━━━━━━━━━\u001b[0m\u001b[37m\u001b[0m \u001b[1m23s\u001b[0m 235ms/step - accuracy: 0.5833 - loss: 1.2566 - val_accuracy: 0.8451 - val_loss: 0.4118\n",
      "Epoch 3/50\n",
      "\u001b[1m 1/97\u001b[0m \u001b[37m━━━━━━━━━━━━━━━━━━━━\u001b[0m \u001b[1m16s\u001b[0m 171ms/step - accuracy: 0.8125 - loss: 0.4921"
     ]
    },
    {
     "name": "stderr",
     "output_type": "stream",
     "text": [
      "/opt/conda/lib/python3.10/contextlib.py:153: UserWarning: Your input ran out of data; interrupting training. Make sure that your dataset or generator can generate at least `steps_per_epoch * epochs` batches. You may need to use the `.repeat()` function when building your dataset.\n",
      "  self.gen.throw(typ, value, traceback)\n"
     ]
    },
    {
     "name": "stdout",
     "output_type": "stream",
     "text": [
      "\u001b[1m97/97\u001b[0m \u001b[32m━━━━━━━━━━━━━━━━━━━━\u001b[0m\u001b[37m\u001b[0m \u001b[1m6s\u001b[0m 66ms/step - accuracy: 0.8125 - loss: 0.4921 - val_accuracy: 0.8571 - val_loss: 0.2785\n",
      "Epoch 4/50\n",
      "\u001b[1m97/97\u001b[0m \u001b[32m━━━━━━━━━━━━━━━━━━━━\u001b[0m\u001b[37m\u001b[0m \u001b[1m21s\u001b[0m 206ms/step - accuracy: 0.8358 - loss: 0.4604 - val_accuracy: 0.7832 - val_loss: 0.6438\n",
      "Epoch 5/50\n",
      "\u001b[1m97/97\u001b[0m \u001b[32m━━━━━━━━━━━━━━━━━━━━\u001b[0m\u001b[37m\u001b[0m \u001b[1m19s\u001b[0m 192ms/step - accuracy: 0.8901 - loss: 0.3134 - val_accuracy: 0.8190 - val_loss: 0.7370\n",
      "Epoch 6/50\n",
      "\u001b[1m97/97\u001b[0m \u001b[32m━━━━━━━━━━━━━━━━━━━━\u001b[0m\u001b[37m\u001b[0m \u001b[1m0s\u001b[0m 758us/step - accuracy: 0.7812 - loss: 0.7016 - val_accuracy: 0.6667 - val_loss: 1.0198\n",
      "Epoch 7/50\n",
      "\u001b[1m97/97\u001b[0m \u001b[32m━━━━━━━━━━━━━━━━━━━━\u001b[0m\u001b[37m\u001b[0m \u001b[1m20s\u001b[0m 194ms/step - accuracy: 0.8789 - loss: 0.3709 - val_accuracy: 0.9473 - val_loss: 0.1320\n",
      "Epoch 8/50\n",
      "\u001b[1m97/97\u001b[0m \u001b[32m━━━━━━━━━━━━━━━━━━━━\u001b[0m\u001b[37m\u001b[0m \u001b[1m18s\u001b[0m 189ms/step - accuracy: 0.9570 - loss: 0.1271 - val_accuracy: 0.9629 - val_loss: 0.1151\n",
      "Epoch 9/50\n",
      "\u001b[1m97/97\u001b[0m \u001b[32m━━━━━━━━━━━━━━━━━━━━\u001b[0m\u001b[37m\u001b[0m \u001b[1m0s\u001b[0m 713us/step - accuracy: 0.9688 - loss: 0.1018 - val_accuracy: 0.9762 - val_loss: 0.1498\n",
      "Epoch 10/50\n",
      "\u001b[1m97/97\u001b[0m \u001b[32m━━━━━━━━━━━━━━━━━━━━\u001b[0m\u001b[37m\u001b[0m \u001b[1m19s\u001b[0m 191ms/step - accuracy: 0.9423 - loss: 0.1932 - val_accuracy: 0.9961 - val_loss: 0.0189\n",
      "Epoch 11/50\n",
      "\u001b[1m97/97\u001b[0m \u001b[32m━━━━━━━━━━━━━━━━━━━━\u001b[0m\u001b[37m\u001b[0m \u001b[1m18s\u001b[0m 185ms/step - accuracy: 0.9412 - loss: 0.2024 - val_accuracy: 0.9837 - val_loss: 0.0540\n",
      "Epoch 12/50\n",
      "\u001b[1m97/97\u001b[0m \u001b[32m━━━━━━━━━━━━━━━━━━━━\u001b[0m\u001b[37m\u001b[0m \u001b[1m0s\u001b[0m 777us/step - accuracy: 1.0000 - loss: 0.0128 - val_accuracy: 0.9524 - val_loss: 0.0922\n",
      "Epoch 13/50\n",
      "\u001b[1m97/97\u001b[0m \u001b[32m━━━━━━━━━━━━━━━━━━━━\u001b[0m\u001b[37m\u001b[0m \u001b[1m19s\u001b[0m 186ms/step - accuracy: 0.9770 - loss: 0.0732 - val_accuracy: 0.9668 - val_loss: 0.0917\n",
      "Epoch 14/50\n",
      "\u001b[1m97/97\u001b[0m \u001b[32m━━━━━━━━━━━━━━━━━━━━\u001b[0m\u001b[37m\u001b[0m \u001b[1m18s\u001b[0m 185ms/step - accuracy: 0.9691 - loss: 0.1069 - val_accuracy: 0.9928 - val_loss: 0.0234\n",
      "Epoch 15/50\n",
      "\u001b[1m97/97\u001b[0m \u001b[32m━━━━━━━━━━━━━━━━━━━━\u001b[0m\u001b[37m\u001b[0m \u001b[1m0s\u001b[0m 3ms/step - accuracy: 1.0000 - loss: 0.0077 - val_accuracy: 1.0000 - val_loss: 0.0102\n",
      "Epoch 16/50\n",
      "\u001b[1m97/97\u001b[0m \u001b[32m━━━━━━━━━━━━━━━━━━━━\u001b[0m\u001b[37m\u001b[0m \u001b[1m19s\u001b[0m 186ms/step - accuracy: 0.9750 - loss: 0.0788 - val_accuracy: 0.9824 - val_loss: 0.0549\n",
      "Epoch 17/50\n",
      "\u001b[1m97/97\u001b[0m \u001b[32m━━━━━━━━━━━━━━━━━━━━\u001b[0m\u001b[37m\u001b[0m \u001b[1m18s\u001b[0m 185ms/step - accuracy: 0.9788 - loss: 0.0627 - val_accuracy: 0.9017 - val_loss: 0.2656\n",
      "Epoch 18/50\n",
      "\u001b[1m97/97\u001b[0m \u001b[32m━━━━━━━━━━━━━━━━━━━━\u001b[0m\u001b[37m\u001b[0m \u001b[1m0s\u001b[0m 751us/step - accuracy: 0.9062 - loss: 0.2021 - val_accuracy: 0.8571 - val_loss: 0.2644\n",
      "Epoch 19/50\n",
      "\u001b[1m97/97\u001b[0m \u001b[32m━━━━━━━━━━━━━━━━━━━━\u001b[0m\u001b[37m\u001b[0m \u001b[1m19s\u001b[0m 187ms/step - accuracy: 0.9565 - loss: 0.1161 - val_accuracy: 1.0000 - val_loss: 0.0027\n",
      "Epoch 20/50\n",
      "\u001b[1m97/97\u001b[0m \u001b[32m━━━━━━━━━━━━━━━━━━━━\u001b[0m\u001b[37m\u001b[0m \u001b[1m18s\u001b[0m 182ms/step - accuracy: 0.9998 - loss: 0.0019 - val_accuracy: 0.9961 - val_loss: 0.0080\n",
      "Epoch 21/50\n",
      "\u001b[1m97/97\u001b[0m \u001b[32m━━━━━━━━━━━━━━━━━━━━\u001b[0m\u001b[37m\u001b[0m \u001b[1m0s\u001b[0m 3ms/step - accuracy: 1.0000 - loss: 0.0086 - val_accuracy: 1.0000 - val_loss: 9.7551e-04\n",
      "Epoch 22/50\n",
      "\u001b[1m97/97\u001b[0m \u001b[32m━━━━━━━━━━━━━━━━━━━━\u001b[0m\u001b[37m\u001b[0m \u001b[1m19s\u001b[0m 187ms/step - accuracy: 0.9983 - loss: 0.0055 - val_accuracy: 0.9915 - val_loss: 0.0261\n",
      "Epoch 23/50\n",
      "\u001b[1m97/97\u001b[0m \u001b[32m━━━━━━━━━━━━━━━━━━━━\u001b[0m\u001b[37m\u001b[0m \u001b[1m18s\u001b[0m 186ms/step - accuracy: 0.9891 - loss: 0.0299 - val_accuracy: 0.9180 - val_loss: 0.2567\n",
      "Epoch 24/50\n",
      "\u001b[1m97/97\u001b[0m \u001b[32m━━━━━━━━━━━━━━━━━━━━\u001b[0m\u001b[37m\u001b[0m \u001b[1m0s\u001b[0m 777us/step - accuracy: 0.9062 - loss: 0.3028 - val_accuracy: 0.9286 - val_loss: 0.1604\n",
      "Epoch 25/50\n",
      "\u001b[1m97/97\u001b[0m \u001b[32m━━━━━━━━━━━━━━━━━━━━\u001b[0m\u001b[37m\u001b[0m \u001b[1m19s\u001b[0m 189ms/step - accuracy: 0.9785 - loss: 0.0727 - val_accuracy: 0.9974 - val_loss: 0.0076\n",
      "Epoch 26/50\n",
      "\u001b[1m97/97\u001b[0m \u001b[32m━━━━━━━━━━━━━━━━━━━━\u001b[0m\u001b[37m\u001b[0m \u001b[1m18s\u001b[0m 187ms/step - accuracy: 0.9978 - loss: 0.0059 - val_accuracy: 1.0000 - val_loss: 3.0452e-04\n",
      "Epoch 27/50\n",
      "\u001b[1m97/97\u001b[0m \u001b[32m━━━━━━━━━━━━━━━━━━━━\u001b[0m\u001b[37m\u001b[0m \u001b[1m0s\u001b[0m 3ms/step - accuracy: 1.0000 - loss: 1.5976e-04 - val_accuracy: 1.0000 - val_loss: 2.1386e-04\n",
      "Epoch 28/50\n",
      "\u001b[1m97/97\u001b[0m \u001b[32m━━━━━━━━━━━━━━━━━━━━\u001b[0m\u001b[37m\u001b[0m \u001b[1m19s\u001b[0m 189ms/step - accuracy: 1.0000 - loss: 2.7979e-04 - val_accuracy: 1.0000 - val_loss: 1.6067e-04\n",
      "Epoch 29/50\n",
      "\u001b[1m97/97\u001b[0m \u001b[32m━━━━━━━━━━━━━━━━━━━━\u001b[0m\u001b[37m\u001b[0m \u001b[1m18s\u001b[0m 186ms/step - accuracy: 1.0000 - loss: 1.8145e-04 - val_accuracy: 1.0000 - val_loss: 1.1520e-04\n",
      "Epoch 30/50\n",
      "\u001b[1m97/97\u001b[0m \u001b[32m━━━━━━━━━━━━━━━━━━━━\u001b[0m\u001b[37m\u001b[0m \u001b[1m0s\u001b[0m 3ms/step - accuracy: 1.0000 - loss: 1.5467e-04 - val_accuracy: 1.0000 - val_loss: 2.7437e-05\n",
      "Epoch 31/50\n",
      "\u001b[1m97/97\u001b[0m \u001b[32m━━━━━━━━━━━━━━━━━━━━\u001b[0m\u001b[37m\u001b[0m \u001b[1m19s\u001b[0m 187ms/step - accuracy: 1.0000 - loss: 1.1765e-04 - val_accuracy: 1.0000 - val_loss: 9.7159e-05\n",
      "Epoch 32/50\n",
      "\u001b[1m97/97\u001b[0m \u001b[32m━━━━━━━━━━━━━━━━━━━━\u001b[0m\u001b[37m\u001b[0m \u001b[1m18s\u001b[0m 184ms/step - accuracy: 1.0000 - loss: 1.2127e-04 - val_accuracy: 1.0000 - val_loss: 4.1126e-05\n",
      "Epoch 33/50\n",
      "\u001b[1m97/97\u001b[0m \u001b[32m━━━━━━━━━━━━━━━━━━━━\u001b[0m\u001b[37m\u001b[0m \u001b[1m0s\u001b[0m 3ms/step - accuracy: 1.0000 - loss: 1.2210e-04 - val_accuracy: 1.0000 - val_loss: 1.5337e-05\n",
      "Epoch 34/50\n",
      "\u001b[1m97/97\u001b[0m \u001b[32m━━━━━━━━━━━━━━━━━━━━\u001b[0m\u001b[37m\u001b[0m \u001b[1m19s\u001b[0m 184ms/step - accuracy: 1.0000 - loss: 6.0674e-05 - val_accuracy: 1.0000 - val_loss: 7.2182e-05\n",
      "Epoch 35/50\n",
      "\u001b[1m97/97\u001b[0m \u001b[32m━━━━━━━━━━━━━━━━━━━━\u001b[0m\u001b[37m\u001b[0m \u001b[1m18s\u001b[0m 184ms/step - accuracy: 1.0000 - loss: 6.9250e-05 - val_accuracy: 1.0000 - val_loss: 5.8793e-05\n",
      "Epoch 36/50\n",
      "\u001b[1m97/97\u001b[0m \u001b[32m━━━━━━━━━━━━━━━━━━━━\u001b[0m\u001b[37m\u001b[0m \u001b[1m0s\u001b[0m 747us/step - accuracy: 1.0000 - loss: 2.4231e-05 - val_accuracy: 1.0000 - val_loss: 4.9500e-05\n",
      "Epoch 37/50\n",
      "\u001b[1m97/97\u001b[0m \u001b[32m━━━━━━━━━━━━━━━━━━━━\u001b[0m\u001b[37m\u001b[0m \u001b[1m19s\u001b[0m 186ms/step - accuracy: 1.0000 - loss: 7.3341e-05 - val_accuracy: 1.0000 - val_loss: 4.7368e-05\n",
      "Epoch 38/50\n",
      "\u001b[1m97/97\u001b[0m \u001b[32m━━━━━━━━━━━━━━━━━━━━\u001b[0m\u001b[37m\u001b[0m \u001b[1m18s\u001b[0m 182ms/step - accuracy: 1.0000 - loss: 3.9438e-05 - val_accuracy: 1.0000 - val_loss: 3.9768e-05\n",
      "Epoch 39/50\n",
      "\u001b[1m97/97\u001b[0m \u001b[32m━━━━━━━━━━━━━━━━━━━━\u001b[0m\u001b[37m\u001b[0m \u001b[1m0s\u001b[0m 749us/step - accuracy: 1.0000 - loss: 1.8715e-05 - val_accuracy: 1.0000 - val_loss: 5.9319e-05\n",
      "Epoch 40/50\n",
      "\u001b[1m97/97\u001b[0m \u001b[32m━━━━━━━━━━━━━━━━━━━━\u001b[0m\u001b[37m\u001b[0m \u001b[1m19s\u001b[0m 187ms/step - accuracy: 1.0000 - loss: 5.0673e-05 - val_accuracy: 1.0000 - val_loss: 3.7073e-05\n",
      "Epoch 41/50\n",
      "\u001b[1m97/97\u001b[0m \u001b[32m━━━━━━━━━━━━━━━━━━━━\u001b[0m\u001b[37m\u001b[0m \u001b[1m18s\u001b[0m 184ms/step - accuracy: 1.0000 - loss: 3.2035e-05 - val_accuracy: 1.0000 - val_loss: 2.3780e-05\n",
      "Epoch 42/50\n",
      "\u001b[1m97/97\u001b[0m \u001b[32m━━━━━━━━━━━━━━━━━━━━\u001b[0m\u001b[37m\u001b[0m \u001b[1m0s\u001b[0m 731us/step - accuracy: 1.0000 - loss: 1.2571e-04 - val_accuracy: 1.0000 - val_loss: 1.6242e-05\n",
      "Epoch 43/50\n",
      "\u001b[1m97/97\u001b[0m \u001b[32m━━━━━━━━━━━━━━━━━━━━\u001b[0m\u001b[37m\u001b[0m \u001b[1m19s\u001b[0m 186ms/step - accuracy: 1.0000 - loss: 3.7338e-05 - val_accuracy: 1.0000 - val_loss: 2.4452e-05\n"
     ]
    }
   ],
   "source": [
    "history=model.fit(train_data, epochs=50, steps_per_epoch=steps_per_epoch, \n",
    "                  validation_data=val_data, validation_steps=validation_steps, \n",
    "                  callbacks=[early_stopping] )"
   ]
  },
  {
   "cell_type": "code",
   "execution_count": 25,
   "id": "6899ad5e",
   "metadata": {
    "execution": {
     "iopub.execute_input": "2024-07-31T15:55:13.017589Z",
     "iopub.status.busy": "2024-07-31T15:55:13.016612Z",
     "iopub.status.idle": "2024-07-31T15:55:13.270108Z",
     "shell.execute_reply": "2024-07-31T15:55:13.269077Z"
    },
    "papermill": {
     "duration": 0.541782,
     "end_time": "2024-07-31T15:55:13.272436",
     "exception": false,
     "start_time": "2024-07-31T15:55:12.730654",
     "status": "completed"
    },
    "tags": []
   },
   "outputs": [
    {
     "data": {
      "text/plain": [
       "<matplotlib.legend.Legend at 0x7a2186ce4430>"
      ]
     },
     "execution_count": 25,
     "metadata": {},
     "output_type": "execute_result"
    },
    {
     "data": {
      "image/png": "[encoded data removed]",
      "text/plain": [
       "<Figure size 640x480 with 1 Axes>"
      ]
     },
     "metadata": {},
     "output_type": "display_data"
    }
   ],
   "source": [
    "plt.plot(history.history['loss'])\n",
    "plt.plot(history.history['val_loss'])\n",
    "plt.legend()"
   ]
  },
  {
   "cell_type": "code",
   "execution_count": 26,
   "id": "0278b926",
   "metadata": {
    "execution": {
     "iopub.execute_input": "2024-07-31T15:55:13.897072Z",
     "iopub.status.busy": "2024-07-31T15:55:13.896687Z",
     "iopub.status.idle": "2024-07-31T15:55:49.929229Z",
     "shell.execute_reply": "2024-07-31T15:55:49.928174Z"
    },
    "papermill": {
     "duration": 36.322205,
     "end_time": "2024-07-31T15:55:49.932091",
     "exception": false,
     "start_time": "2024-07-31T15:55:13.609886",
     "status": "completed"
    },
    "tags": []
   },
   "outputs": [
    {
     "name": "stdout",
     "output_type": "stream",
     "text": [
      "\u001b[1m 1/98\u001b[0m \u001b[37m━━━━━━━━━━━━━━━━━━━━\u001b[0m \u001b[1m1:21\u001b[0m 845ms/step"
     ]
    },
    {
     "name": "stderr",
     "output_type": "stream",
     "text": [
      "W0000 00:00:1722441315.330615      94 graph_launch.cc:671] Fallback to op-by-op mode because memset node breaks graph update\n"
     ]
    },
    {
     "name": "stdout",
     "output_type": "stream",
     "text": [
      "\u001b[1m98/98\u001b[0m \u001b[32m━━━━━━━━━━━━━━━━━━━━\u001b[0m\u001b[37m\u001b[0m \u001b[1m35s\u001b[0m 356ms/step\n"
     ]
    },
    {
     "data": {
      "text/plain": [
       "array([[9.99995470e-01, 8.53642286e-18, 6.41614413e-15, ...,\n",
       "        1.59997331e-08, 2.25639752e-15, 1.21284183e-14],\n",
       "       [9.99997735e-01, 2.02985143e-17, 4.49314810e-15, ...,\n",
       "        4.48624249e-09, 2.27466420e-15, 3.66047787e-15],\n",
       "       [1.00000000e+00, 5.56923369e-17, 2.21182834e-15, ...,\n",
       "        8.01912009e-12, 1.04605045e-14, 1.94331857e-17],\n",
       "       ...,\n",
       "       [1.46174628e-21, 3.54228433e-20, 3.86475061e-17, ...,\n",
       "        1.43828532e-10, 2.15252467e-19, 1.00000000e+00],\n",
       "       [6.81525868e-20, 1.71880247e-19, 3.26245301e-16, ...,\n",
       "        4.53267007e-10, 3.89946093e-18, 1.00000000e+00],\n",
       "       [5.34800589e-22, 8.64207472e-23, 6.90225663e-19, ...,\n",
       "        4.69343002e-11, 3.38107717e-20, 1.00000000e+00]], dtype=float32)"
      ]
     },
     "execution_count": 26,
     "metadata": {},
     "output_type": "execute_result"
    }
   ],
   "source": [
    "predictions=model.predict(test_data)\n",
    "predictions"
   ]
  },
  {
   "cell_type": "code",
   "execution_count": 27,
   "id": "c4e3adf6",
   "metadata": {
    "execution": {
     "iopub.execute_input": "2024-07-31T15:55:50.497991Z",
     "iopub.status.busy": "2024-07-31T15:55:50.497085Z",
     "iopub.status.idle": "2024-07-31T15:55:50.504549Z",
     "shell.execute_reply": "2024-07-31T15:55:50.503543Z"
    },
    "papermill": {
     "duration": 0.292888,
     "end_time": "2024-07-31T15:55:50.506905",
     "exception": false,
     "start_time": "2024-07-31T15:55:50.214017",
     "status": "completed"
    },
    "tags": []
   },
   "outputs": [
    {
     "data": {
      "text/plain": [
       "array([ 0,  0,  0, ..., 23, 23, 23])"
      ]
     },
     "execution_count": 27,
     "metadata": {},
     "output_type": "execute_result"
    }
   ],
   "source": [
    "predictions_label=np.argmax(predictions,axis=1)\n",
    "predictions_label"
   ]
  },
  {
   "cell_type": "code",
   "execution_count": 28,
   "id": "b20e8ef2",
   "metadata": {
    "execution": {
     "iopub.execute_input": "2024-07-31T15:55:51.112238Z",
     "iopub.status.busy": "2024-07-31T15:55:51.111465Z",
     "iopub.status.idle": "2024-07-31T15:55:51.117799Z",
     "shell.execute_reply": "2024-07-31T15:55:51.116790Z"
    },
    "papermill": {
     "duration": 0.299166,
     "end_time": "2024-07-31T15:55:51.120481",
     "exception": false,
     "start_time": "2024-07-31T15:55:50.821315",
     "status": "completed"
    },
    "tags": []
   },
   "outputs": [
    {
     "data": {
      "text/plain": [
       "array([ 0,  0,  0, ..., 23, 23, 23], dtype=int32)"
      ]
     },
     "execution_count": 28,
     "metadata": {},
     "output_type": "execute_result"
    }
   ],
   "source": [
    "test_data.classes"
   ]
  },
  {
   "cell_type": "code",
   "execution_count": 29,
   "id": "0f6439fc",
   "metadata": {
    "execution": {
     "iopub.execute_input": "2024-07-31T15:55:51.684610Z",
     "iopub.status.busy": "2024-07-31T15:55:51.684236Z",
     "iopub.status.idle": "2024-07-31T15:55:51.692673Z",
     "shell.execute_reply": "2024-07-31T15:55:51.691719Z"
    },
    "papermill": {
     "duration": 0.286161,
     "end_time": "2024-07-31T15:55:51.694709",
     "exception": false,
     "start_time": "2024-07-31T15:55:51.408548",
     "status": "completed"
    },
    "tags": []
   },
   "outputs": [
    {
     "data": {
      "text/plain": [
       "1.0"
      ]
     },
     "execution_count": 29,
     "metadata": {},
     "output_type": "execute_result"
    }
   ],
   "source": [
    "accuracy_score(test_data.classes,predictions_label)"
   ]
  },
  {
   "cell_type": "code",
   "execution_count": 30,
   "id": "bd54752b",
   "metadata": {
    "execution": {
     "iopub.execute_input": "2024-07-31T15:55:52.273573Z",
     "iopub.status.busy": "2024-07-31T15:55:52.272309Z",
     "iopub.status.idle": "2024-07-31T15:55:52.280793Z",
     "shell.execute_reply": "2024-07-31T15:55:52.279791Z"
    },
    "papermill": {
     "duration": 0.293369,
     "end_time": "2024-07-31T15:55:52.283011",
     "exception": false,
     "start_time": "2024-07-31T15:55:51.989642",
     "status": "completed"
    },
    "tags": []
   },
   "outputs": [
    {
     "data": {
      "text/plain": [
       "{'apple_6': 0,\n",
       " 'apple_braeburn_1': 1,\n",
       " 'apple_crimson_snow_1': 2,\n",
       " 'apple_golden_1': 3,\n",
       " 'apple_golden_2': 4,\n",
       " 'apple_golden_3': 5,\n",
       " 'apple_granny_smith_1': 6,\n",
       " 'apple_hit_1': 7,\n",
       " 'apple_pink_lady_1': 8,\n",
       " 'apple_red_1': 9,\n",
       " 'apple_red_2': 10,\n",
       " 'apple_red_3': 11,\n",
       " 'apple_red_delicios_1': 12,\n",
       " 'apple_red_yellow_1': 13,\n",
       " 'apple_rotten_1': 14,\n",
       " 'cabbage_white_1': 15,\n",
       " 'carrot_1': 16,\n",
       " 'cucumber_1': 17,\n",
       " 'cucumber_3': 18,\n",
       " 'eggplant_violet_1': 19,\n",
       " 'pear_1': 20,\n",
       " 'pear_3': 21,\n",
       " 'zucchini_1': 22,\n",
       " 'zucchini_dark_1': 23}"
      ]
     },
     "execution_count": 30,
     "metadata": {},
     "output_type": "execute_result"
    }
   ],
   "source": [
    "test_data.class_indices"
   ]
  },
  {
   "cell_type": "code",
   "execution_count": 31,
   "id": "0aad7714",
   "metadata": {
    "execution": {
     "iopub.execute_input": "2024-07-31T15:55:52.915241Z",
     "iopub.status.busy": "2024-07-31T15:55:52.914387Z",
     "iopub.status.idle": "2024-07-31T15:55:52.921662Z",
     "shell.execute_reply": "2024-07-31T15:55:52.920685Z"
    },
    "papermill": {
     "duration": 0.353035,
     "end_time": "2024-07-31T15:55:52.923863",
     "exception": false,
     "start_time": "2024-07-31T15:55:52.570828",
     "status": "completed"
    },
    "tags": []
   },
   "outputs": [
    {
     "data": {
      "text/plain": [
       "['apple_6',\n",
       " 'apple_braeburn_1',\n",
       " 'apple_crimson_snow_1',\n",
       " 'apple_golden_1',\n",
       " 'apple_golden_2',\n",
       " 'apple_golden_3',\n",
       " 'apple_granny_smith_1',\n",
       " 'apple_hit_1',\n",
       " 'apple_pink_lady_1',\n",
       " 'apple_red_1',\n",
       " 'apple_red_2',\n",
       " 'apple_red_3',\n",
       " 'apple_red_delicios_1',\n",
       " 'apple_red_yellow_1',\n",
       " 'apple_rotten_1',\n",
       " 'cabbage_white_1',\n",
       " 'carrot_1',\n",
       " 'cucumber_1',\n",
       " 'cucumber_3',\n",
       " 'eggplant_violet_1',\n",
       " 'pear_1',\n",
       " 'pear_3',\n",
       " 'zucchini_1',\n",
       " 'zucchini_dark_1']"
      ]
     },
     "execution_count": 31,
     "metadata": {},
     "output_type": "execute_result"
    }
   ],
   "source": [
    "labels=list(test_data.class_indices.keys())\n",
    "labels"
   ]
  },
  {
   "cell_type": "code",
   "execution_count": 32,
   "id": "31bfe6ce",
   "metadata": {
    "collapsed": true,
    "execution": {
     "iopub.execute_input": "2024-07-31T15:55:53.501288Z",
     "iopub.status.busy": "2024-07-31T15:55:53.500880Z",
     "iopub.status.idle": "2024-07-31T15:55:53.530360Z",
     "shell.execute_reply": "2024-07-31T15:55:53.529435Z"
    },
    "jupyter": {
     "outputs_hidden": true
    },
    "papermill": {
     "duration": 0.330238,
     "end_time": "2024-07-31T15:55:53.537431",
     "exception": false,
     "start_time": "2024-07-31T15:55:53.207193",
     "status": "completed"
    },
    "tags": []
   },
   "outputs": [
    {
     "data": {
      "text/plain": [
       "['/kaggle/input/fruits/fruits-360-original-size/fruits-360-original-size/Test/apple_6/r0_103.jpg',\n",
       " '/kaggle/input/fruits/fruits-360-original-size/fruits-360-original-size/Test/apple_6/r0_107.jpg',\n",
       " '/kaggle/input/fruits/fruits-360-original-size/fruits-360-original-size/Test/apple_6/r0_11.jpg',\n",
       " '/kaggle/input/fruits/fruits-360-original-size/fruits-360-original-size/Test/apple_6/r0_111.jpg',\n",
       " '/kaggle/input/fruits/fruits-360-original-size/fruits-360-original-size/Test/apple_6/r0_115.jpg',\n",
       " '/kaggle/input/fruits/fruits-360-original-size/fruits-360-original-size/Test/apple_6/r0_119.jpg',\n",
       " '/kaggle/input/fruits/fruits-360-original-size/fruits-360-original-size/Test/apple_6/r0_123.jpg',\n",
       " '/kaggle/input/fruits/fruits-360-original-size/fruits-360-original-size/Test/apple_6/r0_127.jpg',\n",
       " '/kaggle/input/fruits/fruits-360-original-size/fruits-360-original-size/Test/apple_6/r0_131.jpg',\n",
       " '/kaggle/input/fruits/fruits-360-original-size/fruits-360-original-size/Test/apple_6/r0_135.jpg',\n",
       " '/kaggle/input/fruits/fruits-360-original-size/fruits-360-original-size/Test/apple_6/r0_139.jpg',\n",
       " '/kaggle/input/fruits/fruits-360-original-size/fruits-360-original-size/Test/apple_6/r0_143.jpg',\n",
       " '/kaggle/input/fruits/fruits-360-original-size/fruits-360-original-size/Test/apple_6/r0_147.jpg',\n",
       " '/kaggle/input/fruits/fruits-360-original-size/fruits-360-original-size/Test/apple_6/r0_15.jpg',\n",
       " '/kaggle/input/fruits/fruits-360-original-size/fruits-360-original-size/Test/apple_6/r0_151.jpg',\n",
       " '/kaggle/input/fruits/fruits-360-original-size/fruits-360-original-size/Test/apple_6/r0_155.jpg',\n",
       " '/kaggle/input/fruits/fruits-360-original-size/fruits-360-original-size/Test/apple_6/r0_159.jpg',\n",
       " '/kaggle/input/fruits/fruits-360-original-size/fruits-360-original-size/Test/apple_6/r0_163.jpg',\n",
       " '/kaggle/input/fruits/fruits-360-original-size/fruits-360-original-size/Test/apple_6/r0_167.jpg',\n",
       " '/kaggle/input/fruits/fruits-360-original-size/fruits-360-original-size/Test/apple_6/r0_171.jpg',\n",
       " '/kaggle/input/fruits/fruits-360-original-size/fruits-360-original-size/Test/apple_6/r0_175.jpg',\n",
       " '/kaggle/input/fruits/fruits-360-original-size/fruits-360-original-size/Test/apple_6/r0_179.jpg',\n",
       " '/kaggle/input/fruits/fruits-360-original-size/fruits-360-original-size/Test/apple_6/r0_183.jpg',\n",
       " '/kaggle/input/fruits/fruits-360-original-size/fruits-360-original-size/Test/apple_6/r0_187.jpg',\n",
       " '/kaggle/input/fruits/fruits-360-original-size/fruits-360-original-size/Test/apple_6/r0_19.jpg',\n",
       " '/kaggle/input/fruits/fruits-360-original-size/fruits-360-original-size/Test/apple_6/r0_191.jpg',\n",
       " '/kaggle/input/fruits/fruits-360-original-size/fruits-360-original-size/Test/apple_6/r0_195.jpg',\n",
       " '/kaggle/input/fruits/fruits-360-original-size/fruits-360-original-size/Test/apple_6/r0_199.jpg',\n",
       " '/kaggle/input/fruits/fruits-360-original-size/fruits-360-original-size/Test/apple_6/r0_203.jpg',\n",
       " '/kaggle/input/fruits/fruits-360-original-size/fruits-360-original-size/Test/apple_6/r0_207.jpg',\n",
       " '/kaggle/input/fruits/fruits-360-original-size/fruits-360-original-size/Test/apple_6/r0_211.jpg',\n",
       " '/kaggle/input/fruits/fruits-360-original-size/fruits-360-original-size/Test/apple_6/r0_215.jpg',\n",
       " '/kaggle/input/fruits/fruits-360-original-size/fruits-360-original-size/Test/apple_6/r0_219.jpg',\n",
       " '/kaggle/input/fruits/fruits-360-original-size/fruits-360-original-size/Test/apple_6/r0_223.jpg',\n",
       " '/kaggle/input/fruits/fruits-360-original-size/fruits-360-original-size/Test/apple_6/r0_227.jpg',\n",
       " '/kaggle/input/fruits/fruits-360-original-size/fruits-360-original-size/Test/apple_6/r0_23.jpg',\n",
       " '/kaggle/input/fruits/fruits-360-original-size/fruits-360-original-size/Test/apple_6/r0_231.jpg',\n",
       " '/kaggle/input/fruits/fruits-360-original-size/fruits-360-original-size/Test/apple_6/r0_235.jpg',\n",
       " '/kaggle/input/fruits/fruits-360-original-size/fruits-360-original-size/Test/apple_6/r0_239.jpg',\n",
       " '/kaggle/input/fruits/fruits-360-original-size/fruits-360-original-size/Test/apple_6/r0_243.jpg',\n",
       " '/kaggle/input/fruits/fruits-360-original-size/fruits-360-original-size/Test/apple_6/r0_247.jpg',\n",
       " '/kaggle/input/fruits/fruits-360-original-size/fruits-360-original-size/Test/apple_6/r0_251.jpg',\n",
       " '/kaggle/input/fruits/fruits-360-original-size/fruits-360-original-size/Test/apple_6/r0_255.jpg',\n",
       " '/kaggle/input/fruits/fruits-360-original-size/fruits-360-original-size/Test/apple_6/r0_259.jpg',\n",
       " '/kaggle/input/fruits/fruits-360-original-size/fruits-360-original-size/Test/apple_6/r0_263.jpg',\n",
       " '/kaggle/input/fruits/fruits-360-original-size/fruits-360-original-size/Test/apple_6/r0_267.jpg',\n",
       " '/kaggle/input/fruits/fruits-360-original-size/fruits-360-original-size/Test/apple_6/r0_27.jpg',\n",
       " '/kaggle/input/fruits/fruits-360-original-size/fruits-360-original-size/Test/apple_6/r0_271.jpg',\n",
       " '/kaggle/input/fruits/fruits-360-original-size/fruits-360-original-size/Test/apple_6/r0_275.jpg',\n",
       " '/kaggle/input/fruits/fruits-360-original-size/fruits-360-original-size/Test/apple_6/r0_279.jpg',\n",
       " '/kaggle/input/fruits/fruits-360-original-size/fruits-360-original-size/Test/apple_6/r0_283.jpg',\n",
       " '/kaggle/input/fruits/fruits-360-original-size/fruits-360-original-size/Test/apple_6/r0_287.jpg',\n",
       " '/kaggle/input/fruits/fruits-360-original-size/fruits-360-original-size/Test/apple_6/r0_291.jpg',\n",
       " '/kaggle/input/fruits/fruits-360-original-size/fruits-360-original-size/Test/apple_6/r0_295.jpg',\n",
       " '/kaggle/input/fruits/fruits-360-original-size/fruits-360-original-size/Test/apple_6/r0_299.jpg',\n",
       " '/kaggle/input/fruits/fruits-360-original-size/fruits-360-original-size/Test/apple_6/r0_3.jpg',\n",
       " '/kaggle/input/fruits/fruits-360-original-size/fruits-360-original-size/Test/apple_6/r0_303.jpg',\n",
       " '/kaggle/input/fruits/fruits-360-original-size/fruits-360-original-size/Test/apple_6/r0_307.jpg',\n",
       " '/kaggle/input/fruits/fruits-360-original-size/fruits-360-original-size/Test/apple_6/r0_31.jpg',\n",
       " '/kaggle/input/fruits/fruits-360-original-size/fruits-360-original-size/Test/apple_6/r0_311.jpg',\n",
       " '/kaggle/input/fruits/fruits-360-original-size/fruits-360-original-size/Test/apple_6/r0_315.jpg',\n",
       " '/kaggle/input/fruits/fruits-360-original-size/fruits-360-original-size/Test/apple_6/r0_35.jpg',\n",
       " '/kaggle/input/fruits/fruits-360-original-size/fruits-360-original-size/Test/apple_6/r0_39.jpg',\n",
       " '/kaggle/input/fruits/fruits-360-original-size/fruits-360-original-size/Test/apple_6/r0_43.jpg',\n",
       " '/kaggle/input/fruits/fruits-360-original-size/fruits-360-original-size/Test/apple_6/r0_47.jpg',\n",
       " '/kaggle/input/fruits/fruits-360-original-size/fruits-360-original-size/Test/apple_6/r0_51.jpg',\n",
       " '/kaggle/input/fruits/fruits-360-original-size/fruits-360-original-size/Test/apple_6/r0_55.jpg',\n",
       " '/kaggle/input/fruits/fruits-360-original-size/fruits-360-original-size/Test/apple_6/r0_59.jpg',\n",
       " '/kaggle/input/fruits/fruits-360-original-size/fruits-360-original-size/Test/apple_6/r0_63.jpg',\n",
       " '/kaggle/input/fruits/fruits-360-original-size/fruits-360-original-size/Test/apple_6/r0_67.jpg',\n",
       " '/kaggle/input/fruits/fruits-360-original-size/fruits-360-original-size/Test/apple_6/r0_7.jpg',\n",
       " '/kaggle/input/fruits/fruits-360-original-size/fruits-360-original-size/Test/apple_6/r0_71.jpg',\n",
       " '/kaggle/input/fruits/fruits-360-original-size/fruits-360-original-size/Test/apple_6/r0_75.jpg',\n",
       " '/kaggle/input/fruits/fruits-360-original-size/fruits-360-original-size/Test/apple_6/r0_79.jpg',\n",
       " '/kaggle/input/fruits/fruits-360-original-size/fruits-360-original-size/Test/apple_6/r0_83.jpg',\n",
       " '/kaggle/input/fruits/fruits-360-original-size/fruits-360-original-size/Test/apple_6/r0_87.jpg',\n",
       " '/kaggle/input/fruits/fruits-360-original-size/fruits-360-original-size/Test/apple_6/r0_91.jpg',\n",
       " '/kaggle/input/fruits/fruits-360-original-size/fruits-360-original-size/Test/apple_6/r0_95.jpg',\n",
       " '/kaggle/input/fruits/fruits-360-original-size/fruits-360-original-size/Test/apple_6/r0_99.jpg',\n",
       " '/kaggle/input/fruits/fruits-360-original-size/fruits-360-original-size/Test/apple_6/r1_103.jpg',\n",
       " '/kaggle/input/fruits/fruits-360-original-size/fruits-360-original-size/Test/apple_6/r1_107.jpg',\n",
       " '/kaggle/input/fruits/fruits-360-original-size/fruits-360-original-size/Test/apple_6/r1_11.jpg',\n",
       " '/kaggle/input/fruits/fruits-360-original-size/fruits-360-original-size/Test/apple_6/r1_111.jpg',\n",
       " '/kaggle/input/fruits/fruits-360-original-size/fruits-360-original-size/Test/apple_6/r1_115.jpg',\n",
       " '/kaggle/input/fruits/fruits-360-original-size/fruits-360-original-size/Test/apple_6/r1_119.jpg',\n",
       " '/kaggle/input/fruits/fruits-360-original-size/fruits-360-original-size/Test/apple_6/r1_123.jpg',\n",
       " '/kaggle/input/fruits/fruits-360-original-size/fruits-360-original-size/Test/apple_6/r1_127.jpg',\n",
       " '/kaggle/input/fruits/fruits-360-original-size/fruits-360-original-size/Test/apple_6/r1_131.jpg',\n",
       " '/kaggle/input/fruits/fruits-360-original-size/fruits-360-original-size/Test/apple_6/r1_135.jpg',\n",
       " '/kaggle/input/fruits/fruits-360-original-size/fruits-360-original-size/Test/apple_6/r1_139.jpg',\n",
       " '/kaggle/input/fruits/fruits-360-original-size/fruits-360-original-size/Test/apple_6/r1_143.jpg',\n",
       " '/kaggle/input/fruits/fruits-360-original-size/fruits-360-original-size/Test/apple_6/r1_147.jpg',\n",
       " '/kaggle/input/fruits/fruits-360-original-size/fruits-360-original-size/Test/apple_6/r1_15.jpg',\n",
       " '/kaggle/input/fruits/fruits-360-original-size/fruits-360-original-size/Test/apple_6/r1_151.jpg',\n",
       " '/kaggle/input/fruits/fruits-360-original-size/fruits-360-original-size/Test/apple_6/r1_155.jpg',\n",
       " '/kaggle/input/fruits/fruits-360-original-size/fruits-360-original-size/Test/apple_6/r1_159.jpg',\n",
       " '/kaggle/input/fruits/fruits-360-original-size/fruits-360-original-size/Test/apple_6/r1_163.jpg',\n",
       " '/kaggle/input/fruits/fruits-360-original-size/fruits-360-original-size/Test/apple_6/r1_167.jpg',\n",
       " '/kaggle/input/fruits/fruits-360-original-size/fruits-360-original-size/Test/apple_6/r1_171.jpg',\n",
       " '/kaggle/input/fruits/fruits-360-original-size/fruits-360-original-size/Test/apple_6/r1_175.jpg',\n",
       " '/kaggle/input/fruits/fruits-360-original-size/fruits-360-original-size/Test/apple_6/r1_179.jpg',\n",
       " '/kaggle/input/fruits/fruits-360-original-size/fruits-360-original-size/Test/apple_6/r1_183.jpg',\n",
       " '/kaggle/input/fruits/fruits-360-original-size/fruits-360-original-size/Test/apple_6/r1_187.jpg',\n",
       " '/kaggle/input/fruits/fruits-360-original-size/fruits-360-original-size/Test/apple_6/r1_19.jpg',\n",
       " '/kaggle/input/fruits/fruits-360-original-size/fruits-360-original-size/Test/apple_6/r1_191.jpg',\n",
       " '/kaggle/input/fruits/fruits-360-original-size/fruits-360-original-size/Test/apple_6/r1_195.jpg',\n",
       " '/kaggle/input/fruits/fruits-360-original-size/fruits-360-original-size/Test/apple_6/r1_199.jpg',\n",
       " '/kaggle/input/fruits/fruits-360-original-size/fruits-360-original-size/Test/apple_6/r1_203.jpg',\n",
       " '/kaggle/input/fruits/fruits-360-original-size/fruits-360-original-size/Test/apple_6/r1_207.jpg',\n",
       " '/kaggle/input/fruits/fruits-360-original-size/fruits-360-original-size/Test/apple_6/r1_211.jpg',\n",
       " '/kaggle/input/fruits/fruits-360-original-size/fruits-360-original-size/Test/apple_6/r1_215.jpg',\n",
       " '/kaggle/input/fruits/fruits-360-original-size/fruits-360-original-size/Test/apple_6/r1_219.jpg',\n",
       " '/kaggle/input/fruits/fruits-360-original-size/fruits-360-original-size/Test/apple_6/r1_223.jpg',\n",
       " '/kaggle/input/fruits/fruits-360-original-size/fruits-360-original-size/Test/apple_6/r1_227.jpg',\n",
       " '/kaggle/input/fruits/fruits-360-original-size/fruits-360-original-size/Test/apple_6/r1_23.jpg',\n",
       " '/kaggle/input/fruits/fruits-360-original-size/fruits-360-original-size/Test/apple_6/r1_231.jpg',\n",
       " '/kaggle/input/fruits/fruits-360-original-size/fruits-360-original-size/Test/apple_6/r1_235.jpg',\n",
       " '/kaggle/input/fruits/fruits-360-original-size/fruits-360-original-size/Test/apple_6/r1_239.jpg',\n",
       " '/kaggle/input/fruits/fruits-360-original-size/fruits-360-original-size/Test/apple_6/r1_243.jpg',\n",
       " '/kaggle/input/fruits/fruits-360-original-size/fruits-360-original-size/Test/apple_6/r1_247.jpg',\n",
       " '/kaggle/input/fruits/fruits-360-original-size/fruits-360-original-size/Test/apple_6/r1_251.jpg',\n",
       " '/kaggle/input/fruits/fruits-360-original-size/fruits-360-original-size/Test/apple_6/r1_255.jpg',\n",
       " '/kaggle/input/fruits/fruits-360-original-size/fruits-360-original-size/Test/apple_6/r1_259.jpg',\n",
       " '/kaggle/input/fruits/fruits-360-original-size/fruits-360-original-size/Test/apple_6/r1_263.jpg',\n",
       " '/kaggle/input/fruits/fruits-360-original-size/fruits-360-original-size/Test/apple_6/r1_267.jpg',\n",
       " '/kaggle/input/fruits/fruits-360-original-size/fruits-360-original-size/Test/apple_6/r1_27.jpg',\n",
       " '/kaggle/input/fruits/fruits-360-original-size/fruits-360-original-size/Test/apple_6/r1_271.jpg',\n",
       " '/kaggle/input/fruits/fruits-360-original-size/fruits-360-original-size/Test/apple_6/r1_275.jpg',\n",
       " '/kaggle/input/fruits/fruits-360-original-size/fruits-360-original-size/Test/apple_6/r1_279.jpg',\n",
       " '/kaggle/input/fruits/fruits-360-original-size/fruits-360-original-size/Test/apple_6/r1_283.jpg',\n",
       " '/kaggle/input/fruits/fruits-360-original-size/fruits-360-original-size/Test/apple_6/r1_287.jpg',\n",
       " '/kaggle/input/fruits/fruits-360-original-size/fruits-360-original-size/Test/apple_6/r1_291.jpg',\n",
       " '/kaggle/input/fruits/fruits-360-original-size/fruits-360-original-size/Test/apple_6/r1_295.jpg',\n",
       " '/kaggle/input/fruits/fruits-360-original-size/fruits-360-original-size/Test/apple_6/r1_299.jpg',\n",
       " '/kaggle/input/fruits/fruits-360-original-size/fruits-360-original-size/Test/apple_6/r1_3.jpg',\n",
       " '/kaggle/input/fruits/fruits-360-original-size/fruits-360-original-size/Test/apple_6/r1_303.jpg',\n",
       " '/kaggle/input/fruits/fruits-360-original-size/fruits-360-original-size/Test/apple_6/r1_307.jpg',\n",
       " '/kaggle/input/fruits/fruits-360-original-size/fruits-360-original-size/Test/apple_6/r1_31.jpg',\n",
       " '/kaggle/input/fruits/fruits-360-original-size/fruits-360-original-size/Test/apple_6/r1_311.jpg',\n",
       " '/kaggle/input/fruits/fruits-360-original-size/fruits-360-original-size/Test/apple_6/r1_35.jpg',\n",
       " '/kaggle/input/fruits/fruits-360-original-size/fruits-360-original-size/Test/apple_6/r1_39.jpg',\n",
       " '/kaggle/input/fruits/fruits-360-original-size/fruits-360-original-size/Test/apple_6/r1_43.jpg',\n",
       " '/kaggle/input/fruits/fruits-360-original-size/fruits-360-original-size/Test/apple_6/r1_47.jpg',\n",
       " '/kaggle/input/fruits/fruits-360-original-size/fruits-360-original-size/Test/apple_6/r1_51.jpg',\n",
       " '/kaggle/input/fruits/fruits-360-original-size/fruits-360-original-size/Test/apple_6/r1_55.jpg',\n",
       " '/kaggle/input/fruits/fruits-360-original-size/fruits-360-original-size/Test/apple_6/r1_59.jpg',\n",
       " '/kaggle/input/fruits/fruits-360-original-size/fruits-360-original-size/Test/apple_6/r1_63.jpg',\n",
       " '/kaggle/input/fruits/fruits-360-original-size/fruits-360-original-size/Test/apple_6/r1_67.jpg',\n",
       " '/kaggle/input/fruits/fruits-360-original-size/fruits-360-original-size/Test/apple_6/r1_7.jpg',\n",
       " '/kaggle/input/fruits/fruits-360-original-size/fruits-360-original-size/Test/apple_6/r1_71.jpg',\n",
       " '/kaggle/input/fruits/fruits-360-original-size/fruits-360-original-size/Test/apple_6/r1_75.jpg',\n",
       " '/kaggle/input/fruits/fruits-360-original-size/fruits-360-original-size/Test/apple_6/r1_79.jpg',\n",
       " '/kaggle/input/fruits/fruits-360-original-size/fruits-360-original-size/Test/apple_6/r1_83.jpg',\n",
       " '/kaggle/input/fruits/fruits-360-original-size/fruits-360-original-size/Test/apple_6/r1_87.jpg',\n",
       " '/kaggle/input/fruits/fruits-360-original-size/fruits-360-original-size/Test/apple_6/r1_91.jpg',\n",
       " '/kaggle/input/fruits/fruits-360-original-size/fruits-360-original-size/Test/apple_6/r1_95.jpg',\n",
       " '/kaggle/input/fruits/fruits-360-original-size/fruits-360-original-size/Test/apple_6/r1_99.jpg',\n",
       " '/kaggle/input/fruits/fruits-360-original-size/fruits-360-original-size/Test/apple_braeburn_1/r0_103.jpg',\n",
       " '/kaggle/input/fruits/fruits-360-original-size/fruits-360-original-size/Test/apple_braeburn_1/r0_107.jpg',\n",
       " '/kaggle/input/fruits/fruits-360-original-size/fruits-360-original-size/Test/apple_braeburn_1/r0_11.jpg',\n",
       " '/kaggle/input/fruits/fruits-360-original-size/fruits-360-original-size/Test/apple_braeburn_1/r0_111.jpg',\n",
       " '/kaggle/input/fruits/fruits-360-original-size/fruits-360-original-size/Test/apple_braeburn_1/r0_115.jpg',\n",
       " '/kaggle/input/fruits/fruits-360-original-size/fruits-360-original-size/Test/apple_braeburn_1/r0_119.jpg',\n",
       " '/kaggle/input/fruits/fruits-360-original-size/fruits-360-original-size/Test/apple_braeburn_1/r0_123.jpg',\n",
       " '/kaggle/input/fruits/fruits-360-original-size/fruits-360-original-size/Test/apple_braeburn_1/r0_127.jpg',\n",
       " '/kaggle/input/fruits/fruits-360-original-size/fruits-360-original-size/Test/apple_braeburn_1/r0_131.jpg',\n",
       " '/kaggle/input/fruits/fruits-360-original-size/fruits-360-original-size/Test/apple_braeburn_1/r0_135.jpg',\n",
       " '/kaggle/input/fruits/fruits-360-original-size/fruits-360-original-size/Test/apple_braeburn_1/r0_139.jpg',\n",
       " '/kaggle/input/fruits/fruits-360-original-size/fruits-360-original-size/Test/apple_braeburn_1/r0_143.jpg',\n",
       " '/kaggle/input/fruits/fruits-360-original-size/fruits-360-original-size/Test/apple_braeburn_1/r0_147.jpg',\n",
       " '/kaggle/input/fruits/fruits-360-original-size/fruits-360-original-size/Test/apple_braeburn_1/r0_15.jpg',\n",
       " '/kaggle/input/fruits/fruits-360-original-size/fruits-360-original-size/Test/apple_braeburn_1/r0_151.jpg',\n",
       " '/kaggle/input/fruits/fruits-360-original-size/fruits-360-original-size/Test/apple_braeburn_1/r0_155.jpg',\n",
       " '/kaggle/input/fruits/fruits-360-original-size/fruits-360-original-size/Test/apple_braeburn_1/r0_159.jpg',\n",
       " '/kaggle/input/fruits/fruits-360-original-size/fruits-360-original-size/Test/apple_braeburn_1/r0_163.jpg',\n",
       " '/kaggle/input/fruits/fruits-360-original-size/fruits-360-original-size/Test/apple_braeburn_1/r0_167.jpg',\n",
       " '/kaggle/input/fruits/fruits-360-original-size/fruits-360-original-size/Test/apple_braeburn_1/r0_171.jpg',\n",
       " '/kaggle/input/fruits/fruits-360-original-size/fruits-360-original-size/Test/apple_braeburn_1/r0_175.jpg',\n",
       " '/kaggle/input/fruits/fruits-360-original-size/fruits-360-original-size/Test/apple_braeburn_1/r0_179.jpg',\n",
       " '/kaggle/input/fruits/fruits-360-original-size/fruits-360-original-size/Test/apple_braeburn_1/r0_183.jpg',\n",
       " '/kaggle/input/fruits/fruits-360-original-size/fruits-360-original-size/Test/apple_braeburn_1/r0_187.jpg',\n",
       " '/kaggle/input/fruits/fruits-360-original-size/fruits-360-original-size/Test/apple_braeburn_1/r0_19.jpg',\n",
       " '/kaggle/input/fruits/fruits-360-original-size/fruits-360-original-size/Test/apple_braeburn_1/r0_191.jpg',\n",
       " '/kaggle/input/fruits/fruits-360-original-size/fruits-360-original-size/Test/apple_braeburn_1/r0_195.jpg',\n",
       " '/kaggle/input/fruits/fruits-360-original-size/fruits-360-original-size/Test/apple_braeburn_1/r0_199.jpg',\n",
       " '/kaggle/input/fruits/fruits-360-original-size/fruits-360-original-size/Test/apple_braeburn_1/r0_203.jpg',\n",
       " '/kaggle/input/fruits/fruits-360-original-size/fruits-360-original-size/Test/apple_braeburn_1/r0_207.jpg',\n",
       " '/kaggle/input/fruits/fruits-360-original-size/fruits-360-original-size/Test/apple_braeburn_1/r0_211.jpg',\n",
       " '/kaggle/input/fruits/fruits-360-original-size/fruits-360-original-size/Test/apple_braeburn_1/r0_215.jpg',\n",
       " '/kaggle/input/fruits/fruits-360-original-size/fruits-360-original-size/Test/apple_braeburn_1/r0_219.jpg',\n",
       " '/kaggle/input/fruits/fruits-360-original-size/fruits-360-original-size/Test/apple_braeburn_1/r0_223.jpg',\n",
       " '/kaggle/input/fruits/fruits-360-original-size/fruits-360-original-size/Test/apple_braeburn_1/r0_227.jpg',\n",
       " '/kaggle/input/fruits/fruits-360-original-size/fruits-360-original-size/Test/apple_braeburn_1/r0_23.jpg',\n",
       " '/kaggle/input/fruits/fruits-360-original-size/fruits-360-original-size/Test/apple_braeburn_1/r0_231.jpg',\n",
       " '/kaggle/input/fruits/fruits-360-original-size/fruits-360-original-size/Test/apple_braeburn_1/r0_235.jpg',\n",
       " '/kaggle/input/fruits/fruits-360-original-size/fruits-360-original-size/Test/apple_braeburn_1/r0_239.jpg',\n",
       " '/kaggle/input/fruits/fruits-360-original-size/fruits-360-original-size/Test/apple_braeburn_1/r0_243.jpg',\n",
       " '/kaggle/input/fruits/fruits-360-original-size/fruits-360-original-size/Test/apple_braeburn_1/r0_247.jpg',\n",
       " '/kaggle/input/fruits/fruits-360-original-size/fruits-360-original-size/Test/apple_braeburn_1/r0_251.jpg',\n",
       " '/kaggle/input/fruits/fruits-360-original-size/fruits-360-original-size/Test/apple_braeburn_1/r0_255.jpg',\n",
       " '/kaggle/input/fruits/fruits-360-original-size/fruits-360-original-size/Test/apple_braeburn_1/r0_259.jpg',\n",
       " '/kaggle/input/fruits/fruits-360-original-size/fruits-360-original-size/Test/apple_braeburn_1/r0_263.jpg',\n",
       " '/kaggle/input/fruits/fruits-360-original-size/fruits-360-original-size/Test/apple_braeburn_1/r0_267.jpg',\n",
       " '/kaggle/input/fruits/fruits-360-original-size/fruits-360-original-size/Test/apple_braeburn_1/r0_27.jpg',\n",
       " '/kaggle/input/fruits/fruits-360-original-size/fruits-360-original-size/Test/apple_braeburn_1/r0_271.jpg',\n",
       " '/kaggle/input/fruits/fruits-360-original-size/fruits-360-original-size/Test/apple_braeburn_1/r0_275.jpg',\n",
       " '/kaggle/input/fruits/fruits-360-original-size/fruits-360-original-size/Test/apple_braeburn_1/r0_279.jpg',\n",
       " '/kaggle/input/fruits/fruits-360-original-size/fruits-360-original-size/Test/apple_braeburn_1/r0_283.jpg',\n",
       " '/kaggle/input/fruits/fruits-360-original-size/fruits-360-original-size/Test/apple_braeburn_1/r0_287.jpg',\n",
       " '/kaggle/input/fruits/fruits-360-original-size/fruits-360-original-size/Test/apple_braeburn_1/r0_291.jpg',\n",
       " '/kaggle/input/fruits/fruits-360-original-size/fruits-360-original-size/Test/apple_braeburn_1/r0_295.jpg',\n",
       " '/kaggle/input/fruits/fruits-360-original-size/fruits-360-original-size/Test/apple_braeburn_1/r0_299.jpg',\n",
       " '/kaggle/input/fruits/fruits-360-original-size/fruits-360-original-size/Test/apple_braeburn_1/r0_3.jpg',\n",
       " '/kaggle/input/fruits/fruits-360-original-size/fruits-360-original-size/Test/apple_braeburn_1/r0_303.jpg',\n",
       " '/kaggle/input/fruits/fruits-360-original-size/fruits-360-original-size/Test/apple_braeburn_1/r0_307.jpg',\n",
       " '/kaggle/input/fruits/fruits-360-original-size/fruits-360-original-size/Test/apple_braeburn_1/r0_31.jpg',\n",
       " '/kaggle/input/fruits/fruits-360-original-size/fruits-360-original-size/Test/apple_braeburn_1/r0_311.jpg',\n",
       " '/kaggle/input/fruits/fruits-360-original-size/fruits-360-original-size/Test/apple_braeburn_1/r0_315.jpg',\n",
       " '/kaggle/input/fruits/fruits-360-original-size/fruits-360-original-size/Test/apple_braeburn_1/r0_319.jpg',\n",
       " '/kaggle/input/fruits/fruits-360-original-size/fruits-360-original-size/Test/apple_braeburn_1/r0_35.jpg',\n",
       " '/kaggle/input/fruits/fruits-360-original-size/fruits-360-original-size/Test/apple_braeburn_1/r0_39.jpg',\n",
       " '/kaggle/input/fruits/fruits-360-original-size/fruits-360-original-size/Test/apple_braeburn_1/r0_43.jpg',\n",
       " '/kaggle/input/fruits/fruits-360-original-size/fruits-360-original-size/Test/apple_braeburn_1/r0_47.jpg',\n",
       " '/kaggle/input/fruits/fruits-360-original-size/fruits-360-original-size/Test/apple_braeburn_1/r0_51.jpg',\n",
       " '/kaggle/input/fruits/fruits-360-original-size/fruits-360-original-size/Test/apple_braeburn_1/r0_55.jpg',\n",
       " '/kaggle/input/fruits/fruits-360-original-size/fruits-360-original-size/Test/apple_braeburn_1/r0_59.jpg',\n",
       " '/kaggle/input/fruits/fruits-360-original-size/fruits-360-original-size/Test/apple_braeburn_1/r0_63.jpg',\n",
       " '/kaggle/input/fruits/fruits-360-original-size/fruits-360-original-size/Test/apple_braeburn_1/r0_67.jpg',\n",
       " '/kaggle/input/fruits/fruits-360-original-size/fruits-360-original-size/Test/apple_braeburn_1/r0_7.jpg',\n",
       " '/kaggle/input/fruits/fruits-360-original-size/fruits-360-original-size/Test/apple_braeburn_1/r0_71.jpg',\n",
       " '/kaggle/input/fruits/fruits-360-original-size/fruits-360-original-size/Test/apple_braeburn_1/r0_75.jpg',\n",
       " '/kaggle/input/fruits/fruits-360-original-size/fruits-360-original-size/Test/apple_braeburn_1/r0_79.jpg',\n",
       " '/kaggle/input/fruits/fruits-360-original-size/fruits-360-original-size/Test/apple_braeburn_1/r0_83.jpg',\n",
       " '/kaggle/input/fruits/fruits-360-original-size/fruits-360-original-size/Test/apple_braeburn_1/r0_87.jpg',\n",
       " '/kaggle/input/fruits/fruits-360-original-size/fruits-360-original-size/Test/apple_braeburn_1/r0_91.jpg',\n",
       " '/kaggle/input/fruits/fruits-360-original-size/fruits-360-original-size/Test/apple_braeburn_1/r0_95.jpg',\n",
       " '/kaggle/input/fruits/fruits-360-original-size/fruits-360-original-size/Test/apple_braeburn_1/r0_99.jpg',\n",
       " '/kaggle/input/fruits/fruits-360-original-size/fruits-360-original-size/Test/apple_braeburn_1/r1_103.jpg',\n",
       " '/kaggle/input/fruits/fruits-360-original-size/fruits-360-original-size/Test/apple_braeburn_1/r1_107.jpg',\n",
       " '/kaggle/input/fruits/fruits-360-original-size/fruits-360-original-size/Test/apple_braeburn_1/r1_11.jpg',\n",
       " '/kaggle/input/fruits/fruits-360-original-size/fruits-360-original-size/Test/apple_braeburn_1/r1_111.jpg',\n",
       " '/kaggle/input/fruits/fruits-360-original-size/fruits-360-original-size/Test/apple_braeburn_1/r1_115.jpg',\n",
       " '/kaggle/input/fruits/fruits-360-original-size/fruits-360-original-size/Test/apple_braeburn_1/r1_119.jpg',\n",
       " '/kaggle/input/fruits/fruits-360-original-size/fruits-360-original-size/Test/apple_braeburn_1/r1_123.jpg',\n",
       " '/kaggle/input/fruits/fruits-360-original-size/fruits-360-original-size/Test/apple_braeburn_1/r1_127.jpg',\n",
       " '/kaggle/input/fruits/fruits-360-original-size/fruits-360-original-size/Test/apple_braeburn_1/r1_131.jpg',\n",
       " '/kaggle/input/fruits/fruits-360-original-size/fruits-360-original-size/Test/apple_braeburn_1/r1_135.jpg',\n",
       " '/kaggle/input/fruits/fruits-360-original-size/fruits-360-original-size/Test/apple_braeburn_1/r1_139.jpg',\n",
       " '/kaggle/input/fruits/fruits-360-original-size/fruits-360-original-size/Test/apple_braeburn_1/r1_143.jpg',\n",
       " '/kaggle/input/fruits/fruits-360-original-size/fruits-360-original-size/Test/apple_braeburn_1/r1_147.jpg',\n",
       " '/kaggle/input/fruits/fruits-360-original-size/fruits-360-original-size/Test/apple_braeburn_1/r1_15.jpg',\n",
       " '/kaggle/input/fruits/fruits-360-original-size/fruits-360-original-size/Test/apple_braeburn_1/r1_151.jpg',\n",
       " '/kaggle/input/fruits/fruits-360-original-size/fruits-360-original-size/Test/apple_braeburn_1/r1_155.jpg',\n",
       " '/kaggle/input/fruits/fruits-360-original-size/fruits-360-original-size/Test/apple_braeburn_1/r1_159.jpg',\n",
       " '/kaggle/input/fruits/fruits-360-original-size/fruits-360-original-size/Test/apple_braeburn_1/r1_163.jpg',\n",
       " '/kaggle/input/fruits/fruits-360-original-size/fruits-360-original-size/Test/apple_braeburn_1/r1_167.jpg',\n",
       " '/kaggle/input/fruits/fruits-360-original-size/fruits-360-original-size/Test/apple_braeburn_1/r1_171.jpg',\n",
       " '/kaggle/input/fruits/fruits-360-original-size/fruits-360-original-size/Test/apple_braeburn_1/r1_175.jpg',\n",
       " '/kaggle/input/fruits/fruits-360-original-size/fruits-360-original-size/Test/apple_braeburn_1/r1_179.jpg',\n",
       " '/kaggle/input/fruits/fruits-360-original-size/fruits-360-original-size/Test/apple_braeburn_1/r1_183.jpg',\n",
       " '/kaggle/input/fruits/fruits-360-original-size/fruits-360-original-size/Test/apple_braeburn_1/r1_187.jpg',\n",
       " '/kaggle/input/fruits/fruits-360-original-size/fruits-360-original-size/Test/apple_braeburn_1/r1_19.jpg',\n",
       " '/kaggle/input/fruits/fruits-360-original-size/fruits-360-original-size/Test/apple_braeburn_1/r1_191.jpg',\n",
       " '/kaggle/input/fruits/fruits-360-original-size/fruits-360-original-size/Test/apple_braeburn_1/r1_195.jpg',\n",
       " '/kaggle/input/fruits/fruits-360-original-size/fruits-360-original-size/Test/apple_braeburn_1/r1_199.jpg',\n",
       " '/kaggle/input/fruits/fruits-360-original-size/fruits-360-original-size/Test/apple_braeburn_1/r1_203.jpg',\n",
       " '/kaggle/input/fruits/fruits-360-original-size/fruits-360-original-size/Test/apple_braeburn_1/r1_207.jpg',\n",
       " '/kaggle/input/fruits/fruits-360-original-size/fruits-360-original-size/Test/apple_braeburn_1/r1_211.jpg',\n",
       " '/kaggle/input/fruits/fruits-360-original-size/fruits-360-original-size/Test/apple_braeburn_1/r1_215.jpg',\n",
       " '/kaggle/input/fruits/fruits-360-original-size/fruits-360-original-size/Test/apple_braeburn_1/r1_219.jpg',\n",
       " '/kaggle/input/fruits/fruits-360-original-size/fruits-360-original-size/Test/apple_braeburn_1/r1_223.jpg',\n",
       " '/kaggle/input/fruits/fruits-360-original-size/fruits-360-original-size/Test/apple_braeburn_1/r1_227.jpg',\n",
       " '/kaggle/input/fruits/fruits-360-original-size/fruits-360-original-size/Test/apple_braeburn_1/r1_23.jpg',\n",
       " '/kaggle/input/fruits/fruits-360-original-size/fruits-360-original-size/Test/apple_braeburn_1/r1_231.jpg',\n",
       " '/kaggle/input/fruits/fruits-360-original-size/fruits-360-original-size/Test/apple_braeburn_1/r1_235.jpg',\n",
       " '/kaggle/input/fruits/fruits-360-original-size/fruits-360-original-size/Test/apple_braeburn_1/r1_239.jpg',\n",
       " '/kaggle/input/fruits/fruits-360-original-size/fruits-360-original-size/Test/apple_braeburn_1/r1_243.jpg',\n",
       " '/kaggle/input/fruits/fruits-360-original-size/fruits-360-original-size/Test/apple_braeburn_1/r1_247.jpg',\n",
       " '/kaggle/input/fruits/fruits-360-original-size/fruits-360-original-size/Test/apple_braeburn_1/r1_251.jpg',\n",
       " '/kaggle/input/fruits/fruits-360-original-size/fruits-360-original-size/Test/apple_braeburn_1/r1_255.jpg',\n",
       " '/kaggle/input/fruits/fruits-360-original-size/fruits-360-original-size/Test/apple_braeburn_1/r1_259.jpg',\n",
       " '/kaggle/input/fruits/fruits-360-original-size/fruits-360-original-size/Test/apple_braeburn_1/r1_263.jpg',\n",
       " '/kaggle/input/fruits/fruits-360-original-size/fruits-360-original-size/Test/apple_braeburn_1/r1_267.jpg',\n",
       " '/kaggle/input/fruits/fruits-360-original-size/fruits-360-original-size/Test/apple_braeburn_1/r1_27.jpg',\n",
       " '/kaggle/input/fruits/fruits-360-original-size/fruits-360-original-size/Test/apple_braeburn_1/r1_271.jpg',\n",
       " '/kaggle/input/fruits/fruits-360-original-size/fruits-360-original-size/Test/apple_braeburn_1/r1_275.jpg',\n",
       " '/kaggle/input/fruits/fruits-360-original-size/fruits-360-original-size/Test/apple_braeburn_1/r1_279.jpg',\n",
       " '/kaggle/input/fruits/fruits-360-original-size/fruits-360-original-size/Test/apple_braeburn_1/r1_283.jpg',\n",
       " '/kaggle/input/fruits/fruits-360-original-size/fruits-360-original-size/Test/apple_braeburn_1/r1_287.jpg',\n",
       " '/kaggle/input/fruits/fruits-360-original-size/fruits-360-original-size/Test/apple_braeburn_1/r1_291.jpg',\n",
       " '/kaggle/input/fruits/fruits-360-original-size/fruits-360-original-size/Test/apple_braeburn_1/r1_295.jpg',\n",
       " '/kaggle/input/fruits/fruits-360-original-size/fruits-360-original-size/Test/apple_braeburn_1/r1_299.jpg',\n",
       " '/kaggle/input/fruits/fruits-360-original-size/fruits-360-original-size/Test/apple_braeburn_1/r1_3.jpg',\n",
       " '/kaggle/input/fruits/fruits-360-original-size/fruits-360-original-size/Test/apple_braeburn_1/r1_303.jpg',\n",
       " '/kaggle/input/fruits/fruits-360-original-size/fruits-360-original-size/Test/apple_braeburn_1/r1_307.jpg',\n",
       " '/kaggle/input/fruits/fruits-360-original-size/fruits-360-original-size/Test/apple_braeburn_1/r1_31.jpg',\n",
       " '/kaggle/input/fruits/fruits-360-original-size/fruits-360-original-size/Test/apple_braeburn_1/r1_311.jpg',\n",
       " '/kaggle/input/fruits/fruits-360-original-size/fruits-360-original-size/Test/apple_braeburn_1/r1_315.jpg',\n",
       " '/kaggle/input/fruits/fruits-360-original-size/fruits-360-original-size/Test/apple_braeburn_1/r1_319.jpg',\n",
       " '/kaggle/input/fruits/fruits-360-original-size/fruits-360-original-size/Test/apple_braeburn_1/r1_35.jpg',\n",
       " '/kaggle/input/fruits/fruits-360-original-size/fruits-360-original-size/Test/apple_braeburn_1/r1_39.jpg',\n",
       " '/kaggle/input/fruits/fruits-360-original-size/fruits-360-original-size/Test/apple_braeburn_1/r1_43.jpg',\n",
       " '/kaggle/input/fruits/fruits-360-original-size/fruits-360-original-size/Test/apple_braeburn_1/r1_47.jpg',\n",
       " '/kaggle/input/fruits/fruits-360-original-size/fruits-360-original-size/Test/apple_braeburn_1/r1_51.jpg',\n",
       " '/kaggle/input/fruits/fruits-360-original-size/fruits-360-original-size/Test/apple_braeburn_1/r1_55.jpg',\n",
       " '/kaggle/input/fruits/fruits-360-original-size/fruits-360-original-size/Test/apple_braeburn_1/r1_59.jpg',\n",
       " '/kaggle/input/fruits/fruits-360-original-size/fruits-360-original-size/Test/apple_braeburn_1/r1_63.jpg',\n",
       " '/kaggle/input/fruits/fruits-360-original-size/fruits-360-original-size/Test/apple_braeburn_1/r1_67.jpg',\n",
       " '/kaggle/input/fruits/fruits-360-original-size/fruits-360-original-size/Test/apple_braeburn_1/r1_7.jpg',\n",
       " '/kaggle/input/fruits/fruits-360-original-size/fruits-360-original-size/Test/apple_braeburn_1/r1_71.jpg',\n",
       " '/kaggle/input/fruits/fruits-360-original-size/fruits-360-original-size/Test/apple_braeburn_1/r1_75.jpg',\n",
       " '/kaggle/input/fruits/fruits-360-original-size/fruits-360-original-size/Test/apple_braeburn_1/r1_79.jpg',\n",
       " '/kaggle/input/fruits/fruits-360-original-size/fruits-360-original-size/Test/apple_braeburn_1/r1_83.jpg',\n",
       " '/kaggle/input/fruits/fruits-360-original-size/fruits-360-original-size/Test/apple_braeburn_1/r1_87.jpg',\n",
       " '/kaggle/input/fruits/fruits-360-original-size/fruits-360-original-size/Test/apple_braeburn_1/r1_91.jpg',\n",
       " '/kaggle/input/fruits/fruits-360-original-size/fruits-360-original-size/Test/apple_braeburn_1/r1_95.jpg',\n",
       " '/kaggle/input/fruits/fruits-360-original-size/fruits-360-original-size/Test/apple_braeburn_1/r1_99.jpg',\n",
       " '/kaggle/input/fruits/fruits-360-original-size/fruits-360-original-size/Test/apple_crimson_snow_1/r0_103.jpg',\n",
       " '/kaggle/input/fruits/fruits-360-original-size/fruits-360-original-size/Test/apple_crimson_snow_1/r0_107.jpg',\n",
       " '/kaggle/input/fruits/fruits-360-original-size/fruits-360-original-size/Test/apple_crimson_snow_1/r0_11.jpg',\n",
       " '/kaggle/input/fruits/fruits-360-original-size/fruits-360-original-size/Test/apple_crimson_snow_1/r0_111.jpg',\n",
       " '/kaggle/input/fruits/fruits-360-original-size/fruits-360-original-size/Test/apple_crimson_snow_1/r0_115.jpg',\n",
       " '/kaggle/input/fruits/fruits-360-original-size/fruits-360-original-size/Test/apple_crimson_snow_1/r0_119.jpg',\n",
       " '/kaggle/input/fruits/fruits-360-original-size/fruits-360-original-size/Test/apple_crimson_snow_1/r0_123.jpg',\n",
       " '/kaggle/input/fruits/fruits-360-original-size/fruits-360-original-size/Test/apple_crimson_snow_1/r0_127.jpg',\n",
       " '/kaggle/input/fruits/fruits-360-original-size/fruits-360-original-size/Test/apple_crimson_snow_1/r0_131.jpg',\n",
       " '/kaggle/input/fruits/fruits-360-original-size/fruits-360-original-size/Test/apple_crimson_snow_1/r0_135.jpg',\n",
       " '/kaggle/input/fruits/fruits-360-original-size/fruits-360-original-size/Test/apple_crimson_snow_1/r0_139.jpg',\n",
       " '/kaggle/input/fruits/fruits-360-original-size/fruits-360-original-size/Test/apple_crimson_snow_1/r0_143.jpg',\n",
       " '/kaggle/input/fruits/fruits-360-original-size/fruits-360-original-size/Test/apple_crimson_snow_1/r0_147.jpg',\n",
       " '/kaggle/input/fruits/fruits-360-original-size/fruits-360-original-size/Test/apple_crimson_snow_1/r0_15.jpg',\n",
       " '/kaggle/input/fruits/fruits-360-original-size/fruits-360-original-size/Test/apple_crimson_snow_1/r0_151.jpg',\n",
       " '/kaggle/input/fruits/fruits-360-original-size/fruits-360-original-size/Test/apple_crimson_snow_1/r0_155.jpg',\n",
       " '/kaggle/input/fruits/fruits-360-original-size/fruits-360-original-size/Test/apple_crimson_snow_1/r0_159.jpg',\n",
       " '/kaggle/input/fruits/fruits-360-original-size/fruits-360-original-size/Test/apple_crimson_snow_1/r0_163.jpg',\n",
       " '/kaggle/input/fruits/fruits-360-original-size/fruits-360-original-size/Test/apple_crimson_snow_1/r0_167.jpg',\n",
       " '/kaggle/input/fruits/fruits-360-original-size/fruits-360-original-size/Test/apple_crimson_snow_1/r0_171.jpg',\n",
       " '/kaggle/input/fruits/fruits-360-original-size/fruits-360-original-size/Test/apple_crimson_snow_1/r0_175.jpg',\n",
       " '/kaggle/input/fruits/fruits-360-original-size/fruits-360-original-size/Test/apple_crimson_snow_1/r0_179.jpg',\n",
       " '/kaggle/input/fruits/fruits-360-original-size/fruits-360-original-size/Test/apple_crimson_snow_1/r0_183.jpg',\n",
       " '/kaggle/input/fruits/fruits-360-original-size/fruits-360-original-size/Test/apple_crimson_snow_1/r0_187.jpg',\n",
       " '/kaggle/input/fruits/fruits-360-original-size/fruits-360-original-size/Test/apple_crimson_snow_1/r0_19.jpg',\n",
       " '/kaggle/input/fruits/fruits-360-original-size/fruits-360-original-size/Test/apple_crimson_snow_1/r0_191.jpg',\n",
       " '/kaggle/input/fruits/fruits-360-original-size/fruits-360-original-size/Test/apple_crimson_snow_1/r0_195.jpg',\n",
       " '/kaggle/input/fruits/fruits-360-original-size/fruits-360-original-size/Test/apple_crimson_snow_1/r0_199.jpg',\n",
       " '/kaggle/input/fruits/fruits-360-original-size/fruits-360-original-size/Test/apple_crimson_snow_1/r0_203.jpg',\n",
       " '/kaggle/input/fruits/fruits-360-original-size/fruits-360-original-size/Test/apple_crimson_snow_1/r0_207.jpg',\n",
       " '/kaggle/input/fruits/fruits-360-original-size/fruits-360-original-size/Test/apple_crimson_snow_1/r0_211.jpg',\n",
       " '/kaggle/input/fruits/fruits-360-original-size/fruits-360-original-size/Test/apple_crimson_snow_1/r0_215.jpg',\n",
       " '/kaggle/input/fruits/fruits-360-original-size/fruits-360-original-size/Test/apple_crimson_snow_1/r0_219.jpg',\n",
       " '/kaggle/input/fruits/fruits-360-original-size/fruits-360-original-size/Test/apple_crimson_snow_1/r0_223.jpg',\n",
       " '/kaggle/input/fruits/fruits-360-original-size/fruits-360-original-size/Test/apple_crimson_snow_1/r0_227.jpg',\n",
       " '/kaggle/input/fruits/fruits-360-original-size/fruits-360-original-size/Test/apple_crimson_snow_1/r0_23.jpg',\n",
       " '/kaggle/input/fruits/fruits-360-original-size/fruits-360-original-size/Test/apple_crimson_snow_1/r0_231.jpg',\n",
       " '/kaggle/input/fruits/fruits-360-original-size/fruits-360-original-size/Test/apple_crimson_snow_1/r0_235.jpg',\n",
       " '/kaggle/input/fruits/fruits-360-original-size/fruits-360-original-size/Test/apple_crimson_snow_1/r0_239.jpg',\n",
       " '/kaggle/input/fruits/fruits-360-original-size/fruits-360-original-size/Test/apple_crimson_snow_1/r0_243.jpg',\n",
       " '/kaggle/input/fruits/fruits-360-original-size/fruits-360-original-size/Test/apple_crimson_snow_1/r0_247.jpg',\n",
       " '/kaggle/input/fruits/fruits-360-original-size/fruits-360-original-size/Test/apple_crimson_snow_1/r0_251.jpg',\n",
       " '/kaggle/input/fruits/fruits-360-original-size/fruits-360-original-size/Test/apple_crimson_snow_1/r0_255.jpg',\n",
       " '/kaggle/input/fruits/fruits-360-original-size/fruits-360-original-size/Test/apple_crimson_snow_1/r0_259.jpg',\n",
       " '/kaggle/input/fruits/fruits-360-original-size/fruits-360-original-size/Test/apple_crimson_snow_1/r0_263.jpg',\n",
       " '/kaggle/input/fruits/fruits-360-original-size/fruits-360-original-size/Test/apple_crimson_snow_1/r0_267.jpg',\n",
       " '/kaggle/input/fruits/fruits-360-original-size/fruits-360-original-size/Test/apple_crimson_snow_1/r0_27.jpg',\n",
       " '/kaggle/input/fruits/fruits-360-original-size/fruits-360-original-size/Test/apple_crimson_snow_1/r0_271.jpg',\n",
       " '/kaggle/input/fruits/fruits-360-original-size/fruits-360-original-size/Test/apple_crimson_snow_1/r0_275.jpg',\n",
       " '/kaggle/input/fruits/fruits-360-original-size/fruits-360-original-size/Test/apple_crimson_snow_1/r0_279.jpg',\n",
       " '/kaggle/input/fruits/fruits-360-original-size/fruits-360-original-size/Test/apple_crimson_snow_1/r0_283.jpg',\n",
       " '/kaggle/input/fruits/fruits-360-original-size/fruits-360-original-size/Test/apple_crimson_snow_1/r0_287.jpg',\n",
       " '/kaggle/input/fruits/fruits-360-original-size/fruits-360-original-size/Test/apple_crimson_snow_1/r0_291.jpg',\n",
       " '/kaggle/input/fruits/fruits-360-original-size/fruits-360-original-size/Test/apple_crimson_snow_1/r0_295.jpg',\n",
       " '/kaggle/input/fruits/fruits-360-original-size/fruits-360-original-size/Test/apple_crimson_snow_1/r0_299.jpg',\n",
       " '/kaggle/input/fruits/fruits-360-original-size/fruits-360-original-size/Test/apple_crimson_snow_1/r0_3.jpg',\n",
       " '/kaggle/input/fruits/fruits-360-original-size/fruits-360-original-size/Test/apple_crimson_snow_1/r0_303.jpg',\n",
       " '/kaggle/input/fruits/fruits-360-original-size/fruits-360-original-size/Test/apple_crimson_snow_1/r0_307.jpg',\n",
       " '/kaggle/input/fruits/fruits-360-original-size/fruits-360-original-size/Test/apple_crimson_snow_1/r0_31.jpg',\n",
       " '/kaggle/input/fruits/fruits-360-original-size/fruits-360-original-size/Test/apple_crimson_snow_1/r0_311.jpg',\n",
       " '/kaggle/input/fruits/fruits-360-original-size/fruits-360-original-size/Test/apple_crimson_snow_1/r0_315.jpg',\n",
       " '/kaggle/input/fruits/fruits-360-original-size/fruits-360-original-size/Test/apple_crimson_snow_1/r0_35.jpg',\n",
       " '/kaggle/input/fruits/fruits-360-original-size/fruits-360-original-size/Test/apple_crimson_snow_1/r0_39.jpg',\n",
       " '/kaggle/input/fruits/fruits-360-original-size/fruits-360-original-size/Test/apple_crimson_snow_1/r0_43.jpg',\n",
       " '/kaggle/input/fruits/fruits-360-original-size/fruits-360-original-size/Test/apple_crimson_snow_1/r0_47.jpg',\n",
       " '/kaggle/input/fruits/fruits-360-original-size/fruits-360-original-size/Test/apple_crimson_snow_1/r0_51.jpg',\n",
       " '/kaggle/input/fruits/fruits-360-original-size/fruits-360-original-size/Test/apple_crimson_snow_1/r0_55.jpg',\n",
       " '/kaggle/input/fruits/fruits-360-original-size/fruits-360-original-size/Test/apple_crimson_snow_1/r0_59.jpg',\n",
       " '/kaggle/input/fruits/fruits-360-original-size/fruits-360-original-size/Test/apple_crimson_snow_1/r0_63.jpg',\n",
       " '/kaggle/input/fruits/fruits-360-original-size/fruits-360-original-size/Test/apple_crimson_snow_1/r0_67.jpg',\n",
       " '/kaggle/input/fruits/fruits-360-original-size/fruits-360-original-size/Test/apple_crimson_snow_1/r0_7.jpg',\n",
       " '/kaggle/input/fruits/fruits-360-original-size/fruits-360-original-size/Test/apple_crimson_snow_1/r0_71.jpg',\n",
       " '/kaggle/input/fruits/fruits-360-original-size/fruits-360-original-size/Test/apple_crimson_snow_1/r0_75.jpg',\n",
       " '/kaggle/input/fruits/fruits-360-original-size/fruits-360-original-size/Test/apple_crimson_snow_1/r0_79.jpg',\n",
       " '/kaggle/input/fruits/fruits-360-original-size/fruits-360-original-size/Test/apple_crimson_snow_1/r0_83.jpg',\n",
       " '/kaggle/input/fruits/fruits-360-original-size/fruits-360-original-size/Test/apple_crimson_snow_1/r0_87.jpg',\n",
       " '/kaggle/input/fruits/fruits-360-original-size/fruits-360-original-size/Test/apple_crimson_snow_1/r0_91.jpg',\n",
       " '/kaggle/input/fruits/fruits-360-original-size/fruits-360-original-size/Test/apple_crimson_snow_1/r0_95.jpg',\n",
       " '/kaggle/input/fruits/fruits-360-original-size/fruits-360-original-size/Test/apple_crimson_snow_1/r0_99.jpg',\n",
       " '/kaggle/input/fruits/fruits-360-original-size/fruits-360-original-size/Test/apple_crimson_snow_1/r1_103.jpg',\n",
       " '/kaggle/input/fruits/fruits-360-original-size/fruits-360-original-size/Test/apple_crimson_snow_1/r1_107.jpg',\n",
       " '/kaggle/input/fruits/fruits-360-original-size/fruits-360-original-size/Test/apple_crimson_snow_1/r1_11.jpg',\n",
       " '/kaggle/input/fruits/fruits-360-original-size/fruits-360-original-size/Test/apple_crimson_snow_1/r1_111.jpg',\n",
       " '/kaggle/input/fruits/fruits-360-original-size/fruits-360-original-size/Test/apple_crimson_snow_1/r1_115.jpg',\n",
       " '/kaggle/input/fruits/fruits-360-original-size/fruits-360-original-size/Test/apple_crimson_snow_1/r1_119.jpg',\n",
       " '/kaggle/input/fruits/fruits-360-original-size/fruits-360-original-size/Test/apple_crimson_snow_1/r1_123.jpg',\n",
       " '/kaggle/input/fruits/fruits-360-original-size/fruits-360-original-size/Test/apple_crimson_snow_1/r1_127.jpg',\n",
       " '/kaggle/input/fruits/fruits-360-original-size/fruits-360-original-size/Test/apple_crimson_snow_1/r1_131.jpg',\n",
       " '/kaggle/input/fruits/fruits-360-original-size/fruits-360-original-size/Test/apple_crimson_snow_1/r1_135.jpg',\n",
       " '/kaggle/input/fruits/fruits-360-original-size/fruits-360-original-size/Test/apple_crimson_snow_1/r1_139.jpg',\n",
       " '/kaggle/input/fruits/fruits-360-original-size/fruits-360-original-size/Test/apple_crimson_snow_1/r1_143.jpg',\n",
       " '/kaggle/input/fruits/fruits-360-original-size/fruits-360-original-size/Test/apple_crimson_snow_1/r1_147.jpg',\n",
       " '/kaggle/input/fruits/fruits-360-original-size/fruits-360-original-size/Test/apple_crimson_snow_1/r1_15.jpg',\n",
       " '/kaggle/input/fruits/fruits-360-original-size/fruits-360-original-size/Test/apple_crimson_snow_1/r1_151.jpg',\n",
       " '/kaggle/input/fruits/fruits-360-original-size/fruits-360-original-size/Test/apple_crimson_snow_1/r1_155.jpg',\n",
       " '/kaggle/input/fruits/fruits-360-original-size/fruits-360-original-size/Test/apple_crimson_snow_1/r1_159.jpg',\n",
       " '/kaggle/input/fruits/fruits-360-original-size/fruits-360-original-size/Test/apple_crimson_snow_1/r1_163.jpg',\n",
       " '/kaggle/input/fruits/fruits-360-original-size/fruits-360-original-size/Test/apple_crimson_snow_1/r1_167.jpg',\n",
       " '/kaggle/input/fruits/fruits-360-original-size/fruits-360-original-size/Test/apple_crimson_snow_1/r1_171.jpg',\n",
       " '/kaggle/input/fruits/fruits-360-original-size/fruits-360-original-size/Test/apple_crimson_snow_1/r1_175.jpg',\n",
       " '/kaggle/input/fruits/fruits-360-original-size/fruits-360-original-size/Test/apple_crimson_snow_1/r1_179.jpg',\n",
       " '/kaggle/input/fruits/fruits-360-original-size/fruits-360-original-size/Test/apple_crimson_snow_1/r1_183.jpg',\n",
       " '/kaggle/input/fruits/fruits-360-original-size/fruits-360-original-size/Test/apple_crimson_snow_1/r1_187.jpg',\n",
       " '/kaggle/input/fruits/fruits-360-original-size/fruits-360-original-size/Test/apple_crimson_snow_1/r1_19.jpg',\n",
       " '/kaggle/input/fruits/fruits-360-original-size/fruits-360-original-size/Test/apple_crimson_snow_1/r1_191.jpg',\n",
       " '/kaggle/input/fruits/fruits-360-original-size/fruits-360-original-size/Test/apple_crimson_snow_1/r1_195.jpg',\n",
       " '/kaggle/input/fruits/fruits-360-original-size/fruits-360-original-size/Test/apple_crimson_snow_1/r1_199.jpg',\n",
       " '/kaggle/input/fruits/fruits-360-original-size/fruits-360-original-size/Test/apple_crimson_snow_1/r1_203.jpg',\n",
       " '/kaggle/input/fruits/fruits-360-original-size/fruits-360-original-size/Test/apple_crimson_snow_1/r1_207.jpg',\n",
       " '/kaggle/input/fruits/fruits-360-original-size/fruits-360-original-size/Test/apple_crimson_snow_1/r1_211.jpg',\n",
       " '/kaggle/input/fruits/fruits-360-original-size/fruits-360-original-size/Test/apple_crimson_snow_1/r1_215.jpg',\n",
       " '/kaggle/input/fruits/fruits-360-original-size/fruits-360-original-size/Test/apple_crimson_snow_1/r1_219.jpg',\n",
       " '/kaggle/input/fruits/fruits-360-original-size/fruits-360-original-size/Test/apple_crimson_snow_1/r1_223.jpg',\n",
       " '/kaggle/input/fruits/fruits-360-original-size/fruits-360-original-size/Test/apple_crimson_snow_1/r1_227.jpg',\n",
       " '/kaggle/input/fruits/fruits-360-original-size/fruits-360-original-size/Test/apple_crimson_snow_1/r1_23.jpg',\n",
       " '/kaggle/input/fruits/fruits-360-original-size/fruits-360-original-size/Test/apple_crimson_snow_1/r1_231.jpg',\n",
       " '/kaggle/input/fruits/fruits-360-original-size/fruits-360-original-size/Test/apple_crimson_snow_1/r1_235.jpg',\n",
       " '/kaggle/input/fruits/fruits-360-original-size/fruits-360-original-size/Test/apple_crimson_snow_1/r1_239.jpg',\n",
       " '/kaggle/input/fruits/fruits-360-original-size/fruits-360-original-size/Test/apple_crimson_snow_1/r1_243.jpg',\n",
       " '/kaggle/input/fruits/fruits-360-original-size/fruits-360-original-size/Test/apple_crimson_snow_1/r1_247.jpg',\n",
       " '/kaggle/input/fruits/fruits-360-original-size/fruits-360-original-size/Test/apple_crimson_snow_1/r1_251.jpg',\n",
       " '/kaggle/input/fruits/fruits-360-original-size/fruits-360-original-size/Test/apple_crimson_snow_1/r1_255.jpg',\n",
       " '/kaggle/input/fruits/fruits-360-original-size/fruits-360-original-size/Test/apple_crimson_snow_1/r1_259.jpg',\n",
       " '/kaggle/input/fruits/fruits-360-original-size/fruits-360-original-size/Test/apple_crimson_snow_1/r1_263.jpg',\n",
       " '/kaggle/input/fruits/fruits-360-original-size/fruits-360-original-size/Test/apple_crimson_snow_1/r1_267.jpg',\n",
       " '/kaggle/input/fruits/fruits-360-original-size/fruits-360-original-size/Test/apple_crimson_snow_1/r1_27.jpg',\n",
       " '/kaggle/input/fruits/fruits-360-original-size/fruits-360-original-size/Test/apple_crimson_snow_1/r1_271.jpg',\n",
       " '/kaggle/input/fruits/fruits-360-original-size/fruits-360-original-size/Test/apple_crimson_snow_1/r1_275.jpg',\n",
       " '/kaggle/input/fruits/fruits-360-original-size/fruits-360-original-size/Test/apple_crimson_snow_1/r1_279.jpg',\n",
       " '/kaggle/input/fruits/fruits-360-original-size/fruits-360-original-size/Test/apple_crimson_snow_1/r1_283.jpg',\n",
       " '/kaggle/input/fruits/fruits-360-original-size/fruits-360-original-size/Test/apple_crimson_snow_1/r1_287.jpg',\n",
       " '/kaggle/input/fruits/fruits-360-original-size/fruits-360-original-size/Test/apple_crimson_snow_1/r1_291.jpg',\n",
       " '/kaggle/input/fruits/fruits-360-original-size/fruits-360-original-size/Test/apple_crimson_snow_1/r1_295.jpg',\n",
       " '/kaggle/input/fruits/fruits-360-original-size/fruits-360-original-size/Test/apple_crimson_snow_1/r1_299.jpg',\n",
       " '/kaggle/input/fruits/fruits-360-original-size/fruits-360-original-size/Test/apple_crimson_snow_1/r1_3.jpg',\n",
       " '/kaggle/input/fruits/fruits-360-original-size/fruits-360-original-size/Test/apple_crimson_snow_1/r1_303.jpg',\n",
       " '/kaggle/input/fruits/fruits-360-original-size/fruits-360-original-size/Test/apple_crimson_snow_1/r1_307.jpg',\n",
       " '/kaggle/input/fruits/fruits-360-original-size/fruits-360-original-size/Test/apple_crimson_snow_1/r1_31.jpg',\n",
       " '/kaggle/input/fruits/fruits-360-original-size/fruits-360-original-size/Test/apple_crimson_snow_1/r1_311.jpg',\n",
       " '/kaggle/input/fruits/fruits-360-original-size/fruits-360-original-size/Test/apple_crimson_snow_1/r1_315.jpg',\n",
       " '/kaggle/input/fruits/fruits-360-original-size/fruits-360-original-size/Test/apple_crimson_snow_1/r1_319.jpg',\n",
       " '/kaggle/input/fruits/fruits-360-original-size/fruits-360-original-size/Test/apple_crimson_snow_1/r1_35.jpg',\n",
       " '/kaggle/input/fruits/fruits-360-original-size/fruits-360-original-size/Test/apple_crimson_snow_1/r1_39.jpg',\n",
       " '/kaggle/input/fruits/fruits-360-original-size/fruits-360-original-size/Test/apple_crimson_snow_1/r1_43.jpg',\n",
       " '/kaggle/input/fruits/fruits-360-original-size/fruits-360-original-size/Test/apple_crimson_snow_1/r1_47.jpg',\n",
       " '/kaggle/input/fruits/fruits-360-original-size/fruits-360-original-size/Test/apple_crimson_snow_1/r1_51.jpg',\n",
       " '/kaggle/input/fruits/fruits-360-original-size/fruits-360-original-size/Test/apple_crimson_snow_1/r1_55.jpg',\n",
       " '/kaggle/input/fruits/fruits-360-original-size/fruits-360-original-size/Test/apple_crimson_snow_1/r1_59.jpg',\n",
       " '/kaggle/input/fruits/fruits-360-original-size/fruits-360-original-size/Test/apple_crimson_snow_1/r1_63.jpg',\n",
       " '/kaggle/input/fruits/fruits-360-original-size/fruits-360-original-size/Test/apple_crimson_snow_1/r1_67.jpg',\n",
       " '/kaggle/input/fruits/fruits-360-original-size/fruits-360-original-size/Test/apple_crimson_snow_1/r1_7.jpg',\n",
       " '/kaggle/input/fruits/fruits-360-original-size/fruits-360-original-size/Test/apple_crimson_snow_1/r1_71.jpg',\n",
       " '/kaggle/input/fruits/fruits-360-original-size/fruits-360-original-size/Test/apple_crimson_snow_1/r1_75.jpg',\n",
       " '/kaggle/input/fruits/fruits-360-original-size/fruits-360-original-size/Test/apple_crimson_snow_1/r1_79.jpg',\n",
       " '/kaggle/input/fruits/fruits-360-original-size/fruits-360-original-size/Test/apple_crimson_snow_1/r1_83.jpg',\n",
       " '/kaggle/input/fruits/fruits-360-original-size/fruits-360-original-size/Test/apple_crimson_snow_1/r1_87.jpg',\n",
       " '/kaggle/input/fruits/fruits-360-original-size/fruits-360-original-size/Test/apple_crimson_snow_1/r1_91.jpg',\n",
       " '/kaggle/input/fruits/fruits-360-original-size/fruits-360-original-size/Test/apple_crimson_snow_1/r1_95.jpg',\n",
       " '/kaggle/input/fruits/fruits-360-original-size/fruits-360-original-size/Test/apple_crimson_snow_1/r1_99.jpg',\n",
       " '/kaggle/input/fruits/fruits-360-original-size/fruits-360-original-size/Test/apple_golden_1/r0_103.jpg',\n",
       " '/kaggle/input/fruits/fruits-360-original-size/fruits-360-original-size/Test/apple_golden_1/r0_107.jpg',\n",
       " '/kaggle/input/fruits/fruits-360-original-size/fruits-360-original-size/Test/apple_golden_1/r0_11.jpg',\n",
       " '/kaggle/input/fruits/fruits-360-original-size/fruits-360-original-size/Test/apple_golden_1/r0_111.jpg',\n",
       " '/kaggle/input/fruits/fruits-360-original-size/fruits-360-original-size/Test/apple_golden_1/r0_115.jpg',\n",
       " '/kaggle/input/fruits/fruits-360-original-size/fruits-360-original-size/Test/apple_golden_1/r0_119.jpg',\n",
       " '/kaggle/input/fruits/fruits-360-original-size/fruits-360-original-size/Test/apple_golden_1/r0_123.jpg',\n",
       " '/kaggle/input/fruits/fruits-360-original-size/fruits-360-original-size/Test/apple_golden_1/r0_127.jpg',\n",
       " '/kaggle/input/fruits/fruits-360-original-size/fruits-360-original-size/Test/apple_golden_1/r0_131.jpg',\n",
       " '/kaggle/input/fruits/fruits-360-original-size/fruits-360-original-size/Test/apple_golden_1/r0_135.jpg',\n",
       " '/kaggle/input/fruits/fruits-360-original-size/fruits-360-original-size/Test/apple_golden_1/r0_139.jpg',\n",
       " '/kaggle/input/fruits/fruits-360-original-size/fruits-360-original-size/Test/apple_golden_1/r0_143.jpg',\n",
       " '/kaggle/input/fruits/fruits-360-original-size/fruits-360-original-size/Test/apple_golden_1/r0_147.jpg',\n",
       " '/kaggle/input/fruits/fruits-360-original-size/fruits-360-original-size/Test/apple_golden_1/r0_15.jpg',\n",
       " '/kaggle/input/fruits/fruits-360-original-size/fruits-360-original-size/Test/apple_golden_1/r0_151.jpg',\n",
       " '/kaggle/input/fruits/fruits-360-original-size/fruits-360-original-size/Test/apple_golden_1/r0_155.jpg',\n",
       " '/kaggle/input/fruits/fruits-360-original-size/fruits-360-original-size/Test/apple_golden_1/r0_159.jpg',\n",
       " '/kaggle/input/fruits/fruits-360-original-size/fruits-360-original-size/Test/apple_golden_1/r0_163.jpg',\n",
       " '/kaggle/input/fruits/fruits-360-original-size/fruits-360-original-size/Test/apple_golden_1/r0_167.jpg',\n",
       " '/kaggle/input/fruits/fruits-360-original-size/fruits-360-original-size/Test/apple_golden_1/r0_171.jpg',\n",
       " '/kaggle/input/fruits/fruits-360-original-size/fruits-360-original-size/Test/apple_golden_1/r0_175.jpg',\n",
       " '/kaggle/input/fruits/fruits-360-original-size/fruits-360-original-size/Test/apple_golden_1/r0_179.jpg',\n",
       " '/kaggle/input/fruits/fruits-360-original-size/fruits-360-original-size/Test/apple_golden_1/r0_183.jpg',\n",
       " '/kaggle/input/fruits/fruits-360-original-size/fruits-360-original-size/Test/apple_golden_1/r0_187.jpg',\n",
       " '/kaggle/input/fruits/fruits-360-original-size/fruits-360-original-size/Test/apple_golden_1/r0_19.jpg',\n",
       " '/kaggle/input/fruits/fruits-360-original-size/fruits-360-original-size/Test/apple_golden_1/r0_191.jpg',\n",
       " '/kaggle/input/fruits/fruits-360-original-size/fruits-360-original-size/Test/apple_golden_1/r0_195.jpg',\n",
       " '/kaggle/input/fruits/fruits-360-original-size/fruits-360-original-size/Test/apple_golden_1/r0_199.jpg',\n",
       " '/kaggle/input/fruits/fruits-360-original-size/fruits-360-original-size/Test/apple_golden_1/r0_203.jpg',\n",
       " '/kaggle/input/fruits/fruits-360-original-size/fruits-360-original-size/Test/apple_golden_1/r0_207.jpg',\n",
       " '/kaggle/input/fruits/fruits-360-original-size/fruits-360-original-size/Test/apple_golden_1/r0_211.jpg',\n",
       " '/kaggle/input/fruits/fruits-360-original-size/fruits-360-original-size/Test/apple_golden_1/r0_215.jpg',\n",
       " '/kaggle/input/fruits/fruits-360-original-size/fruits-360-original-size/Test/apple_golden_1/r0_219.jpg',\n",
       " '/kaggle/input/fruits/fruits-360-original-size/fruits-360-original-size/Test/apple_golden_1/r0_223.jpg',\n",
       " '/kaggle/input/fruits/fruits-360-original-size/fruits-360-original-size/Test/apple_golden_1/r0_227.jpg',\n",
       " '/kaggle/input/fruits/fruits-360-original-size/fruits-360-original-size/Test/apple_golden_1/r0_23.jpg',\n",
       " '/kaggle/input/fruits/fruits-360-original-size/fruits-360-original-size/Test/apple_golden_1/r0_231.jpg',\n",
       " '/kaggle/input/fruits/fruits-360-original-size/fruits-360-original-size/Test/apple_golden_1/r0_235.jpg',\n",
       " '/kaggle/input/fruits/fruits-360-original-size/fruits-360-original-size/Test/apple_golden_1/r0_239.jpg',\n",
       " '/kaggle/input/fruits/fruits-360-original-size/fruits-360-original-size/Test/apple_golden_1/r0_243.jpg',\n",
       " '/kaggle/input/fruits/fruits-360-original-size/fruits-360-original-size/Test/apple_golden_1/r0_247.jpg',\n",
       " '/kaggle/input/fruits/fruits-360-original-size/fruits-360-original-size/Test/apple_golden_1/r0_251.jpg',\n",
       " '/kaggle/input/fruits/fruits-360-original-size/fruits-360-original-size/Test/apple_golden_1/r0_255.jpg',\n",
       " '/kaggle/input/fruits/fruits-360-original-size/fruits-360-original-size/Test/apple_golden_1/r0_259.jpg',\n",
       " '/kaggle/input/fruits/fruits-360-original-size/fruits-360-original-size/Test/apple_golden_1/r0_263.jpg',\n",
       " '/kaggle/input/fruits/fruits-360-original-size/fruits-360-original-size/Test/apple_golden_1/r0_267.jpg',\n",
       " '/kaggle/input/fruits/fruits-360-original-size/fruits-360-original-size/Test/apple_golden_1/r0_27.jpg',\n",
       " '/kaggle/input/fruits/fruits-360-original-size/fruits-360-original-size/Test/apple_golden_1/r0_271.jpg',\n",
       " '/kaggle/input/fruits/fruits-360-original-size/fruits-360-original-size/Test/apple_golden_1/r0_275.jpg',\n",
       " '/kaggle/input/fruits/fruits-360-original-size/fruits-360-original-size/Test/apple_golden_1/r0_279.jpg',\n",
       " '/kaggle/input/fruits/fruits-360-original-size/fruits-360-original-size/Test/apple_golden_1/r0_283.jpg',\n",
       " '/kaggle/input/fruits/fruits-360-original-size/fruits-360-original-size/Test/apple_golden_1/r0_287.jpg',\n",
       " '/kaggle/input/fruits/fruits-360-original-size/fruits-360-original-size/Test/apple_golden_1/r0_291.jpg',\n",
       " '/kaggle/input/fruits/fruits-360-original-size/fruits-360-original-size/Test/apple_golden_1/r0_295.jpg',\n",
       " '/kaggle/input/fruits/fruits-360-original-size/fruits-360-original-size/Test/apple_golden_1/r0_299.jpg',\n",
       " '/kaggle/input/fruits/fruits-360-original-size/fruits-360-original-size/Test/apple_golden_1/r0_3.jpg',\n",
       " '/kaggle/input/fruits/fruits-360-original-size/fruits-360-original-size/Test/apple_golden_1/r0_303.jpg',\n",
       " '/kaggle/input/fruits/fruits-360-original-size/fruits-360-original-size/Test/apple_golden_1/r0_307.jpg',\n",
       " '/kaggle/input/fruits/fruits-360-original-size/fruits-360-original-size/Test/apple_golden_1/r0_31.jpg',\n",
       " '/kaggle/input/fruits/fruits-360-original-size/fruits-360-original-size/Test/apple_golden_1/r0_35.jpg',\n",
       " '/kaggle/input/fruits/fruits-360-original-size/fruits-360-original-size/Test/apple_golden_1/r0_39.jpg',\n",
       " '/kaggle/input/fruits/fruits-360-original-size/fruits-360-original-size/Test/apple_golden_1/r0_43.jpg',\n",
       " '/kaggle/input/fruits/fruits-360-original-size/fruits-360-original-size/Test/apple_golden_1/r0_47.jpg',\n",
       " '/kaggle/input/fruits/fruits-360-original-size/fruits-360-original-size/Test/apple_golden_1/r0_51.jpg',\n",
       " '/kaggle/input/fruits/fruits-360-original-size/fruits-360-original-size/Test/apple_golden_1/r0_55.jpg',\n",
       " '/kaggle/input/fruits/fruits-360-original-size/fruits-360-original-size/Test/apple_golden_1/r0_59.jpg',\n",
       " '/kaggle/input/fruits/fruits-360-original-size/fruits-360-original-size/Test/apple_golden_1/r0_63.jpg',\n",
       " '/kaggle/input/fruits/fruits-360-original-size/fruits-360-original-size/Test/apple_golden_1/r0_67.jpg',\n",
       " '/kaggle/input/fruits/fruits-360-original-size/fruits-360-original-size/Test/apple_golden_1/r0_7.jpg',\n",
       " '/kaggle/input/fruits/fruits-360-original-size/fruits-360-original-size/Test/apple_golden_1/r0_71.jpg',\n",
       " '/kaggle/input/fruits/fruits-360-original-size/fruits-360-original-size/Test/apple_golden_1/r0_75.jpg',\n",
       " '/kaggle/input/fruits/fruits-360-original-size/fruits-360-original-size/Test/apple_golden_1/r0_79.jpg',\n",
       " '/kaggle/input/fruits/fruits-360-original-size/fruits-360-original-size/Test/apple_golden_1/r0_83.jpg',\n",
       " '/kaggle/input/fruits/fruits-360-original-size/fruits-360-original-size/Test/apple_golden_1/r0_87.jpg',\n",
       " '/kaggle/input/fruits/fruits-360-original-size/fruits-360-original-size/Test/apple_golden_1/r0_91.jpg',\n",
       " '/kaggle/input/fruits/fruits-360-original-size/fruits-360-original-size/Test/apple_golden_1/r0_95.jpg',\n",
       " '/kaggle/input/fruits/fruits-360-original-size/fruits-360-original-size/Test/apple_golden_1/r0_99.jpg',\n",
       " '/kaggle/input/fruits/fruits-360-original-size/fruits-360-original-size/Test/apple_golden_1/r1_103.jpg',\n",
       " '/kaggle/input/fruits/fruits-360-original-size/fruits-360-original-size/Test/apple_golden_1/r1_107.jpg',\n",
       " '/kaggle/input/fruits/fruits-360-original-size/fruits-360-original-size/Test/apple_golden_1/r1_11.jpg',\n",
       " '/kaggle/input/fruits/fruits-360-original-size/fruits-360-original-size/Test/apple_golden_1/r1_111.jpg',\n",
       " '/kaggle/input/fruits/fruits-360-original-size/fruits-360-original-size/Test/apple_golden_1/r1_115.jpg',\n",
       " '/kaggle/input/fruits/fruits-360-original-size/fruits-360-original-size/Test/apple_golden_1/r1_119.jpg',\n",
       " '/kaggle/input/fruits/fruits-360-original-size/fruits-360-original-size/Test/apple_golden_1/r1_123.jpg',\n",
       " '/kaggle/input/fruits/fruits-360-original-size/fruits-360-original-size/Test/apple_golden_1/r1_127.jpg',\n",
       " '/kaggle/input/fruits/fruits-360-original-size/fruits-360-original-size/Test/apple_golden_1/r1_131.jpg',\n",
       " '/kaggle/input/fruits/fruits-360-original-size/fruits-360-original-size/Test/apple_golden_1/r1_135.jpg',\n",
       " '/kaggle/input/fruits/fruits-360-original-size/fruits-360-original-size/Test/apple_golden_1/r1_139.jpg',\n",
       " '/kaggle/input/fruits/fruits-360-original-size/fruits-360-original-size/Test/apple_golden_1/r1_143.jpg',\n",
       " '/kaggle/input/fruits/fruits-360-original-size/fruits-360-original-size/Test/apple_golden_1/r1_147.jpg',\n",
       " '/kaggle/input/fruits/fruits-360-original-size/fruits-360-original-size/Test/apple_golden_1/r1_15.jpg',\n",
       " '/kaggle/input/fruits/fruits-360-original-size/fruits-360-original-size/Test/apple_golden_1/r1_151.jpg',\n",
       " '/kaggle/input/fruits/fruits-360-original-size/fruits-360-original-size/Test/apple_golden_1/r1_155.jpg',\n",
       " '/kaggle/input/fruits/fruits-360-original-size/fruits-360-original-size/Test/apple_golden_1/r1_159.jpg',\n",
       " '/kaggle/input/fruits/fruits-360-original-size/fruits-360-original-size/Test/apple_golden_1/r1_163.jpg',\n",
       " '/kaggle/input/fruits/fruits-360-original-size/fruits-360-original-size/Test/apple_golden_1/r1_167.jpg',\n",
       " '/kaggle/input/fruits/fruits-360-original-size/fruits-360-original-size/Test/apple_golden_1/r1_171.jpg',\n",
       " '/kaggle/input/fruits/fruits-360-original-size/fruits-360-original-size/Test/apple_golden_1/r1_175.jpg',\n",
       " '/kaggle/input/fruits/fruits-360-original-size/fruits-360-original-size/Test/apple_golden_1/r1_179.jpg',\n",
       " '/kaggle/input/fruits/fruits-360-original-size/fruits-360-original-size/Test/apple_golden_1/r1_183.jpg',\n",
       " '/kaggle/input/fruits/fruits-360-original-size/fruits-360-original-size/Test/apple_golden_1/r1_187.jpg',\n",
       " '/kaggle/input/fruits/fruits-360-original-size/fruits-360-original-size/Test/apple_golden_1/r1_19.jpg',\n",
       " '/kaggle/input/fruits/fruits-360-original-size/fruits-360-original-size/Test/apple_golden_1/r1_191.jpg',\n",
       " '/kaggle/input/fruits/fruits-360-original-size/fruits-360-original-size/Test/apple_golden_1/r1_195.jpg',\n",
       " '/kaggle/input/fruits/fruits-360-original-size/fruits-360-original-size/Test/apple_golden_1/r1_199.jpg',\n",
       " '/kaggle/input/fruits/fruits-360-original-size/fruits-360-original-size/Test/apple_golden_1/r1_203.jpg',\n",
       " '/kaggle/input/fruits/fruits-360-original-size/fruits-360-original-size/Test/apple_golden_1/r1_207.jpg',\n",
       " '/kaggle/input/fruits/fruits-360-original-size/fruits-360-original-size/Test/apple_golden_1/r1_211.jpg',\n",
       " '/kaggle/input/fruits/fruits-360-original-size/fruits-360-original-size/Test/apple_golden_1/r1_215.jpg',\n",
       " '/kaggle/input/fruits/fruits-360-original-size/fruits-360-original-size/Test/apple_golden_1/r1_219.jpg',\n",
       " '/kaggle/input/fruits/fruits-360-original-size/fruits-360-original-size/Test/apple_golden_1/r1_223.jpg',\n",
       " '/kaggle/input/fruits/fruits-360-original-size/fruits-360-original-size/Test/apple_golden_1/r1_227.jpg',\n",
       " '/kaggle/input/fruits/fruits-360-original-size/fruits-360-original-size/Test/apple_golden_1/r1_23.jpg',\n",
       " '/kaggle/input/fruits/fruits-360-original-size/fruits-360-original-size/Test/apple_golden_1/r1_231.jpg',\n",
       " '/kaggle/input/fruits/fruits-360-original-size/fruits-360-original-size/Test/apple_golden_1/r1_235.jpg',\n",
       " '/kaggle/input/fruits/fruits-360-original-size/fruits-360-original-size/Test/apple_golden_1/r1_239.jpg',\n",
       " '/kaggle/input/fruits/fruits-360-original-size/fruits-360-original-size/Test/apple_golden_1/r1_243.jpg',\n",
       " '/kaggle/input/fruits/fruits-360-original-size/fruits-360-original-size/Test/apple_golden_1/r1_247.jpg',\n",
       " '/kaggle/input/fruits/fruits-360-original-size/fruits-360-original-size/Test/apple_golden_1/r1_251.jpg',\n",
       " '/kaggle/input/fruits/fruits-360-original-size/fruits-360-original-size/Test/apple_golden_1/r1_255.jpg',\n",
       " '/kaggle/input/fruits/fruits-360-original-size/fruits-360-original-size/Test/apple_golden_1/r1_259.jpg',\n",
       " '/kaggle/input/fruits/fruits-360-original-size/fruits-360-original-size/Test/apple_golden_1/r1_263.jpg',\n",
       " '/kaggle/input/fruits/fruits-360-original-size/fruits-360-original-size/Test/apple_golden_1/r1_267.jpg',\n",
       " '/kaggle/input/fruits/fruits-360-original-size/fruits-360-original-size/Test/apple_golden_1/r1_27.jpg',\n",
       " '/kaggle/input/fruits/fruits-360-original-size/fruits-360-original-size/Test/apple_golden_1/r1_271.jpg',\n",
       " '/kaggle/input/fruits/fruits-360-original-size/fruits-360-original-size/Test/apple_golden_1/r1_275.jpg',\n",
       " '/kaggle/input/fruits/fruits-360-original-size/fruits-360-original-size/Test/apple_golden_1/r1_279.jpg',\n",
       " '/kaggle/input/fruits/fruits-360-original-size/fruits-360-original-size/Test/apple_golden_1/r1_283.jpg',\n",
       " '/kaggle/input/fruits/fruits-360-original-size/fruits-360-original-size/Test/apple_golden_1/r1_287.jpg',\n",
       " '/kaggle/input/fruits/fruits-360-original-size/fruits-360-original-size/Test/apple_golden_1/r1_291.jpg',\n",
       " '/kaggle/input/fruits/fruits-360-original-size/fruits-360-original-size/Test/apple_golden_1/r1_295.jpg',\n",
       " '/kaggle/input/fruits/fruits-360-original-size/fruits-360-original-size/Test/apple_golden_1/r1_299.jpg',\n",
       " '/kaggle/input/fruits/fruits-360-original-size/fruits-360-original-size/Test/apple_golden_1/r1_3.jpg',\n",
       " '/kaggle/input/fruits/fruits-360-original-size/fruits-360-original-size/Test/apple_golden_1/r1_303.jpg',\n",
       " '/kaggle/input/fruits/fruits-360-original-size/fruits-360-original-size/Test/apple_golden_1/r1_307.jpg',\n",
       " '/kaggle/input/fruits/fruits-360-original-size/fruits-360-original-size/Test/apple_golden_1/r1_31.jpg',\n",
       " '/kaggle/input/fruits/fruits-360-original-size/fruits-360-original-size/Test/apple_golden_1/r1_35.jpg',\n",
       " '/kaggle/input/fruits/fruits-360-original-size/fruits-360-original-size/Test/apple_golden_1/r1_39.jpg',\n",
       " '/kaggle/input/fruits/fruits-360-original-size/fruits-360-original-size/Test/apple_golden_1/r1_43.jpg',\n",
       " '/kaggle/input/fruits/fruits-360-original-size/fruits-360-original-size/Test/apple_golden_1/r1_47.jpg',\n",
       " '/kaggle/input/fruits/fruits-360-original-size/fruits-360-original-size/Test/apple_golden_1/r1_51.jpg',\n",
       " '/kaggle/input/fruits/fruits-360-original-size/fruits-360-original-size/Test/apple_golden_1/r1_55.jpg',\n",
       " '/kaggle/input/fruits/fruits-360-original-size/fruits-360-original-size/Test/apple_golden_1/r1_59.jpg',\n",
       " '/kaggle/input/fruits/fruits-360-original-size/fruits-360-original-size/Test/apple_golden_1/r1_63.jpg',\n",
       " '/kaggle/input/fruits/fruits-360-original-size/fruits-360-original-size/Test/apple_golden_1/r1_67.jpg',\n",
       " '/kaggle/input/fruits/fruits-360-original-size/fruits-360-original-size/Test/apple_golden_1/r1_7.jpg',\n",
       " '/kaggle/input/fruits/fruits-360-original-size/fruits-360-original-size/Test/apple_golden_1/r1_71.jpg',\n",
       " '/kaggle/input/fruits/fruits-360-original-size/fruits-360-original-size/Test/apple_golden_1/r1_75.jpg',\n",
       " '/kaggle/input/fruits/fruits-360-original-size/fruits-360-original-size/Test/apple_golden_1/r1_79.jpg',\n",
       " '/kaggle/input/fruits/fruits-360-original-size/fruits-360-original-size/Test/apple_golden_1/r1_83.jpg',\n",
       " '/kaggle/input/fruits/fruits-360-original-size/fruits-360-original-size/Test/apple_golden_1/r1_87.jpg',\n",
       " '/kaggle/input/fruits/fruits-360-original-size/fruits-360-original-size/Test/apple_golden_1/r1_91.jpg',\n",
       " '/kaggle/input/fruits/fruits-360-original-size/fruits-360-original-size/Test/apple_golden_1/r1_95.jpg',\n",
       " '/kaggle/input/fruits/fruits-360-original-size/fruits-360-original-size/Test/apple_golden_1/r1_99.jpg',\n",
       " '/kaggle/input/fruits/fruits-360-original-size/fruits-360-original-size/Test/apple_golden_2/r0_103.jpg',\n",
       " '/kaggle/input/fruits/fruits-360-original-size/fruits-360-original-size/Test/apple_golden_2/r0_107.jpg',\n",
       " '/kaggle/input/fruits/fruits-360-original-size/fruits-360-original-size/Test/apple_golden_2/r0_11.jpg',\n",
       " '/kaggle/input/fruits/fruits-360-original-size/fruits-360-original-size/Test/apple_golden_2/r0_111.jpg',\n",
       " '/kaggle/input/fruits/fruits-360-original-size/fruits-360-original-size/Test/apple_golden_2/r0_115.jpg',\n",
       " '/kaggle/input/fruits/fruits-360-original-size/fruits-360-original-size/Test/apple_golden_2/r0_119.jpg',\n",
       " '/kaggle/input/fruits/fruits-360-original-size/fruits-360-original-size/Test/apple_golden_2/r0_123.jpg',\n",
       " '/kaggle/input/fruits/fruits-360-original-size/fruits-360-original-size/Test/apple_golden_2/r0_127.jpg',\n",
       " '/kaggle/input/fruits/fruits-360-original-size/fruits-360-original-size/Test/apple_golden_2/r0_131.jpg',\n",
       " '/kaggle/input/fruits/fruits-360-original-size/fruits-360-original-size/Test/apple_golden_2/r0_135.jpg',\n",
       " '/kaggle/input/fruits/fruits-360-original-size/fruits-360-original-size/Test/apple_golden_2/r0_139.jpg',\n",
       " '/kaggle/input/fruits/fruits-360-original-size/fruits-360-original-size/Test/apple_golden_2/r0_143.jpg',\n",
       " '/kaggle/input/fruits/fruits-360-original-size/fruits-360-original-size/Test/apple_golden_2/r0_147.jpg',\n",
       " '/kaggle/input/fruits/fruits-360-original-size/fruits-360-original-size/Test/apple_golden_2/r0_15.jpg',\n",
       " '/kaggle/input/fruits/fruits-360-original-size/fruits-360-original-size/Test/apple_golden_2/r0_151.jpg',\n",
       " '/kaggle/input/fruits/fruits-360-original-size/fruits-360-original-size/Test/apple_golden_2/r0_155.jpg',\n",
       " '/kaggle/input/fruits/fruits-360-original-size/fruits-360-original-size/Test/apple_golden_2/r0_159.jpg',\n",
       " '/kaggle/input/fruits/fruits-360-original-size/fruits-360-original-size/Test/apple_golden_2/r0_163.jpg',\n",
       " '/kaggle/input/fruits/fruits-360-original-size/fruits-360-original-size/Test/apple_golden_2/r0_167.jpg',\n",
       " '/kaggle/input/fruits/fruits-360-original-size/fruits-360-original-size/Test/apple_golden_2/r0_171.jpg',\n",
       " '/kaggle/input/fruits/fruits-360-original-size/fruits-360-original-size/Test/apple_golden_2/r0_175.jpg',\n",
       " '/kaggle/input/fruits/fruits-360-original-size/fruits-360-original-size/Test/apple_golden_2/r0_179.jpg',\n",
       " '/kaggle/input/fruits/fruits-360-original-size/fruits-360-original-size/Test/apple_golden_2/r0_183.jpg',\n",
       " '/kaggle/input/fruits/fruits-360-original-size/fruits-360-original-size/Test/apple_golden_2/r0_187.jpg',\n",
       " '/kaggle/input/fruits/fruits-360-original-size/fruits-360-original-size/Test/apple_golden_2/r0_19.jpg',\n",
       " '/kaggle/input/fruits/fruits-360-original-size/fruits-360-original-size/Test/apple_golden_2/r0_191.jpg',\n",
       " '/kaggle/input/fruits/fruits-360-original-size/fruits-360-original-size/Test/apple_golden_2/r0_195.jpg',\n",
       " '/kaggle/input/fruits/fruits-360-original-size/fruits-360-original-size/Test/apple_golden_2/r0_199.jpg',\n",
       " '/kaggle/input/fruits/fruits-360-original-size/fruits-360-original-size/Test/apple_golden_2/r0_203.jpg',\n",
       " '/kaggle/input/fruits/fruits-360-original-size/fruits-360-original-size/Test/apple_golden_2/r0_207.jpg',\n",
       " '/kaggle/input/fruits/fruits-360-original-size/fruits-360-original-size/Test/apple_golden_2/r0_211.jpg',\n",
       " '/kaggle/input/fruits/fruits-360-original-size/fruits-360-original-size/Test/apple_golden_2/r0_215.jpg',\n",
       " '/kaggle/input/fruits/fruits-360-original-size/fruits-360-original-size/Test/apple_golden_2/r0_219.jpg',\n",
       " '/kaggle/input/fruits/fruits-360-original-size/fruits-360-original-size/Test/apple_golden_2/r0_223.jpg',\n",
       " '/kaggle/input/fruits/fruits-360-original-size/fruits-360-original-size/Test/apple_golden_2/r0_227.jpg',\n",
       " '/kaggle/input/fruits/fruits-360-original-size/fruits-360-original-size/Test/apple_golden_2/r0_23.jpg',\n",
       " '/kaggle/input/fruits/fruits-360-original-size/fruits-360-original-size/Test/apple_golden_2/r0_231.jpg',\n",
       " '/kaggle/input/fruits/fruits-360-original-size/fruits-360-original-size/Test/apple_golden_2/r0_235.jpg',\n",
       " '/kaggle/input/fruits/fruits-360-original-size/fruits-360-original-size/Test/apple_golden_2/r0_239.jpg',\n",
       " '/kaggle/input/fruits/fruits-360-original-size/fruits-360-original-size/Test/apple_golden_2/r0_243.jpg',\n",
       " '/kaggle/input/fruits/fruits-360-original-size/fruits-360-original-size/Test/apple_golden_2/r0_247.jpg',\n",
       " '/kaggle/input/fruits/fruits-360-original-size/fruits-360-original-size/Test/apple_golden_2/r0_251.jpg',\n",
       " '/kaggle/input/fruits/fruits-360-original-size/fruits-360-original-size/Test/apple_golden_2/r0_255.jpg',\n",
       " '/kaggle/input/fruits/fruits-360-original-size/fruits-360-original-size/Test/apple_golden_2/r0_259.jpg',\n",
       " '/kaggle/input/fruits/fruits-360-original-size/fruits-360-original-size/Test/apple_golden_2/r0_263.jpg',\n",
       " '/kaggle/input/fruits/fruits-360-original-size/fruits-360-original-size/Test/apple_golden_2/r0_267.jpg',\n",
       " '/kaggle/input/fruits/fruits-360-original-size/fruits-360-original-size/Test/apple_golden_2/r0_27.jpg',\n",
       " '/kaggle/input/fruits/fruits-360-original-size/fruits-360-original-size/Test/apple_golden_2/r0_271.jpg',\n",
       " '/kaggle/input/fruits/fruits-360-original-size/fruits-360-original-size/Test/apple_golden_2/r0_275.jpg',\n",
       " '/kaggle/input/fruits/fruits-360-original-size/fruits-360-original-size/Test/apple_golden_2/r0_279.jpg',\n",
       " '/kaggle/input/fruits/fruits-360-original-size/fruits-360-original-size/Test/apple_golden_2/r0_283.jpg',\n",
       " '/kaggle/input/fruits/fruits-360-original-size/fruits-360-original-size/Test/apple_golden_2/r0_287.jpg',\n",
       " '/kaggle/input/fruits/fruits-360-original-size/fruits-360-original-size/Test/apple_golden_2/r0_291.jpg',\n",
       " '/kaggle/input/fruits/fruits-360-original-size/fruits-360-original-size/Test/apple_golden_2/r0_295.jpg',\n",
       " '/kaggle/input/fruits/fruits-360-original-size/fruits-360-original-size/Test/apple_golden_2/r0_299.jpg',\n",
       " '/kaggle/input/fruits/fruits-360-original-size/fruits-360-original-size/Test/apple_golden_2/r0_3.jpg',\n",
       " '/kaggle/input/fruits/fruits-360-original-size/fruits-360-original-size/Test/apple_golden_2/r0_303.jpg',\n",
       " '/kaggle/input/fruits/fruits-360-original-size/fruits-360-original-size/Test/apple_golden_2/r0_307.jpg',\n",
       " '/kaggle/input/fruits/fruits-360-original-size/fruits-360-original-size/Test/apple_golden_2/r0_31.jpg',\n",
       " '/kaggle/input/fruits/fruits-360-original-size/fruits-360-original-size/Test/apple_golden_2/r0_35.jpg',\n",
       " '/kaggle/input/fruits/fruits-360-original-size/fruits-360-original-size/Test/apple_golden_2/r0_39.jpg',\n",
       " '/kaggle/input/fruits/fruits-360-original-size/fruits-360-original-size/Test/apple_golden_2/r0_43.jpg',\n",
       " '/kaggle/input/fruits/fruits-360-original-size/fruits-360-original-size/Test/apple_golden_2/r0_47.jpg',\n",
       " '/kaggle/input/fruits/fruits-360-original-size/fruits-360-original-size/Test/apple_golden_2/r0_51.jpg',\n",
       " '/kaggle/input/fruits/fruits-360-original-size/fruits-360-original-size/Test/apple_golden_2/r0_55.jpg',\n",
       " '/kaggle/input/fruits/fruits-360-original-size/fruits-360-original-size/Test/apple_golden_2/r0_59.jpg',\n",
       " '/kaggle/input/fruits/fruits-360-original-size/fruits-360-original-size/Test/apple_golden_2/r0_63.jpg',\n",
       " '/kaggle/input/fruits/fruits-360-original-size/fruits-360-original-size/Test/apple_golden_2/r0_67.jpg',\n",
       " '/kaggle/input/fruits/fruits-360-original-size/fruits-360-original-size/Test/apple_golden_2/r0_7.jpg',\n",
       " '/kaggle/input/fruits/fruits-360-original-size/fruits-360-original-size/Test/apple_golden_2/r0_71.jpg',\n",
       " '/kaggle/input/fruits/fruits-360-original-size/fruits-360-original-size/Test/apple_golden_2/r0_75.jpg',\n",
       " '/kaggle/input/fruits/fruits-360-original-size/fruits-360-original-size/Test/apple_golden_2/r0_79.jpg',\n",
       " '/kaggle/input/fruits/fruits-360-original-size/fruits-360-original-size/Test/apple_golden_2/r0_83.jpg',\n",
       " '/kaggle/input/fruits/fruits-360-original-size/fruits-360-original-size/Test/apple_golden_2/r0_87.jpg',\n",
       " '/kaggle/input/fruits/fruits-360-original-size/fruits-360-original-size/Test/apple_golden_2/r0_91.jpg',\n",
       " '/kaggle/input/fruits/fruits-360-original-size/fruits-360-original-size/Test/apple_golden_2/r0_95.jpg',\n",
       " '/kaggle/input/fruits/fruits-360-original-size/fruits-360-original-size/Test/apple_golden_2/r0_99.jpg',\n",
       " '/kaggle/input/fruits/fruits-360-original-size/fruits-360-original-size/Test/apple_golden_2/r1_103.jpg',\n",
       " '/kaggle/input/fruits/fruits-360-original-size/fruits-360-original-size/Test/apple_golden_2/r1_107.jpg',\n",
       " '/kaggle/input/fruits/fruits-360-original-size/fruits-360-original-size/Test/apple_golden_2/r1_11.jpg',\n",
       " '/kaggle/input/fruits/fruits-360-original-size/fruits-360-original-size/Test/apple_golden_2/r1_111.jpg',\n",
       " '/kaggle/input/fruits/fruits-360-original-size/fruits-360-original-size/Test/apple_golden_2/r1_115.jpg',\n",
       " '/kaggle/input/fruits/fruits-360-original-size/fruits-360-original-size/Test/apple_golden_2/r1_119.jpg',\n",
       " '/kaggle/input/fruits/fruits-360-original-size/fruits-360-original-size/Test/apple_golden_2/r1_123.jpg',\n",
       " '/kaggle/input/fruits/fruits-360-original-size/fruits-360-original-size/Test/apple_golden_2/r1_127.jpg',\n",
       " '/kaggle/input/fruits/fruits-360-original-size/fruits-360-original-size/Test/apple_golden_2/r1_131.jpg',\n",
       " '/kaggle/input/fruits/fruits-360-original-size/fruits-360-original-size/Test/apple_golden_2/r1_135.jpg',\n",
       " '/kaggle/input/fruits/fruits-360-original-size/fruits-360-original-size/Test/apple_golden_2/r1_139.jpg',\n",
       " '/kaggle/input/fruits/fruits-360-original-size/fruits-360-original-size/Test/apple_golden_2/r1_143.jpg',\n",
       " '/kaggle/input/fruits/fruits-360-original-size/fruits-360-original-size/Test/apple_golden_2/r1_147.jpg',\n",
       " '/kaggle/input/fruits/fruits-360-original-size/fruits-360-original-size/Test/apple_golden_2/r1_15.jpg',\n",
       " '/kaggle/input/fruits/fruits-360-original-size/fruits-360-original-size/Test/apple_golden_2/r1_151.jpg',\n",
       " '/kaggle/input/fruits/fruits-360-original-size/fruits-360-original-size/Test/apple_golden_2/r1_155.jpg',\n",
       " '/kaggle/input/fruits/fruits-360-original-size/fruits-360-original-size/Test/apple_golden_2/r1_159.jpg',\n",
       " '/kaggle/input/fruits/fruits-360-original-size/fruits-360-original-size/Test/apple_golden_2/r1_163.jpg',\n",
       " '/kaggle/input/fruits/fruits-360-original-size/fruits-360-original-size/Test/apple_golden_2/r1_167.jpg',\n",
       " '/kaggle/input/fruits/fruits-360-original-size/fruits-360-original-size/Test/apple_golden_2/r1_171.jpg',\n",
       " '/kaggle/input/fruits/fruits-360-original-size/fruits-360-original-size/Test/apple_golden_2/r1_175.jpg',\n",
       " '/kaggle/input/fruits/fruits-360-original-size/fruits-360-original-size/Test/apple_golden_2/r1_179.jpg',\n",
       " '/kaggle/input/fruits/fruits-360-original-size/fruits-360-original-size/Test/apple_golden_2/r1_183.jpg',\n",
       " '/kaggle/input/fruits/fruits-360-original-size/fruits-360-original-size/Test/apple_golden_2/r1_187.jpg',\n",
       " '/kaggle/input/fruits/fruits-360-original-size/fruits-360-original-size/Test/apple_golden_2/r1_19.jpg',\n",
       " '/kaggle/input/fruits/fruits-360-original-size/fruits-360-original-size/Test/apple_golden_2/r1_191.jpg',\n",
       " '/kaggle/input/fruits/fruits-360-original-size/fruits-360-original-size/Test/apple_golden_2/r1_195.jpg',\n",
       " '/kaggle/input/fruits/fruits-360-original-size/fruits-360-original-size/Test/apple_golden_2/r1_199.jpg',\n",
       " '/kaggle/input/fruits/fruits-360-original-size/fruits-360-original-size/Test/apple_golden_2/r1_203.jpg',\n",
       " '/kaggle/input/fruits/fruits-360-original-size/fruits-360-original-size/Test/apple_golden_2/r1_207.jpg',\n",
       " '/kaggle/input/fruits/fruits-360-original-size/fruits-360-original-size/Test/apple_golden_2/r1_211.jpg',\n",
       " '/kaggle/input/fruits/fruits-360-original-size/fruits-360-original-size/Test/apple_golden_2/r1_215.jpg',\n",
       " '/kaggle/input/fruits/fruits-360-original-size/fruits-360-original-size/Test/apple_golden_2/r1_219.jpg',\n",
       " '/kaggle/input/fruits/fruits-360-original-size/fruits-360-original-size/Test/apple_golden_2/r1_223.jpg',\n",
       " '/kaggle/input/fruits/fruits-360-original-size/fruits-360-original-size/Test/apple_golden_2/r1_227.jpg',\n",
       " '/kaggle/input/fruits/fruits-360-original-size/fruits-360-original-size/Test/apple_golden_2/r1_23.jpg',\n",
       " '/kaggle/input/fruits/fruits-360-original-size/fruits-360-original-size/Test/apple_golden_2/r1_231.jpg',\n",
       " '/kaggle/input/fruits/fruits-360-original-size/fruits-360-original-size/Test/apple_golden_2/r1_235.jpg',\n",
       " '/kaggle/input/fruits/fruits-360-original-size/fruits-360-original-size/Test/apple_golden_2/r1_239.jpg',\n",
       " '/kaggle/input/fruits/fruits-360-original-size/fruits-360-original-size/Test/apple_golden_2/r1_243.jpg',\n",
       " '/kaggle/input/fruits/fruits-360-original-size/fruits-360-original-size/Test/apple_golden_2/r1_247.jpg',\n",
       " '/kaggle/input/fruits/fruits-360-original-size/fruits-360-original-size/Test/apple_golden_2/r1_251.jpg',\n",
       " '/kaggle/input/fruits/fruits-360-original-size/fruits-360-original-size/Test/apple_golden_2/r1_255.jpg',\n",
       " '/kaggle/input/fruits/fruits-360-original-size/fruits-360-original-size/Test/apple_golden_2/r1_259.jpg',\n",
       " '/kaggle/input/fruits/fruits-360-original-size/fruits-360-original-size/Test/apple_golden_2/r1_263.jpg',\n",
       " '/kaggle/input/fruits/fruits-360-original-size/fruits-360-original-size/Test/apple_golden_2/r1_267.jpg',\n",
       " '/kaggle/input/fruits/fruits-360-original-size/fruits-360-original-size/Test/apple_golden_2/r1_27.jpg',\n",
       " '/kaggle/input/fruits/fruits-360-original-size/fruits-360-original-size/Test/apple_golden_2/r1_271.jpg',\n",
       " '/kaggle/input/fruits/fruits-360-original-size/fruits-360-original-size/Test/apple_golden_2/r1_275.jpg',\n",
       " '/kaggle/input/fruits/fruits-360-original-size/fruits-360-original-size/Test/apple_golden_2/r1_279.jpg',\n",
       " '/kaggle/input/fruits/fruits-360-original-size/fruits-360-original-size/Test/apple_golden_2/r1_283.jpg',\n",
       " '/kaggle/input/fruits/fruits-360-original-size/fruits-360-original-size/Test/apple_golden_2/r1_287.jpg',\n",
       " '/kaggle/input/fruits/fruits-360-original-size/fruits-360-original-size/Test/apple_golden_2/r1_291.jpg',\n",
       " '/kaggle/input/fruits/fruits-360-original-size/fruits-360-original-size/Test/apple_golden_2/r1_295.jpg',\n",
       " '/kaggle/input/fruits/fruits-360-original-size/fruits-360-original-size/Test/apple_golden_2/r1_299.jpg',\n",
       " '/kaggle/input/fruits/fruits-360-original-size/fruits-360-original-size/Test/apple_golden_2/r1_3.jpg',\n",
       " '/kaggle/input/fruits/fruits-360-original-size/fruits-360-original-size/Test/apple_golden_2/r1_303.jpg',\n",
       " '/kaggle/input/fruits/fruits-360-original-size/fruits-360-original-size/Test/apple_golden_2/r1_307.jpg',\n",
       " '/kaggle/input/fruits/fruits-360-original-size/fruits-360-original-size/Test/apple_golden_2/r1_31.jpg',\n",
       " '/kaggle/input/fruits/fruits-360-original-size/fruits-360-original-size/Test/apple_golden_2/r1_35.jpg',\n",
       " '/kaggle/input/fruits/fruits-360-original-size/fruits-360-original-size/Test/apple_golden_2/r1_39.jpg',\n",
       " '/kaggle/input/fruits/fruits-360-original-size/fruits-360-original-size/Test/apple_golden_2/r1_43.jpg',\n",
       " '/kaggle/input/fruits/fruits-360-original-size/fruits-360-original-size/Test/apple_golden_2/r1_47.jpg',\n",
       " '/kaggle/input/fruits/fruits-360-original-size/fruits-360-original-size/Test/apple_golden_2/r1_51.jpg',\n",
       " '/kaggle/input/fruits/fruits-360-original-size/fruits-360-original-size/Test/apple_golden_2/r1_55.jpg',\n",
       " '/kaggle/input/fruits/fruits-360-original-size/fruits-360-original-size/Test/apple_golden_2/r1_59.jpg',\n",
       " '/kaggle/input/fruits/fruits-360-original-size/fruits-360-original-size/Test/apple_golden_2/r1_63.jpg',\n",
       " '/kaggle/input/fruits/fruits-360-original-size/fruits-360-original-size/Test/apple_golden_2/r1_67.jpg',\n",
       " '/kaggle/input/fruits/fruits-360-original-size/fruits-360-original-size/Test/apple_golden_2/r1_7.jpg',\n",
       " '/kaggle/input/fruits/fruits-360-original-size/fruits-360-original-size/Test/apple_golden_2/r1_71.jpg',\n",
       " '/kaggle/input/fruits/fruits-360-original-size/fruits-360-original-size/Test/apple_golden_2/r1_75.jpg',\n",
       " '/kaggle/input/fruits/fruits-360-original-size/fruits-360-original-size/Test/apple_golden_2/r1_79.jpg',\n",
       " '/kaggle/input/fruits/fruits-360-original-size/fruits-360-original-size/Test/apple_golden_2/r1_83.jpg',\n",
       " '/kaggle/input/fruits/fruits-360-original-size/fruits-360-original-size/Test/apple_golden_2/r1_87.jpg',\n",
       " '/kaggle/input/fruits/fruits-360-original-size/fruits-360-original-size/Test/apple_golden_2/r1_91.jpg',\n",
       " '/kaggle/input/fruits/fruits-360-original-size/fruits-360-original-size/Test/apple_golden_2/r1_95.jpg',\n",
       " '/kaggle/input/fruits/fruits-360-original-size/fruits-360-original-size/Test/apple_golden_2/r1_99.jpg',\n",
       " '/kaggle/input/fruits/fruits-360-original-size/fruits-360-original-size/Test/apple_golden_3/r0_103.jpg',\n",
       " '/kaggle/input/fruits/fruits-360-original-size/fruits-360-original-size/Test/apple_golden_3/r0_107.jpg',\n",
       " '/kaggle/input/fruits/fruits-360-original-size/fruits-360-original-size/Test/apple_golden_3/r0_11.jpg',\n",
       " '/kaggle/input/fruits/fruits-360-original-size/fruits-360-original-size/Test/apple_golden_3/r0_111.jpg',\n",
       " '/kaggle/input/fruits/fruits-360-original-size/fruits-360-original-size/Test/apple_golden_3/r0_115.jpg',\n",
       " '/kaggle/input/fruits/fruits-360-original-size/fruits-360-original-size/Test/apple_golden_3/r0_119.jpg',\n",
       " '/kaggle/input/fruits/fruits-360-original-size/fruits-360-original-size/Test/apple_golden_3/r0_123.jpg',\n",
       " '/kaggle/input/fruits/fruits-360-original-size/fruits-360-original-size/Test/apple_golden_3/r0_127.jpg',\n",
       " '/kaggle/input/fruits/fruits-360-original-size/fruits-360-original-size/Test/apple_golden_3/r0_131.jpg',\n",
       " '/kaggle/input/fruits/fruits-360-original-size/fruits-360-original-size/Test/apple_golden_3/r0_135.jpg',\n",
       " '/kaggle/input/fruits/fruits-360-original-size/fruits-360-original-size/Test/apple_golden_3/r0_139.jpg',\n",
       " '/kaggle/input/fruits/fruits-360-original-size/fruits-360-original-size/Test/apple_golden_3/r0_143.jpg',\n",
       " '/kaggle/input/fruits/fruits-360-original-size/fruits-360-original-size/Test/apple_golden_3/r0_147.jpg',\n",
       " '/kaggle/input/fruits/fruits-360-original-size/fruits-360-original-size/Test/apple_golden_3/r0_15.jpg',\n",
       " '/kaggle/input/fruits/fruits-360-original-size/fruits-360-original-size/Test/apple_golden_3/r0_151.jpg',\n",
       " '/kaggle/input/fruits/fruits-360-original-size/fruits-360-original-size/Test/apple_golden_3/r0_155.jpg',\n",
       " '/kaggle/input/fruits/fruits-360-original-size/fruits-360-original-size/Test/apple_golden_3/r0_159.jpg',\n",
       " '/kaggle/input/fruits/fruits-360-original-size/fruits-360-original-size/Test/apple_golden_3/r0_163.jpg',\n",
       " '/kaggle/input/fruits/fruits-360-original-size/fruits-360-original-size/Test/apple_golden_3/r0_167.jpg',\n",
       " '/kaggle/input/fruits/fruits-360-original-size/fruits-360-original-size/Test/apple_golden_3/r0_171.jpg',\n",
       " '/kaggle/input/fruits/fruits-360-original-size/fruits-360-original-size/Test/apple_golden_3/r0_175.jpg',\n",
       " '/kaggle/input/fruits/fruits-360-original-size/fruits-360-original-size/Test/apple_golden_3/r0_179.jpg',\n",
       " '/kaggle/input/fruits/fruits-360-original-size/fruits-360-original-size/Test/apple_golden_3/r0_183.jpg',\n",
       " '/kaggle/input/fruits/fruits-360-original-size/fruits-360-original-size/Test/apple_golden_3/r0_187.jpg',\n",
       " '/kaggle/input/fruits/fruits-360-original-size/fruits-360-original-size/Test/apple_golden_3/r0_19.jpg',\n",
       " '/kaggle/input/fruits/fruits-360-original-size/fruits-360-original-size/Test/apple_golden_3/r0_191.jpg',\n",
       " '/kaggle/input/fruits/fruits-360-original-size/fruits-360-original-size/Test/apple_golden_3/r0_195.jpg',\n",
       " '/kaggle/input/fruits/fruits-360-original-size/fruits-360-original-size/Test/apple_golden_3/r0_199.jpg',\n",
       " '/kaggle/input/fruits/fruits-360-original-size/fruits-360-original-size/Test/apple_golden_3/r0_203.jpg',\n",
       " '/kaggle/input/fruits/fruits-360-original-size/fruits-360-original-size/Test/apple_golden_3/r0_207.jpg',\n",
       " '/kaggle/input/fruits/fruits-360-original-size/fruits-360-original-size/Test/apple_golden_3/r0_211.jpg',\n",
       " '/kaggle/input/fruits/fruits-360-original-size/fruits-360-original-size/Test/apple_golden_3/r0_215.jpg',\n",
       " '/kaggle/input/fruits/fruits-360-original-size/fruits-360-original-size/Test/apple_golden_3/r0_219.jpg',\n",
       " '/kaggle/input/fruits/fruits-360-original-size/fruits-360-original-size/Test/apple_golden_3/r0_223.jpg',\n",
       " '/kaggle/input/fruits/fruits-360-original-size/fruits-360-original-size/Test/apple_golden_3/r0_227.jpg',\n",
       " '/kaggle/input/fruits/fruits-360-original-size/fruits-360-original-size/Test/apple_golden_3/r0_23.jpg',\n",
       " '/kaggle/input/fruits/fruits-360-original-size/fruits-360-original-size/Test/apple_golden_3/r0_231.jpg',\n",
       " '/kaggle/input/fruits/fruits-360-original-size/fruits-360-original-size/Test/apple_golden_3/r0_235.jpg',\n",
       " '/kaggle/input/fruits/fruits-360-original-size/fruits-360-original-size/Test/apple_golden_3/r0_239.jpg',\n",
       " '/kaggle/input/fruits/fruits-360-original-size/fruits-360-original-size/Test/apple_golden_3/r0_243.jpg',\n",
       " '/kaggle/input/fruits/fruits-360-original-size/fruits-360-original-size/Test/apple_golden_3/r0_247.jpg',\n",
       " '/kaggle/input/fruits/fruits-360-original-size/fruits-360-original-size/Test/apple_golden_3/r0_251.jpg',\n",
       " '/kaggle/input/fruits/fruits-360-original-size/fruits-360-original-size/Test/apple_golden_3/r0_255.jpg',\n",
       " '/kaggle/input/fruits/fruits-360-original-size/fruits-360-original-size/Test/apple_golden_3/r0_259.jpg',\n",
       " '/kaggle/input/fruits/fruits-360-original-size/fruits-360-original-size/Test/apple_golden_3/r0_263.jpg',\n",
       " '/kaggle/input/fruits/fruits-360-original-size/fruits-360-original-size/Test/apple_golden_3/r0_267.jpg',\n",
       " '/kaggle/input/fruits/fruits-360-original-size/fruits-360-original-size/Test/apple_golden_3/r0_27.jpg',\n",
       " '/kaggle/input/fruits/fruits-360-original-size/fruits-360-original-size/Test/apple_golden_3/r0_271.jpg',\n",
       " '/kaggle/input/fruits/fruits-360-original-size/fruits-360-original-size/Test/apple_golden_3/r0_275.jpg',\n",
       " '/kaggle/input/fruits/fruits-360-original-size/fruits-360-original-size/Test/apple_golden_3/r0_279.jpg',\n",
       " '/kaggle/input/fruits/fruits-360-original-size/fruits-360-original-size/Test/apple_golden_3/r0_283.jpg',\n",
       " '/kaggle/input/fruits/fruits-360-original-size/fruits-360-original-size/Test/apple_golden_3/r0_287.jpg',\n",
       " '/kaggle/input/fruits/fruits-360-original-size/fruits-360-original-size/Test/apple_golden_3/r0_291.jpg',\n",
       " '/kaggle/input/fruits/fruits-360-original-size/fruits-360-original-size/Test/apple_golden_3/r0_295.jpg',\n",
       " '/kaggle/input/fruits/fruits-360-original-size/fruits-360-original-size/Test/apple_golden_3/r0_299.jpg',\n",
       " '/kaggle/input/fruits/fruits-360-original-size/fruits-360-original-size/Test/apple_golden_3/r0_3.jpg',\n",
       " '/kaggle/input/fruits/fruits-360-original-size/fruits-360-original-size/Test/apple_golden_3/r0_303.jpg',\n",
       " '/kaggle/input/fruits/fruits-360-original-size/fruits-360-original-size/Test/apple_golden_3/r0_307.jpg',\n",
       " '/kaggle/input/fruits/fruits-360-original-size/fruits-360-original-size/Test/apple_golden_3/r0_31.jpg',\n",
       " '/kaggle/input/fruits/fruits-360-original-size/fruits-360-original-size/Test/apple_golden_3/r0_311.jpg',\n",
       " '/kaggle/input/fruits/fruits-360-original-size/fruits-360-original-size/Test/apple_golden_3/r0_35.jpg',\n",
       " '/kaggle/input/fruits/fruits-360-original-size/fruits-360-original-size/Test/apple_golden_3/r0_39.jpg',\n",
       " '/kaggle/input/fruits/fruits-360-original-size/fruits-360-original-size/Test/apple_golden_3/r0_43.jpg',\n",
       " '/kaggle/input/fruits/fruits-360-original-size/fruits-360-original-size/Test/apple_golden_3/r0_47.jpg',\n",
       " '/kaggle/input/fruits/fruits-360-original-size/fruits-360-original-size/Test/apple_golden_3/r0_51.jpg',\n",
       " '/kaggle/input/fruits/fruits-360-original-size/fruits-360-original-size/Test/apple_golden_3/r0_55.jpg',\n",
       " '/kaggle/input/fruits/fruits-360-original-size/fruits-360-original-size/Test/apple_golden_3/r0_59.jpg',\n",
       " '/kaggle/input/fruits/fruits-360-original-size/fruits-360-original-size/Test/apple_golden_3/r0_63.jpg',\n",
       " '/kaggle/input/fruits/fruits-360-original-size/fruits-360-original-size/Test/apple_golden_3/r0_67.jpg',\n",
       " '/kaggle/input/fruits/fruits-360-original-size/fruits-360-original-size/Test/apple_golden_3/r0_7.jpg',\n",
       " '/kaggle/input/fruits/fruits-360-original-size/fruits-360-original-size/Test/apple_golden_3/r0_71.jpg',\n",
       " '/kaggle/input/fruits/fruits-360-original-size/fruits-360-original-size/Test/apple_golden_3/r0_75.jpg',\n",
       " '/kaggle/input/fruits/fruits-360-original-size/fruits-360-original-size/Test/apple_golden_3/r0_79.jpg',\n",
       " '/kaggle/input/fruits/fruits-360-original-size/fruits-360-original-size/Test/apple_golden_3/r0_83.jpg',\n",
       " '/kaggle/input/fruits/fruits-360-original-size/fruits-360-original-size/Test/apple_golden_3/r0_87.jpg',\n",
       " '/kaggle/input/fruits/fruits-360-original-size/fruits-360-original-size/Test/apple_golden_3/r0_91.jpg',\n",
       " '/kaggle/input/fruits/fruits-360-original-size/fruits-360-original-size/Test/apple_golden_3/r0_95.jpg',\n",
       " '/kaggle/input/fruits/fruits-360-original-size/fruits-360-original-size/Test/apple_golden_3/r0_99.jpg',\n",
       " '/kaggle/input/fruits/fruits-360-original-size/fruits-360-original-size/Test/apple_golden_3/r1_103.jpg',\n",
       " '/kaggle/input/fruits/fruits-360-original-size/fruits-360-original-size/Test/apple_golden_3/r1_107.jpg',\n",
       " '/kaggle/input/fruits/fruits-360-original-size/fruits-360-original-size/Test/apple_golden_3/r1_11.jpg',\n",
       " '/kaggle/input/fruits/fruits-360-original-size/fruits-360-original-size/Test/apple_golden_3/r1_111.jpg',\n",
       " '/kaggle/input/fruits/fruits-360-original-size/fruits-360-original-size/Test/apple_golden_3/r1_115.jpg',\n",
       " '/kaggle/input/fruits/fruits-360-original-size/fruits-360-original-size/Test/apple_golden_3/r1_119.jpg',\n",
       " '/kaggle/input/fruits/fruits-360-original-size/fruits-360-original-size/Test/apple_golden_3/r1_123.jpg',\n",
       " '/kaggle/input/fruits/fruits-360-original-size/fruits-360-original-size/Test/apple_golden_3/r1_127.jpg',\n",
       " '/kaggle/input/fruits/fruits-360-original-size/fruits-360-original-size/Test/apple_golden_3/r1_131.jpg',\n",
       " '/kaggle/input/fruits/fruits-360-original-size/fruits-360-original-size/Test/apple_golden_3/r1_135.jpg',\n",
       " '/kaggle/input/fruits/fruits-360-original-size/fruits-360-original-size/Test/apple_golden_3/r1_139.jpg',\n",
       " '/kaggle/input/fruits/fruits-360-original-size/fruits-360-original-size/Test/apple_golden_3/r1_143.jpg',\n",
       " '/kaggle/input/fruits/fruits-360-original-size/fruits-360-original-size/Test/apple_golden_3/r1_147.jpg',\n",
       " '/kaggle/input/fruits/fruits-360-original-size/fruits-360-original-size/Test/apple_golden_3/r1_15.jpg',\n",
       " '/kaggle/input/fruits/fruits-360-original-size/fruits-360-original-size/Test/apple_golden_3/r1_151.jpg',\n",
       " '/kaggle/input/fruits/fruits-360-original-size/fruits-360-original-size/Test/apple_golden_3/r1_155.jpg',\n",
       " '/kaggle/input/fruits/fruits-360-original-size/fruits-360-original-size/Test/apple_golden_3/r1_159.jpg',\n",
       " '/kaggle/input/fruits/fruits-360-original-size/fruits-360-original-size/Test/apple_golden_3/r1_163.jpg',\n",
       " '/kaggle/input/fruits/fruits-360-original-size/fruits-360-original-size/Test/apple_golden_3/r1_167.jpg',\n",
       " '/kaggle/input/fruits/fruits-360-original-size/fruits-360-original-size/Test/apple_golden_3/r1_171.jpg',\n",
       " '/kaggle/input/fruits/fruits-360-original-size/fruits-360-original-size/Test/apple_golden_3/r1_175.jpg',\n",
       " '/kaggle/input/fruits/fruits-360-original-size/fruits-360-original-size/Test/apple_golden_3/r1_179.jpg',\n",
       " '/kaggle/input/fruits/fruits-360-original-size/fruits-360-original-size/Test/apple_golden_3/r1_183.jpg',\n",
       " '/kaggle/input/fruits/fruits-360-original-size/fruits-360-original-size/Test/apple_golden_3/r1_187.jpg',\n",
       " '/kaggle/input/fruits/fruits-360-original-size/fruits-360-original-size/Test/apple_golden_3/r1_19.jpg',\n",
       " '/kaggle/input/fruits/fruits-360-original-size/fruits-360-original-size/Test/apple_golden_3/r1_191.jpg',\n",
       " '/kaggle/input/fruits/fruits-360-original-size/fruits-360-original-size/Test/apple_golden_3/r1_195.jpg',\n",
       " '/kaggle/input/fruits/fruits-360-original-size/fruits-360-original-size/Test/apple_golden_3/r1_199.jpg',\n",
       " '/kaggle/input/fruits/fruits-360-original-size/fruits-360-original-size/Test/apple_golden_3/r1_203.jpg',\n",
       " '/kaggle/input/fruits/fruits-360-original-size/fruits-360-original-size/Test/apple_golden_3/r1_207.jpg',\n",
       " '/kaggle/input/fruits/fruits-360-original-size/fruits-360-original-size/Test/apple_golden_3/r1_211.jpg',\n",
       " '/kaggle/input/fruits/fruits-360-original-size/fruits-360-original-size/Test/apple_golden_3/r1_215.jpg',\n",
       " '/kaggle/input/fruits/fruits-360-original-size/fruits-360-original-size/Test/apple_golden_3/r1_219.jpg',\n",
       " '/kaggle/input/fruits/fruits-360-original-size/fruits-360-original-size/Test/apple_golden_3/r1_223.jpg',\n",
       " '/kaggle/input/fruits/fruits-360-original-size/fruits-360-original-size/Test/apple_golden_3/r1_227.jpg',\n",
       " '/kaggle/input/fruits/fruits-360-original-size/fruits-360-original-size/Test/apple_golden_3/r1_23.jpg',\n",
       " '/kaggle/input/fruits/fruits-360-original-size/fruits-360-original-size/Test/apple_golden_3/r1_231.jpg',\n",
       " '/kaggle/input/fruits/fruits-360-original-size/fruits-360-original-size/Test/apple_golden_3/r1_235.jpg',\n",
       " '/kaggle/input/fruits/fruits-360-original-size/fruits-360-original-size/Test/apple_golden_3/r1_239.jpg',\n",
       " '/kaggle/input/fruits/fruits-360-original-size/fruits-360-original-size/Test/apple_golden_3/r1_243.jpg',\n",
       " '/kaggle/input/fruits/fruits-360-original-size/fruits-360-original-size/Test/apple_golden_3/r1_247.jpg',\n",
       " '/kaggle/input/fruits/fruits-360-original-size/fruits-360-original-size/Test/apple_golden_3/r1_251.jpg',\n",
       " '/kaggle/input/fruits/fruits-360-original-size/fruits-360-original-size/Test/apple_golden_3/r1_255.jpg',\n",
       " '/kaggle/input/fruits/fruits-360-original-size/fruits-360-original-size/Test/apple_golden_3/r1_259.jpg',\n",
       " '/kaggle/input/fruits/fruits-360-original-size/fruits-360-original-size/Test/apple_golden_3/r1_263.jpg',\n",
       " '/kaggle/input/fruits/fruits-360-original-size/fruits-360-original-size/Test/apple_golden_3/r1_267.jpg',\n",
       " '/kaggle/input/fruits/fruits-360-original-size/fruits-360-original-size/Test/apple_golden_3/r1_27.jpg',\n",
       " '/kaggle/input/fruits/fruits-360-original-size/fruits-360-original-size/Test/apple_golden_3/r1_271.jpg',\n",
       " '/kaggle/input/fruits/fruits-360-original-size/fruits-360-original-size/Test/apple_golden_3/r1_275.jpg',\n",
       " '/kaggle/input/fruits/fruits-360-original-size/fruits-360-original-size/Test/apple_golden_3/r1_279.jpg',\n",
       " '/kaggle/input/fruits/fruits-360-original-size/fruits-360-original-size/Test/apple_golden_3/r1_283.jpg',\n",
       " '/kaggle/input/fruits/fruits-360-original-size/fruits-360-original-size/Test/apple_golden_3/r1_287.jpg',\n",
       " '/kaggle/input/fruits/fruits-360-original-size/fruits-360-original-size/Test/apple_golden_3/r1_291.jpg',\n",
       " '/kaggle/input/fruits/fruits-360-original-size/fruits-360-original-size/Test/apple_golden_3/r1_295.jpg',\n",
       " '/kaggle/input/fruits/fruits-360-original-size/fruits-360-original-size/Test/apple_golden_3/r1_299.jpg',\n",
       " '/kaggle/input/fruits/fruits-360-original-size/fruits-360-original-size/Test/apple_golden_3/r1_3.jpg',\n",
       " '/kaggle/input/fruits/fruits-360-original-size/fruits-360-original-size/Test/apple_golden_3/r1_303.jpg',\n",
       " '/kaggle/input/fruits/fruits-360-original-size/fruits-360-original-size/Test/apple_golden_3/r1_307.jpg',\n",
       " '/kaggle/input/fruits/fruits-360-original-size/fruits-360-original-size/Test/apple_golden_3/r1_31.jpg',\n",
       " '/kaggle/input/fruits/fruits-360-original-size/fruits-360-original-size/Test/apple_golden_3/r1_311.jpg',\n",
       " '/kaggle/input/fruits/fruits-360-original-size/fruits-360-original-size/Test/apple_golden_3/r1_315.jpg',\n",
       " '/kaggle/input/fruits/fruits-360-original-size/fruits-360-original-size/Test/apple_golden_3/r1_319.jpg',\n",
       " '/kaggle/input/fruits/fruits-360-original-size/fruits-360-original-size/Test/apple_golden_3/r1_35.jpg',\n",
       " '/kaggle/input/fruits/fruits-360-original-size/fruits-360-original-size/Test/apple_golden_3/r1_39.jpg',\n",
       " '/kaggle/input/fruits/fruits-360-original-size/fruits-360-original-size/Test/apple_golden_3/r1_43.jpg',\n",
       " '/kaggle/input/fruits/fruits-360-original-size/fruits-360-original-size/Test/apple_golden_3/r1_47.jpg',\n",
       " '/kaggle/input/fruits/fruits-360-original-size/fruits-360-original-size/Test/apple_golden_3/r1_51.jpg',\n",
       " '/kaggle/input/fruits/fruits-360-original-size/fruits-360-original-size/Test/apple_golden_3/r1_55.jpg',\n",
       " '/kaggle/input/fruits/fruits-360-original-size/fruits-360-original-size/Test/apple_golden_3/r1_59.jpg',\n",
       " '/kaggle/input/fruits/fruits-360-original-size/fruits-360-original-size/Test/apple_golden_3/r1_63.jpg',\n",
       " '/kaggle/input/fruits/fruits-360-original-size/fruits-360-original-size/Test/apple_golden_3/r1_67.jpg',\n",
       " '/kaggle/input/fruits/fruits-360-original-size/fruits-360-original-size/Test/apple_golden_3/r1_7.jpg',\n",
       " '/kaggle/input/fruits/fruits-360-original-size/fruits-360-original-size/Test/apple_golden_3/r1_71.jpg',\n",
       " '/kaggle/input/fruits/fruits-360-original-size/fruits-360-original-size/Test/apple_golden_3/r1_75.jpg',\n",
       " '/kaggle/input/fruits/fruits-360-original-size/fruits-360-original-size/Test/apple_golden_3/r1_79.jpg',\n",
       " '/kaggle/input/fruits/fruits-360-original-size/fruits-360-original-size/Test/apple_golden_3/r1_83.jpg',\n",
       " '/kaggle/input/fruits/fruits-360-original-size/fruits-360-original-size/Test/apple_golden_3/r1_87.jpg',\n",
       " '/kaggle/input/fruits/fruits-360-original-size/fruits-360-original-size/Test/apple_golden_3/r1_91.jpg',\n",
       " '/kaggle/input/fruits/fruits-360-original-size/fruits-360-original-size/Test/apple_golden_3/r1_95.jpg',\n",
       " '/kaggle/input/fruits/fruits-360-original-size/fruits-360-original-size/Test/apple_golden_3/r1_99.jpg',\n",
       " '/kaggle/input/fruits/fruits-360-original-size/fruits-360-original-size/Test/apple_granny_smith_1/r0_103.jpg',\n",
       " '/kaggle/input/fruits/fruits-360-original-size/fruits-360-original-size/Test/apple_granny_smith_1/r0_107.jpg',\n",
       " '/kaggle/input/fruits/fruits-360-original-size/fruits-360-original-size/Test/apple_granny_smith_1/r0_11.jpg',\n",
       " '/kaggle/input/fruits/fruits-360-original-size/fruits-360-original-size/Test/apple_granny_smith_1/r0_111.jpg',\n",
       " '/kaggle/input/fruits/fruits-360-original-size/fruits-360-original-size/Test/apple_granny_smith_1/r0_115.jpg',\n",
       " '/kaggle/input/fruits/fruits-360-original-size/fruits-360-original-size/Test/apple_granny_smith_1/r0_119.jpg',\n",
       " '/kaggle/input/fruits/fruits-360-original-size/fruits-360-original-size/Test/apple_granny_smith_1/r0_123.jpg',\n",
       " '/kaggle/input/fruits/fruits-360-original-size/fruits-360-original-size/Test/apple_granny_smith_1/r0_127.jpg',\n",
       " '/kaggle/input/fruits/fruits-360-original-size/fruits-360-original-size/Test/apple_granny_smith_1/r0_131.jpg',\n",
       " '/kaggle/input/fruits/fruits-360-original-size/fruits-360-original-size/Test/apple_granny_smith_1/r0_135.jpg',\n",
       " '/kaggle/input/fruits/fruits-360-original-size/fruits-360-original-size/Test/apple_granny_smith_1/r0_139.jpg',\n",
       " '/kaggle/input/fruits/fruits-360-original-size/fruits-360-original-size/Test/apple_granny_smith_1/r0_143.jpg',\n",
       " '/kaggle/input/fruits/fruits-360-original-size/fruits-360-original-size/Test/apple_granny_smith_1/r0_147.jpg',\n",
       " '/kaggle/input/fruits/fruits-360-original-size/fruits-360-original-size/Test/apple_granny_smith_1/r0_15.jpg',\n",
       " '/kaggle/input/fruits/fruits-360-original-size/fruits-360-original-size/Test/apple_granny_smith_1/r0_151.jpg',\n",
       " '/kaggle/input/fruits/fruits-360-original-size/fruits-360-original-size/Test/apple_granny_smith_1/r0_155.jpg',\n",
       " '/kaggle/input/fruits/fruits-360-original-size/fruits-360-original-size/Test/apple_granny_smith_1/r0_159.jpg',\n",
       " '/kaggle/input/fruits/fruits-360-original-size/fruits-360-original-size/Test/apple_granny_smith_1/r0_163.jpg',\n",
       " '/kaggle/input/fruits/fruits-360-original-size/fruits-360-original-size/Test/apple_granny_smith_1/r0_167.jpg',\n",
       " '/kaggle/input/fruits/fruits-360-original-size/fruits-360-original-size/Test/apple_granny_smith_1/r0_171.jpg',\n",
       " '/kaggle/input/fruits/fruits-360-original-size/fruits-360-original-size/Test/apple_granny_smith_1/r0_175.jpg',\n",
       " '/kaggle/input/fruits/fruits-360-original-size/fruits-360-original-size/Test/apple_granny_smith_1/r0_179.jpg',\n",
       " '/kaggle/input/fruits/fruits-360-original-size/fruits-360-original-size/Test/apple_granny_smith_1/r0_183.jpg',\n",
       " '/kaggle/input/fruits/fruits-360-original-size/fruits-360-original-size/Test/apple_granny_smith_1/r0_187.jpg',\n",
       " '/kaggle/input/fruits/fruits-360-original-size/fruits-360-original-size/Test/apple_granny_smith_1/r0_19.jpg',\n",
       " '/kaggle/input/fruits/fruits-360-original-size/fruits-360-original-size/Test/apple_granny_smith_1/r0_191.jpg',\n",
       " '/kaggle/input/fruits/fruits-360-original-size/fruits-360-original-size/Test/apple_granny_smith_1/r0_195.jpg',\n",
       " '/kaggle/input/fruits/fruits-360-original-size/fruits-360-original-size/Test/apple_granny_smith_1/r0_199.jpg',\n",
       " '/kaggle/input/fruits/fruits-360-original-size/fruits-360-original-size/Test/apple_granny_smith_1/r0_203.jpg',\n",
       " '/kaggle/input/fruits/fruits-360-original-size/fruits-360-original-size/Test/apple_granny_smith_1/r0_207.jpg',\n",
       " '/kaggle/input/fruits/fruits-360-original-size/fruits-360-original-size/Test/apple_granny_smith_1/r0_211.jpg',\n",
       " '/kaggle/input/fruits/fruits-360-original-size/fruits-360-original-size/Test/apple_granny_smith_1/r0_215.jpg',\n",
       " '/kaggle/input/fruits/fruits-360-original-size/fruits-360-original-size/Test/apple_granny_smith_1/r0_219.jpg',\n",
       " '/kaggle/input/fruits/fruits-360-original-size/fruits-360-original-size/Test/apple_granny_smith_1/r0_223.jpg',\n",
       " '/kaggle/input/fruits/fruits-360-original-size/fruits-360-original-size/Test/apple_granny_smith_1/r0_227.jpg',\n",
       " '/kaggle/input/fruits/fruits-360-original-size/fruits-360-original-size/Test/apple_granny_smith_1/r0_23.jpg',\n",
       " '/kaggle/input/fruits/fruits-360-original-size/fruits-360-original-size/Test/apple_granny_smith_1/r0_231.jpg',\n",
       " '/kaggle/input/fruits/fruits-360-original-size/fruits-360-original-size/Test/apple_granny_smith_1/r0_235.jpg',\n",
       " '/kaggle/input/fruits/fruits-360-original-size/fruits-360-original-size/Test/apple_granny_smith_1/r0_239.jpg',\n",
       " '/kaggle/input/fruits/fruits-360-original-size/fruits-360-original-size/Test/apple_granny_smith_1/r0_243.jpg',\n",
       " '/kaggle/input/fruits/fruits-360-original-size/fruits-360-original-size/Test/apple_granny_smith_1/r0_247.jpg',\n",
       " '/kaggle/input/fruits/fruits-360-original-size/fruits-360-original-size/Test/apple_granny_smith_1/r0_251.jpg',\n",
       " '/kaggle/input/fruits/fruits-360-original-size/fruits-360-original-size/Test/apple_granny_smith_1/r0_255.jpg',\n",
       " '/kaggle/input/fruits/fruits-360-original-size/fruits-360-original-size/Test/apple_granny_smith_1/r0_259.jpg',\n",
       " '/kaggle/input/fruits/fruits-360-original-size/fruits-360-original-size/Test/apple_granny_smith_1/r0_263.jpg',\n",
       " '/kaggle/input/fruits/fruits-360-original-size/fruits-360-original-size/Test/apple_granny_smith_1/r0_267.jpg',\n",
       " '/kaggle/input/fruits/fruits-360-original-size/fruits-360-original-size/Test/apple_granny_smith_1/r0_27.jpg',\n",
       " '/kaggle/input/fruits/fruits-360-original-size/fruits-360-original-size/Test/apple_granny_smith_1/r0_271.jpg',\n",
       " '/kaggle/input/fruits/fruits-360-original-size/fruits-360-original-size/Test/apple_granny_smith_1/r0_275.jpg',\n",
       " '/kaggle/input/fruits/fruits-360-original-size/fruits-360-original-size/Test/apple_granny_smith_1/r0_279.jpg',\n",
       " '/kaggle/input/fruits/fruits-360-original-size/fruits-360-original-size/Test/apple_granny_smith_1/r0_283.jpg',\n",
       " '/kaggle/input/fruits/fruits-360-original-size/fruits-360-original-size/Test/apple_granny_smith_1/r0_287.jpg',\n",
       " '/kaggle/input/fruits/fruits-360-original-size/fruits-360-original-size/Test/apple_granny_smith_1/r0_291.jpg',\n",
       " '/kaggle/input/fruits/fruits-360-original-size/fruits-360-original-size/Test/apple_granny_smith_1/r0_295.jpg',\n",
       " '/kaggle/input/fruits/fruits-360-original-size/fruits-360-original-size/Test/apple_granny_smith_1/r0_299.jpg',\n",
       " '/kaggle/input/fruits/fruits-360-original-size/fruits-360-original-size/Test/apple_granny_smith_1/r0_3.jpg',\n",
       " '/kaggle/input/fruits/fruits-360-original-size/fruits-360-original-size/Test/apple_granny_smith_1/r0_303.jpg',\n",
       " '/kaggle/input/fruits/fruits-360-original-size/fruits-360-original-size/Test/apple_granny_smith_1/r0_307.jpg',\n",
       " ...]"
      ]
     },
     "execution_count": 32,
     "metadata": {},
     "output_type": "execute_result"
    }
   ],
   "source": [
    "images=test_data.filepaths\n",
    "images"
   ]
  },
  {
   "cell_type": "code",
   "execution_count": 33,
   "id": "d8560ac8",
   "metadata": {
    "execution": {
     "iopub.execute_input": "2024-07-31T15:55:54.125174Z",
     "iopub.status.busy": "2024-07-31T15:55:54.124752Z",
     "iopub.status.idle": "2024-07-31T15:55:54.552425Z",
     "shell.execute_reply": "2024-07-31T15:55:54.551398Z"
    },
    "papermill": {
     "duration": 0.730748,
     "end_time": "2024-07-31T15:55:54.554751",
     "exception": false,
     "start_time": "2024-07-31T15:55:53.824003",
     "status": "completed"
    },
    "tags": []
   },
   "outputs": [
    {
     "data": {
      "text/plain": [
       "Text(0.5, 1.0, 'real:cucumber_1\\npredicted:cucumber_1')"
      ]
     },
     "execution_count": 33,
     "metadata": {},
     "output_type": "execute_result"
    },
    {
     "data": {
      "image/png": "[encoded data removed]",
      "text/plain": [
       "<Figure size 640x480 with 1 Axes>"
      ]
     },
     "metadata": {},
     "output_type": "display_data"
    }
   ],
   "source": [
    "random=np.random.randint(0,3110)\n",
    "image=cv2.imread(images[random])\n",
    "image=cv2.cvtColor(image,cv2.COLOR_BGR2RGB)\n",
    "plt.imshow(image)\n",
    "plt.title('real:'+labels[test_data.classes[random]]+\n",
    "          '\\n'+\n",
    "          'predicted:'+labels[predictions_label[random]])"
   ]
  }
 ],
 "metadata": {
  "kaggle": {
   "accelerator": "nvidiaTeslaT4",
   "dataSources": [
    {
     "datasetId": 5857,
     "sourceId": 2609027,
     "sourceType": "datasetVersion"
    }
   ],
   "dockerImageVersionId": 30747,
   "isGpuEnabled": true,
   "isInternetEnabled": true,
   "language": "python",
   "sourceType": "notebook"
  },
  "kernelspec": {
   "display_name": "Python 3",
   "language": "python",
   "name": "python3"
  },
  "language_info": {
   "codemirror_mode": {
    "name": "ipython",
    "version": 3
   },
   "file_extension": ".py",
   "mimetype": "text/x-python",
   "name": "python",
   "nbconvert_exporter": "python",
   "pygments_lexer": "ipython3",
   "version": "3.10.13"
  },
  "papermill": {
   "default_parameters": {},
   "duration": 708.633953,
   "end_time": "2024-07-31T15:55:58.209956",
   "environment_variables": {},
   "exception": null,
   "input_path": "__notebook__.ipynb",
   "output_path": "__notebook__.ipynb",
   "parameters": {},
   "start_time": "2024-07-31T15:44:09.576003",
   "version": "2.5.0"
  }
 },
 "nbformat": 4,
 "nbformat_minor": 5
}
